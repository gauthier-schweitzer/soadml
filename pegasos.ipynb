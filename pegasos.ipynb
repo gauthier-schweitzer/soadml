{
 "cells": [
  {
   "cell_type": "markdown",
   "metadata": {},
   "source": [
    "# Pegasos"
   ]
  },
  {
   "cell_type": "markdown",
   "metadata": {},
   "source": [
    "Most literature on Support Vector Machines (SVMs) concentrate on\n",
    "the dual optimization problem. Whereas Pegasos points out that the primal problem itself coud be solved efficiently.\n",
    "\n",
    "Focus on linear SVM."
   ]
  },
  {
   "cell_type": "code",
   "execution_count": null,
   "metadata": {},
   "outputs": [],
   "source": []
  },
  {
   "cell_type": "markdown",
   "metadata": {},
   "source": [
    "## Data generation"
   ]
  },
  {
   "cell_type": "code",
   "execution_count": 159,
   "metadata": {},
   "outputs": [],
   "source": [
    "import numpy as np\n",
    "import pandas as pd\n",
    "import matplotlib.pyplot as plt\n",
    "import time\n",
    "from collections import namedtuple\n",
    "\n",
    "np.random.seed(0)\n",
    "\n",
    "n_samples, n_features = 10000, 50\n",
    "X = np.random.randn(n_samples, n_features)\n",
    "W_real = np.random.randn(n_features) \n",
    "Y = np.sign(X.dot(W_real) + np.random.randn(n_samples))"
   ]
  },
  {
   "cell_type": "markdown",
   "metadata": {},
   "source": [
    "## Preprocessing the data\n",
    "\n",
    "#### Normalization\n",
    "SVM tries to maximize the distance between the separating plane and the support vectors. If one feature (i.e. one dimension in this space) has very large values, it will dominate the other features when calculating the distance. If you rescale all features (e.g. to [0, 1]), they all have the same influence on the distance metric."
   ]
  },
  {
   "cell_type": "code",
   "execution_count": 160,
   "metadata": {},
   "outputs": [],
   "source": [
    "from sklearn import preprocessing\n",
    "X_scale= preprocessing.scale(X)"
   ]
  },
  {
   "cell_type": "code",
   "execution_count": 147,
   "metadata": {},
   "outputs": [
    {
     "data": {
      "text/html": [
       "<div>\n",
       "<style scoped>\n",
       "    .dataframe tbody tr th:only-of-type {\n",
       "        vertical-align: middle;\n",
       "    }\n",
       "\n",
       "    .dataframe tbody tr th {\n",
       "        vertical-align: top;\n",
       "    }\n",
       "\n",
       "    .dataframe thead th {\n",
       "        text-align: right;\n",
       "    }\n",
       "</style>\n",
       "<table border=\"1\" class=\"dataframe\">\n",
       "  <thead>\n",
       "    <tr style=\"text-align: right;\">\n",
       "      <th></th>\n",
       "      <th>0</th>\n",
       "      <th>1</th>\n",
       "      <th>2</th>\n",
       "      <th>3</th>\n",
       "      <th>4</th>\n",
       "      <th>5</th>\n",
       "      <th>6</th>\n",
       "      <th>7</th>\n",
       "      <th>8</th>\n",
       "      <th>9</th>\n",
       "      <th>...</th>\n",
       "      <th>40</th>\n",
       "      <th>41</th>\n",
       "      <th>42</th>\n",
       "      <th>43</th>\n",
       "      <th>44</th>\n",
       "      <th>45</th>\n",
       "      <th>46</th>\n",
       "      <th>47</th>\n",
       "      <th>48</th>\n",
       "      <th>49</th>\n",
       "    </tr>\n",
       "  </thead>\n",
       "  <tbody>\n",
       "    <tr>\n",
       "      <th>count</th>\n",
       "      <td>1.000000e+04</td>\n",
       "      <td>1.000000e+04</td>\n",
       "      <td>1.000000e+04</td>\n",
       "      <td>1.000000e+04</td>\n",
       "      <td>1.000000e+04</td>\n",
       "      <td>1.000000e+04</td>\n",
       "      <td>1.000000e+04</td>\n",
       "      <td>1.000000e+04</td>\n",
       "      <td>1.000000e+04</td>\n",
       "      <td>1.000000e+04</td>\n",
       "      <td>...</td>\n",
       "      <td>1.000000e+04</td>\n",
       "      <td>10000.000000</td>\n",
       "      <td>1.000000e+04</td>\n",
       "      <td>1.000000e+04</td>\n",
       "      <td>1.000000e+04</td>\n",
       "      <td>1.000000e+04</td>\n",
       "      <td>1.000000e+04</td>\n",
       "      <td>1.000000e+04</td>\n",
       "      <td>1.000000e+04</td>\n",
       "      <td>1.000000e+04</td>\n",
       "    </tr>\n",
       "    <tr>\n",
       "      <th>mean</th>\n",
       "      <td>-3.055334e-17</td>\n",
       "      <td>5.790923e-17</td>\n",
       "      <td>-2.700062e-17</td>\n",
       "      <td>5.044853e-17</td>\n",
       "      <td>-3.108624e-17</td>\n",
       "      <td>2.469136e-17</td>\n",
       "      <td>-3.197442e-17</td>\n",
       "      <td>-4.654055e-17</td>\n",
       "      <td>-1.207923e-17</td>\n",
       "      <td>-8.526513e-18</td>\n",
       "      <td>...</td>\n",
       "      <td>-4.050094e-17</td>\n",
       "      <td>0.000000</td>\n",
       "      <td>-2.557954e-17</td>\n",
       "      <td>4.867218e-17</td>\n",
       "      <td>2.557954e-17</td>\n",
       "      <td>-1.563194e-17</td>\n",
       "      <td>-3.979039e-17</td>\n",
       "      <td>-5.790923e-17</td>\n",
       "      <td>-4.973799e-18</td>\n",
       "      <td>1.421085e-18</td>\n",
       "    </tr>\n",
       "    <tr>\n",
       "      <th>std</th>\n",
       "      <td>1.000050e+00</td>\n",
       "      <td>1.000050e+00</td>\n",
       "      <td>1.000050e+00</td>\n",
       "      <td>1.000050e+00</td>\n",
       "      <td>1.000050e+00</td>\n",
       "      <td>1.000050e+00</td>\n",
       "      <td>1.000050e+00</td>\n",
       "      <td>1.000050e+00</td>\n",
       "      <td>1.000050e+00</td>\n",
       "      <td>1.000050e+00</td>\n",
       "      <td>...</td>\n",
       "      <td>1.000050e+00</td>\n",
       "      <td>1.000050</td>\n",
       "      <td>1.000050e+00</td>\n",
       "      <td>1.000050e+00</td>\n",
       "      <td>1.000050e+00</td>\n",
       "      <td>1.000050e+00</td>\n",
       "      <td>1.000050e+00</td>\n",
       "      <td>1.000050e+00</td>\n",
       "      <td>1.000050e+00</td>\n",
       "      <td>1.000050e+00</td>\n",
       "    </tr>\n",
       "    <tr>\n",
       "      <th>min</th>\n",
       "      <td>-3.528775e+00</td>\n",
       "      <td>-4.241572e+00</td>\n",
       "      <td>-3.748656e+00</td>\n",
       "      <td>-4.807973e+00</td>\n",
       "      <td>-3.447402e+00</td>\n",
       "      <td>-3.845229e+00</td>\n",
       "      <td>-3.653616e+00</td>\n",
       "      <td>-3.475923e+00</td>\n",
       "      <td>-4.263492e+00</td>\n",
       "      <td>-3.993324e+00</td>\n",
       "      <td>...</td>\n",
       "      <td>-4.266787e+00</td>\n",
       "      <td>-3.819606</td>\n",
       "      <td>-3.923899e+00</td>\n",
       "      <td>-3.581164e+00</td>\n",
       "      <td>-3.929283e+00</td>\n",
       "      <td>-4.226381e+00</td>\n",
       "      <td>-4.036770e+00</td>\n",
       "      <td>-3.505275e+00</td>\n",
       "      <td>-3.637163e+00</td>\n",
       "      <td>-4.210649e+00</td>\n",
       "    </tr>\n",
       "    <tr>\n",
       "      <th>25%</th>\n",
       "      <td>-6.694925e-01</td>\n",
       "      <td>-6.761657e-01</td>\n",
       "      <td>-6.799790e-01</td>\n",
       "      <td>-6.638791e-01</td>\n",
       "      <td>-6.786848e-01</td>\n",
       "      <td>-6.792431e-01</td>\n",
       "      <td>-6.851165e-01</td>\n",
       "      <td>-6.739504e-01</td>\n",
       "      <td>-6.787010e-01</td>\n",
       "      <td>-6.667995e-01</td>\n",
       "      <td>...</td>\n",
       "      <td>-6.673000e-01</td>\n",
       "      <td>-0.657993</td>\n",
       "      <td>-6.809715e-01</td>\n",
       "      <td>-6.801206e-01</td>\n",
       "      <td>-6.854098e-01</td>\n",
       "      <td>-6.696009e-01</td>\n",
       "      <td>-6.780757e-01</td>\n",
       "      <td>-6.773196e-01</td>\n",
       "      <td>-6.724490e-01</td>\n",
       "      <td>-6.726675e-01</td>\n",
       "    </tr>\n",
       "    <tr>\n",
       "      <th>50%</th>\n",
       "      <td>7.968174e-03</td>\n",
       "      <td>-8.385514e-04</td>\n",
       "      <td>-2.149095e-03</td>\n",
       "      <td>-5.008627e-03</td>\n",
       "      <td>5.223925e-03</td>\n",
       "      <td>1.715171e-03</td>\n",
       "      <td>-7.037973e-03</td>\n",
       "      <td>-5.071468e-03</td>\n",
       "      <td>8.124270e-04</td>\n",
       "      <td>-1.792881e-03</td>\n",
       "      <td>...</td>\n",
       "      <td>-2.617707e-03</td>\n",
       "      <td>0.000654</td>\n",
       "      <td>1.019184e-02</td>\n",
       "      <td>-5.271617e-03</td>\n",
       "      <td>-2.715387e-03</td>\n",
       "      <td>3.938627e-03</td>\n",
       "      <td>-4.482148e-03</td>\n",
       "      <td>1.307084e-02</td>\n",
       "      <td>4.099296e-03</td>\n",
       "      <td>8.299609e-03</td>\n",
       "    </tr>\n",
       "    <tr>\n",
       "      <th>75%</th>\n",
       "      <td>6.782644e-01</td>\n",
       "      <td>6.710383e-01</td>\n",
       "      <td>6.805330e-01</td>\n",
       "      <td>6.684502e-01</td>\n",
       "      <td>6.774109e-01</td>\n",
       "      <td>6.789516e-01</td>\n",
       "      <td>6.803765e-01</td>\n",
       "      <td>6.760663e-01</td>\n",
       "      <td>6.760136e-01</td>\n",
       "      <td>6.761831e-01</td>\n",
       "      <td>...</td>\n",
       "      <td>6.729562e-01</td>\n",
       "      <td>0.681586</td>\n",
       "      <td>6.919423e-01</td>\n",
       "      <td>6.898613e-01</td>\n",
       "      <td>6.704945e-01</td>\n",
       "      <td>6.704980e-01</td>\n",
       "      <td>6.820260e-01</td>\n",
       "      <td>6.831873e-01</td>\n",
       "      <td>6.807125e-01</td>\n",
       "      <td>6.793582e-01</td>\n",
       "    </tr>\n",
       "    <tr>\n",
       "      <th>max</th>\n",
       "      <td>3.400545e+00</td>\n",
       "      <td>3.536183e+00</td>\n",
       "      <td>3.505806e+00</td>\n",
       "      <td>3.751706e+00</td>\n",
       "      <td>3.557642e+00</td>\n",
       "      <td>3.620859e+00</td>\n",
       "      <td>4.055220e+00</td>\n",
       "      <td>3.606643e+00</td>\n",
       "      <td>3.727794e+00</td>\n",
       "      <td>3.899649e+00</td>\n",
       "      <td>...</td>\n",
       "      <td>3.703564e+00</td>\n",
       "      <td>3.461707</td>\n",
       "      <td>3.804062e+00</td>\n",
       "      <td>3.927934e+00</td>\n",
       "      <td>3.806133e+00</td>\n",
       "      <td>3.591497e+00</td>\n",
       "      <td>3.757283e+00</td>\n",
       "      <td>4.401787e+00</td>\n",
       "      <td>3.924877e+00</td>\n",
       "      <td>3.683498e+00</td>\n",
       "    </tr>\n",
       "  </tbody>\n",
       "</table>\n",
       "<p>8 rows × 50 columns</p>\n",
       "</div>"
      ],
      "text/plain": [
       "                 0             1             2             3             4   \\\n",
       "count  1.000000e+04  1.000000e+04  1.000000e+04  1.000000e+04  1.000000e+04   \n",
       "mean  -3.055334e-17  5.790923e-17 -2.700062e-17  5.044853e-17 -3.108624e-17   \n",
       "std    1.000050e+00  1.000050e+00  1.000050e+00  1.000050e+00  1.000050e+00   \n",
       "min   -3.528775e+00 -4.241572e+00 -3.748656e+00 -4.807973e+00 -3.447402e+00   \n",
       "25%   -6.694925e-01 -6.761657e-01 -6.799790e-01 -6.638791e-01 -6.786848e-01   \n",
       "50%    7.968174e-03 -8.385514e-04 -2.149095e-03 -5.008627e-03  5.223925e-03   \n",
       "75%    6.782644e-01  6.710383e-01  6.805330e-01  6.684502e-01  6.774109e-01   \n",
       "max    3.400545e+00  3.536183e+00  3.505806e+00  3.751706e+00  3.557642e+00   \n",
       "\n",
       "                 5             6             7             8             9   \\\n",
       "count  1.000000e+04  1.000000e+04  1.000000e+04  1.000000e+04  1.000000e+04   \n",
       "mean   2.469136e-17 -3.197442e-17 -4.654055e-17 -1.207923e-17 -8.526513e-18   \n",
       "std    1.000050e+00  1.000050e+00  1.000050e+00  1.000050e+00  1.000050e+00   \n",
       "min   -3.845229e+00 -3.653616e+00 -3.475923e+00 -4.263492e+00 -3.993324e+00   \n",
       "25%   -6.792431e-01 -6.851165e-01 -6.739504e-01 -6.787010e-01 -6.667995e-01   \n",
       "50%    1.715171e-03 -7.037973e-03 -5.071468e-03  8.124270e-04 -1.792881e-03   \n",
       "75%    6.789516e-01  6.803765e-01  6.760663e-01  6.760136e-01  6.761831e-01   \n",
       "max    3.620859e+00  4.055220e+00  3.606643e+00  3.727794e+00  3.899649e+00   \n",
       "\n",
       "           ...                 40            41            42            43  \\\n",
       "count      ...       1.000000e+04  10000.000000  1.000000e+04  1.000000e+04   \n",
       "mean       ...      -4.050094e-17      0.000000 -2.557954e-17  4.867218e-17   \n",
       "std        ...       1.000050e+00      1.000050  1.000050e+00  1.000050e+00   \n",
       "min        ...      -4.266787e+00     -3.819606 -3.923899e+00 -3.581164e+00   \n",
       "25%        ...      -6.673000e-01     -0.657993 -6.809715e-01 -6.801206e-01   \n",
       "50%        ...      -2.617707e-03      0.000654  1.019184e-02 -5.271617e-03   \n",
       "75%        ...       6.729562e-01      0.681586  6.919423e-01  6.898613e-01   \n",
       "max        ...       3.703564e+00      3.461707  3.804062e+00  3.927934e+00   \n",
       "\n",
       "                 44            45            46            47            48  \\\n",
       "count  1.000000e+04  1.000000e+04  1.000000e+04  1.000000e+04  1.000000e+04   \n",
       "mean   2.557954e-17 -1.563194e-17 -3.979039e-17 -5.790923e-17 -4.973799e-18   \n",
       "std    1.000050e+00  1.000050e+00  1.000050e+00  1.000050e+00  1.000050e+00   \n",
       "min   -3.929283e+00 -4.226381e+00 -4.036770e+00 -3.505275e+00 -3.637163e+00   \n",
       "25%   -6.854098e-01 -6.696009e-01 -6.780757e-01 -6.773196e-01 -6.724490e-01   \n",
       "50%   -2.715387e-03  3.938627e-03 -4.482148e-03  1.307084e-02  4.099296e-03   \n",
       "75%    6.704945e-01  6.704980e-01  6.820260e-01  6.831873e-01  6.807125e-01   \n",
       "max    3.806133e+00  3.591497e+00  3.757283e+00  4.401787e+00  3.924877e+00   \n",
       "\n",
       "                 49  \n",
       "count  1.000000e+04  \n",
       "mean   1.421085e-18  \n",
       "std    1.000050e+00  \n",
       "min   -4.210649e+00  \n",
       "25%   -6.726675e-01  \n",
       "50%    8.299609e-03  \n",
       "75%    6.793582e-01  \n",
       "max    3.683498e+00  \n",
       "\n",
       "[8 rows x 50 columns]"
      ]
     },
     "execution_count": 147,
     "metadata": {},
     "output_type": "execute_result"
    }
   ],
   "source": [
    "pd.DataFrame(X_scale).describe()"
   ]
  },
  {
   "cell_type": "markdown",
   "metadata": {},
   "source": [
    "# 1. Understanding the two algorithms"
   ]
  },
  {
   "cell_type": "markdown",
   "metadata": {},
   "source": [
    "### Define framework\n",
    "\n",
    "#### Functions toolbox"
   ]
  },
  {
   "cell_type": "code",
   "execution_count": 3,
   "metadata": {},
   "outputs": [],
   "source": [
    "def hinge_loss(x,y,w):\n",
    "    \"\"\"\n",
    "    Compute hinge loss for one observation\n",
    "    \n",
    "    Inputs\n",
    "        w: weight (size n_features)\n",
    "        x: covariates (size n_features)\n",
    "        y: outcome (size 1)\n",
    "    Output\n",
    "        hinge loss at observation (size 1)\n",
    "    \n",
    "    \"\"\"\n",
    "    prod= np.dot(x, w)\n",
    "    return np.maximum(0, 1- y*prod)\n",
    "\n",
    "def primal(w,X, Y, lamb,loss_funct= hinge_loss):\n",
    "    '''\n",
    "    Compute primal suboptimality of the model depending on loss function\n",
    "    \n",
    "    Inputs\n",
    "        w: weight (n_features)\n",
    "        X: covariates matrix (n_samples*n_features)\n",
    "        Y: outcome vector (n_samples)\n",
    "        loss_funct: loss function to consider (default: hinge_loss)\n",
    "    \n",
    "    Output\n",
    "        primal \n",
    "    '''\n",
    "    reg= (lamb/2)*np.linalg.norm(w, ord=2)\n",
    "    loss = np.mean(loss_funct(X,Y,w))\n",
    "    return reg + loss\n"
   ]
  },
  {
   "cell_type": "markdown",
   "metadata": {},
   "source": [
    "#### Setting  hyperparameters"
   ]
  },
  {
   "cell_type": "code",
   "execution_count": 100,
   "metadata": {},
   "outputs": [],
   "source": [
    "# Number of iteration\n",
    "n_epoch = 5\n",
    "n_iter = n_epoch*n_samples # for comparison purposes"
   ]
  },
  {
   "cell_type": "code",
   "execution_count": 101,
   "metadata": {},
   "outputs": [],
   "source": [
    "# Regularization parameter\n",
    "lamb=0.01"
   ]
  },
  {
   "cell_type": "markdown",
   "metadata": {},
   "source": [
    "### Pegasos: Basic implementation\n",
    "We want to show first here the behaviour of the basic implementation of Pegasos as described by Shalev-Shwartz et al. (2007). Additionally, the PEGASOS projection step is skipped, as it\n",
    "can be shown that even without it, $||w||^2 \\leq 4/\\lambda$ is maintained."
   ]
  },
  {
   "cell_type": "code",
   "execution_count": 102,
   "metadata": {},
   "outputs": [],
   "source": [
    "def pegasos_basic(X,Y,lamb, n_iter):\n",
    "    \"\"\"\n",
    "    Implement Pegasos in its basic definition\n",
    "    In Shalev-Shwartz, Shai, et al. \"Pegasos: Primal estimated sub-gradient solver for svm.\" \n",
    "    Mathematical programming 127.1 (2011): 3-30.\n",
    "    \n",
    "    Inputs:\n",
    "        X: covariates matrix (n_samples,n_features) \n",
    "        Y: outcome vector, coded as (-1,1), (n_samples)\n",
    "        lamb: regularization paramater\n",
    "        n_iter: number of iterations\n",
    "    \n",
    "    Outputs:\n",
    "        primal_: primal suboptimality at each iteration (n_iter)\n",
    "        rtime: running time for each iteration (n_iter)\n",
    "        w: final weights (n_features)\n",
    "    \n",
    "    \"\"\"\n",
    "    m = len(Y) #number of observations\n",
    "    rtime = [] #keeping track of running time\n",
    "    \n",
    "    # Initialisation\n",
    "    w= np.zeros(n_features) \n",
    "    primal_= []\n",
    "\n",
    "\n",
    "    for i in range(0,n_iter):\n",
    "\n",
    "        start_time = time.perf_counter()\n",
    "        \n",
    "        t=np.random.randint(m) # draw random index\n",
    "        eta = 1/(lamb*(i+1)) # define step size\n",
    "        \n",
    "        # Compute subgradient\n",
    "        x, y = X[t], Y[t]\n",
    "        subgrad= y*(w.dot(x))\n",
    "        \n",
    "        # Compute weight\n",
    "        if subgrad <1:\n",
    "            w=(1-eta*lamb)*w+ (eta*y)*x\n",
    "        else :\n",
    "             w=(1-eta*lamb)*w\n",
    "                \n",
    "        # Estimate running time\n",
    "        rtime.append(time.perf_counter() - start_time)\n",
    "        \n",
    "        # To monitor the optimization (excluded from rtime)\n",
    "        cost = primal(w,X,Y,lamb)\n",
    "        primal_.append(cost)\n",
    "        \n",
    "    print(\"total running time:\",sum(rtime), \"sec\") \n",
    "    print(\"final primal suboptimality:\", cost)\n",
    "\n",
    "    output = namedtuple(\"output\", [\"primal\", \"rtime\", \"w\"])\n",
    "    out= output(primal_, rtime, w)\n",
    "    return out\n",
    "    \n"
   ]
  },
  {
   "cell_type": "code",
   "execution_count": 161,
   "metadata": {},
   "outputs": [
    {
     "name": "stdout",
     "output_type": "stream",
     "text": [
      "total running time: 4.002757339570962 sec\n",
      "final primal suboptimality: 0.17202835659839033\n"
     ]
    }
   ],
   "source": [
    "result_peg_basic = pegasos_basic(X_scale,Y,lamb,n_iter)"
   ]
  },
  {
   "cell_type": "code",
   "execution_count": 162,
   "metadata": {},
   "outputs": [
    {
     "data": {
      "text/plain": [
       "<matplotlib.legend.Legend at 0x7fa4a6d3cd30>"
      ]
     },
     "execution_count": 162,
     "metadata": {},
     "output_type": "execute_result"
    },
    {
     "data": {
      "image/png": "[encoded data removed]",
      "text/plain": [
       "<matplotlib.figure.Figure at 0x7fa4a6d3cc88>"
      ]
     },
     "metadata": {},
     "output_type": "display_data"
    }
   ],
   "source": [
    "plt.plot(range(0,n_iter),result_peg_basic_scale.primal, label=\"Primal Suboptimality\")\n",
    "plt.xlabel(\"Number of iterations\")\n",
    "plt.ylim((0,1))\n",
    "plt.legend()"
   ]
  },
  {
   "cell_type": "markdown",
   "metadata": {},
   "source": [
    "### Pegasos: Variant implementation\n",
    "We used a variant of the previous method, with a single example used in each update: Following\n",
    "Bottou (Web Page), instead of sampling an example independently\n",
    "at each iteration, a random permutation over the training set\n",
    "is used. When the permutation is exhausted, a new, independent,\n",
    "random permutation is drawn. Although this variation does not\n",
    "match the theoretical analysis, it performs slightly better in practice, as in Shalev-Shwartz, Shai, and Nathan Srebro. \"SVM optimization: inverse dependence on training set size.\" Proceedings of the 25th international conference on Machine learning. ACM, 2008.\n",
    "\n",
    "**The idea**: performs the subgradient descent over all data points per pass. With this systematic method we avoid bias coming from neglecting a random portion of our dataset.\n",
    "\n",
    "**Impact on implementation**: we now think in terms of epoch rather than number of iterations\n"
   ]
  },
  {
   "cell_type": "code",
   "execution_count": 153,
   "metadata": {},
   "outputs": [],
   "source": [
    "def pegasos_mod(X,Y,lamb, n_epoch): \n",
    "    \"\"\"\n",
    "    Implement Pegasos in its variant definition\n",
    "    cf. Bottou.\n",
    "    Idea: define with regard to pass on the data\n",
    "    \n",
    "    Inputs:\n",
    "        X: covariates matrix (n_samples,n_features) \n",
    "        Y: outcome vector, coded as (-1,1), (n_samples)\n",
    "        lamb: regularization paramater\n",
    "        n_epoch: number of epoch\n",
    "    \n",
    "    Outputs:\n",
    "        primal_: primal suboptimality at each iteration (n_iter)\n",
    "        rtime: running time for each iteration (n_iter)\n",
    "        w: final weights (n_features)\n",
    "    \"\"\"\n",
    "    \n",
    "    m = len(Y) #number of observations\n",
    "\n",
    "    primal_= []\n",
    "    rtime = []\n",
    "    w= np.zeros(n_features) \n",
    "\n",
    "    for i in range(0, n_epoch):\n",
    "        \n",
    "        start_time = time.perf_counter() \n",
    "        \n",
    "        # Shuffle datasets\n",
    "        p= np.random.permutation(m)\n",
    "        Xs=X[p]\n",
    "        Ys=Y[p]\n",
    "        \n",
    "        # Subgradient descent over all data points\n",
    "        for t in range(0,m):\n",
    "            eta = 1/(lamb*(t+1))\n",
    "            x, y= Xs[t], Ys[t]\n",
    "            subgrad= y*(w.dot(x))\n",
    "            if subgrad <1:\n",
    "                w=(1-eta*lamb)*w+ (eta*y)*x\n",
    "            else:\n",
    "                w=(1-eta*lamb)*w\n",
    "                    \n",
    "        # Monitor convergence            \n",
    "        rtime.append(time.perf_counter() - start_time)\n",
    "        cost = primal(w,X,Y, lamb)\n",
    "        primal_.append(cost)\n",
    "\n",
    "    print(\"running time:\",sum(rtime)) \n",
    "    print(\"final primal suboptimality:\", cost)\n",
    "\n",
    "    output = namedtuple(\"output\", [\"primal\", \"rtime\", \"w\"])\n",
    "    out= output(primal_, rtime, w)\n",
    "    return out"
   ]
  },
  {
   "cell_type": "code",
   "execution_count": 163,
   "metadata": {},
   "outputs": [
    {
     "name": "stdout",
     "output_type": "stream",
     "text": [
      "running time: 0.7515393140056403\n",
      "final primal suboptimality: 0.17833339363121506\n"
     ]
    }
   ],
   "source": [
    "result_peg_mod = pegasos_mod(X_scale,Y, lamb, n_epoch)"
   ]
  },
  {
   "cell_type": "markdown",
   "metadata": {},
   "source": [
    "### Pegasos: comparison plot\n",
    "To make the comparison possible between the two variants we use as x axis the running time and as y the primal suboptimality estimated at each step of the algorithm. We've decided to focus thus on the variant proposed by Bottou."
   ]
  },
  {
   "cell_type": "code",
   "execution_count": 164,
   "metadata": {},
   "outputs": [
    {
     "data": {
      "text/plain": [
       "<matplotlib.legend.Legend at 0x7fa49853b5c0>"
      ]
     },
     "execution_count": 164,
     "metadata": {},
     "output_type": "execute_result"
    },
    {
     "data": {
      "image/png": "[encoded data removed]",
      "text/plain": [
       "<matplotlib.figure.Figure at 0x7fa498896f28>"
      ]
     },
     "metadata": {},
     "output_type": "display_data"
    }
   ],
   "source": [
    "plt.plot(np.cumsum(result_peg_mod.rtime),result_peg_mod.primal, label=\"Pegasos variant\")\n",
    "plt.plot(np.cumsum(result_peg_basic.rtime),result_peg_basic.primal, label=\"Pegasos basic\")\n",
    "plt.xlabel(\"Running time (sec)\")\n",
    "plt.ylabel(\"Primal Suboptimality\")\n",
    "plt.ylim((0,1))\n",
    "plt.legend()"
   ]
  },
  {
   "cell_type": "markdown",
   "metadata": {},
   "source": [
    "#### Running time per iteration\n",
    "To check if running time is constant across iteration as said in the article"
   ]
  },
  {
   "cell_type": "code",
   "execution_count": 81,
   "metadata": {},
   "outputs": [
    {
     "data": {
      "text/plain": [
       "[<matplotlib.lines.Line2D at 0x7fa499674a90>]"
      ]
     },
     "execution_count": 81,
     "metadata": {},
     "output_type": "execute_result"
    },
    {
     "data": {
      "image/png": "[encoded data removed]",
      "text/plain": [
       "<matplotlib.figure.Figure at 0x7fa4996ef240>"
      ]
     },
     "metadata": {},
     "output_type": "display_data"
    }
   ],
   "source": [
    "plt.plot(result_peg_basic.rtime) "
   ]
  },
  {
   "cell_type": "markdown",
   "metadata": {},
   "source": [
    "### Other variants\n",
    "\n",
    "Other implementations could have been followed. \n",
    "\n",
    "- A *mini-batch* version has been provided in the article. It has been shown that in practice no improvement is to see neither on running time nore in global performance. The only interesting aspect of this implementation is of course for parallelisation purposes but since we didn't plan to adapt our algorithm to this setting, we prefered not to follow this path.\n",
    "- A *kernelized* version exists for non linear SVM, with Mercier kernels. We prefer for comparison purpose and to handle the basic version to focus on linear SVM.\n",
    "- Include an *unregularized bias* in the loss which plays a role in unbalanced dataset: according to the authors, including an unregularized bias term does not significantly change the predictive performance for any of their data sets used. Furthermore, SDCA does not incorporate a bias term either. Nonetheless, there are clearly learning problems in specific setting (text processing for example)."
   ]
  },
  {
   "cell_type": "markdown",
   "metadata": {},
   "source": [
    "## 2. Experimental comparison\n",
    "\n",
    "### Setting the framework\n",
    "\n",
    "A key feature of algorithm implementation that we, for now, avoid to deal with is the **stopping criterion**. Indeed we know to set a common framework for performance comparison purposes. Nevertheless, if in the SDCA definition is included a stopping rule -namely a duality gap lower than a given threshold-, the Pegasos is not conceived with an intrinsec stopping rule.\n",
    "\n",
    "After several experiments and readings (especially a conference by Bottou -http://leon.bottou.org/slides/largescale/lstut.pdf), we came with the following setting.\n",
    "\n",
    "**Process**: Since we want to assess the performance both on the *running time* and on the *accuracy* of the final prediction, we create a split between a training set and a validation set over which to monitor the convergence. Why ? Because since we want to be able to generalize out of the sample our results, we think that even in the optimisation process, the metric should be estimated on a blind dataset.\n",
    "\n",
    "**Metric**: Several metrics could be used, but because of the spirit of the algorithm we've chosen to focus on the primal suboptimality as in Shalev-Shwartz et al. (2007) on the validation set.\n",
    "\n",
    "**Stopping criteria**: As explained in Bottou, we should stop the gradient descent when the cost function stop descreasing. For evaluating this phenomenon, we set the difference between the primal function previous and current epoch to be smaller than a given threshold. After several experiments, 0.0001 seems to be a good value, but it remains as hyperparameters in our function in case of.\n",
    "\n",
    "**Final goodness-of-fit evaluation**: Moreover to push a little further in this direction, we split before any computation, the original dataset in two, a training one and a test one, in order that after all optimisation of both algorithm their performances are computed on a totally new dataset.\n",
    "\n",
    "**In practice**: We split the original dataset in a training (80%) and a test (20%) set. Then each algorithm has for first step a partitioning of the train set in a training (80%) set and a validation (20%) set, such that the stopping criteria is computed over the validation set. Eventually our dataset kept for estimation entails circa 60% of the original one."
   ]
  },
  {
   "cell_type": "code",
   "execution_count": 167,
   "metadata": {},
   "outputs": [],
   "source": [
    "from sklearn.model_selection import train_test_split\n",
    "test_ratio = 0.2\n",
    "X_train, X_test, Y_train, Y_test = train_test_split(X, Y, test_size=test_ratio, \n",
    "                                                        shuffle=True, \n",
    "                                                        random_state = 0)"
   ]
  },
  {
   "cell_type": "code",
   "execution_count": 216,
   "metadata": {},
   "outputs": [],
   "source": [
    "def pegasos(X,Y,lamb, test_ratio=test_ratio, stop_thresh=0.0001 ): \n",
    "    \n",
    "    \"\"\"\n",
    "    Implement Pegasos in its variant definition \n",
    "    with stopping criterium on primal function estimated on a test dataset\n",
    "    \n",
    "    Inputs:\n",
    "        X: covariates matrix (n_samples,n_features) \n",
    "        Y: outcome vector, coded as (-1,1), (n_samples)\n",
    "        lamb: regularization paramater\n",
    "        n_epoch: number of epoch\n",
    "    \n",
    "    Outputs:\n",
    "        primal_: primal suboptimality at each iteration (n_iter)\n",
    "        rtime: running time for each iteration (n_iter)\n",
    "        w: final weights (n_features)\n",
    "    \"\"\"\n",
    "    \n",
    "    X_train, X_val, Y_train, Y_val = train_test_split(X, Y, test_size=test_ratio, shuffle=True, \n",
    "                                                        random_state = 0)\n",
    "    m = len(Y_train) #number of observations\n",
    "    \n",
    "    #Initialisation\n",
    "    primal_val= []\n",
    "    rtime = []\n",
    "    w= np.zeros(n_features) \n",
    "    i=0\n",
    "    diff =50 #random number greater than stop_thresh\n",
    "    \n",
    "    while (abs(diff) > stop_thresh):\n",
    "        \n",
    "        start_time = time.perf_counter()\n",
    "        \n",
    "        # Shuffle datasets\n",
    "        p= np.random.permutation(m)\n",
    "        Xs=X_train[p]\n",
    "        Ys=Y_train[p]\n",
    "        \n",
    "        # Estimation step\n",
    "        for t in range(0,m):\n",
    "            eta = 1/(lamb*(t+1))\n",
    "            x, y= Xs[t], Ys[t]\n",
    "            subgrad= y*(w.dot(x))\n",
    "            if subgrad <1:\n",
    "                w=(1-eta*lamb)*w+ (eta*y)*x\n",
    "            else:\n",
    "                w=(1-eta*lamb)*w\n",
    "                    \n",
    "        # Validation step\n",
    "        cost_val = primal(w,X_val,Y_val, lamb)\n",
    "        primal_val.append(cost_val)\n",
    "        \n",
    "        if i>2:\n",
    "            diff = primal_val[i] - primal_val[i-1]\n",
    "        \n",
    "        i+=1\n",
    "        rtime.append(time.perf_counter() - start_time)\n",
    "\n",
    "    print(\"total number of epoch:\",i) \n",
    "    print(\"running time:\",sum(rtime), \"sec\") \n",
    "\n",
    "    print(\"After optimisation\")\n",
    "    print(\"Primal on validation\", cost_val)\n",
    "    output = namedtuple(\"output\", [\"primal_val\",\"rtime\", \"w\"])\n",
    "    out= output(primal_val, rtime, w)\n",
    "    return out\n",
    "        "
   ]
  },
  {
   "cell_type": "code",
   "execution_count": 221,
   "metadata": {},
   "outputs": [
    {
     "name": "stdout",
     "output_type": "stream",
     "text": [
      "total number of epoch: 5\n",
      "running time: 0.5344926190082333 sec\n",
      "After optimisation\n",
      "Primal on validation 0.21269351259379504\n"
     ]
    }
   ],
   "source": [
    "result_peg = pegasos(X_train, Y_train, lamb, stop_thresh=0.01)"
   ]
  },
  {
   "cell_type": "code",
   "execution_count": 223,
   "metadata": {},
   "outputs": [
    {
     "data": {
      "text/plain": [
       "<matplotlib.legend.Legend at 0x7fa498588940>"
      ]
     },
     "execution_count": 223,
     "metadata": {},
     "output_type": "execute_result"
    },
    {
     "data": {
      "image/png": "[encoded data removed]",
      "text/plain": [
       "<matplotlib.figure.Figure at 0x7fa4a6b43080>"
      ]
     },
     "metadata": {},
     "output_type": "display_data"
    }
   ],
   "source": [
    "plt.plot(np.cumsum(result_peg.rtime),result_peg.primal_val, label = \"Pegasos augmented\")\n",
    "plt.ylim((0,1))\n",
    "plt.legend()\n"
   ]
  },
  {
   "cell_type": "markdown",
   "metadata": {},
   "source": [
    "## SDCA\n",
    "\n",
    "..."
   ]
  },
  {
   "cell_type": "markdown",
   "metadata": {},
   "source": [
    "## Assessing goodness-of-fit"
   ]
  },
  {
   "cell_type": "code",
   "execution_count": 75,
   "metadata": {},
   "outputs": [],
   "source": [
    "y_pred1 = np.sign(X.dot(test.w))\n",
    "y_pred2 = np.sign(X.dot(test1.w))\n",
    "\n",
    "from sklearn.metrics import f1_score\n",
    "print(\"f1 Bottou\",f1_score(Y, y_pred1))\n",
    "print(\"f1 normal\",f1_score(Y, y_pred2))\n",
    "\n",
    "from sklearn.metrics import confusion_matrix\n",
    "confusion_matrix(Y, y_pred2)\n",
    "\n",
    "from sklearn import metrics\n",
    "fpr, tpr, _ =metrics.roc_curve(Y, y_pred2)\n",
    "#roc_auc[\"micro\"] = auc(fpr[\"micro\"], tpr[\"micro\"])\n",
    "plt.figure()\n",
    "plt.plot([0, 1], [0, 1], 'k--')\n",
    "plt.plot(fpr, tpr, label='SVM (pegasos)')\n",
    "\n",
    "plt.xlabel('False positive rate')\n",
    "plt.ylabel('True positive rate')\n",
    "plt.title('ROC curve')\n",
    "plt.legend(loc='lower right')\n",
    "plt.show()"
   ]
  },
  {
   "cell_type": "code",
   "execution_count": null,
   "metadata": {},
   "outputs": [],
   "source": []
  },
  {
   "cell_type": "code",
   "execution_count": null,
   "metadata": {},
   "outputs": [],
   "source": []
  },
  {
   "cell_type": "code",
   "execution_count": null,
   "metadata": {},
   "outputs": [],
   "source": []
  },
  {
   "cell_type": "code",
   "execution_count": null,
   "metadata": {},
   "outputs": [],
   "source": []
  },
  {
   "cell_type": "markdown",
   "metadata": {},
   "source": [
    "# Garbage"
   ]
  },
  {
   "cell_type": "code",
   "execution_count": 210,
   "metadata": {},
   "outputs": [],
   "source": [
    "def pegasos_splitted(X,Y,lamb,test_ratio=test_ratio, stop_thresh=0.0001): \n",
    "    \"\"\"\n",
    "    Following notations in article:\n",
    "    X: matrix (m,n) (nbr of samples,n of features) \n",
    "    Y: outcome vector, size m coded as (-1,1)\n",
    "    W:\n",
    "    lamb: paramter for the step size\n",
    "    rtime: vector, size n_iter, to keep track of running time\n",
    "    \"\"\"\n",
    "    X_train, X_val, Y_train, Y_val = train_test_split(X, Y, test_size=test_ratio, shuffle=True, \n",
    "                                                        random_state = 0)\n",
    "    m = len(Y_train) #number of observations\n",
    "    n_features = X.shape[1] #number of features\n",
    "    primal_test= []\n",
    "    primal_train= []\n",
    "    rtime = []\n",
    "    \n",
    "    w= np.zeros(n_features)\n",
    "    print(\"Before optimisation\")\n",
    "    print(\"Primal on train\", primal(w,X_train,Y_train, lamb))\n",
    "    print(\"Primal on test\", primal(w,X_test,Y_test, lamb))\n",
    "\n",
    "\n",
    "    \n",
    "    i=0\n",
    "    diff =50 #initialisation\n",
    "    \n",
    "    while (abs(diff) > stop_thresh):\n",
    "        \n",
    "        start_time = time.time()\n",
    "\n",
    "        #Estimation step\n",
    "        t=np.random.randint(m)\n",
    "        eta = 1/(lamb*(i+1)) #step length decreasing with iteration (learning rate)\n",
    "        x, y = X_train[t], Y_train[t]\n",
    "        subgrad= y*(w.dot(x))\n",
    "        if subgrad <1:\n",
    "            w=(1-eta*lamb)*w+ (eta*y)*x\n",
    "        else :\n",
    "             w=(1-eta*lamb)*w\n",
    "        \n",
    "\n",
    "        # Validation step\n",
    "        cost_test = primal(w,X_test,Y_test, lamb)\n",
    "        primal_test.append(cost_test)\n",
    "\n",
    "        \n",
    "        \n",
    "        if i >50:\n",
    "            diff1 = primal_test[i] - primal_test[i-20]\n",
    "            diff2 = primal_test[i] - primal_test[i-10]\n",
    "            diff3 = primal_test[i] - primal_test[i-30]\n",
    "            diff4 = primal_test[i] - primal_test[i-40]\n",
    "            diff5 = primal_test[i] - primal_test[i-50]\n",
    "\n",
    "\n",
    "            diff = np.mean((diff1,diff2,diff3, diff4,diff5))\n",
    "        \n",
    "        rtime.append(time.time() - start_time)\n",
    "\n",
    "        # Monitoring\n",
    "        cost_train = primal(w,X_train,Y_train,lamb)\n",
    "        primal_train.append(cost_train)\n",
    "\n",
    "            \n",
    "        i+=1\n",
    "\n",
    "            \n",
    "    print(\"total number of iteration:\",i) \n",
    "    print(\"running time:\",sum(rtime)) \n",
    "\n",
    "    print(\"After optimisation\")\n",
    "    print(\"Primal on train\", primal(w,X_train,Y_train, lamb))\n",
    "    print(\"Primal on test\", primal(w,X_test,Y_test, lamb))\n",
    "    output = namedtuple(\"output\", [\"primal_test\",\"primal_train\", \"rtime\", \"w\"])\n",
    "    out= output(primal_test,primal_train, rtime, w)\n",
    "    return out\n",
    "            "
   ]
  },
  {
   "cell_type": "code",
   "execution_count": 189,
   "metadata": {},
   "outputs": [],
   "source": [
    "def pegasos_iter(X,Y,lamb,n_iter,test_ratio=0.2, stop_thresh=0.01): \n",
    "    \"\"\"\n",
    "    Following notations in article:\n",
    "    X: matrix (m,n) (nbr of samples,n of features) \n",
    "    Y: outcome vector, size m coded as (-1,1)\n",
    "    W:\n",
    "    lamb: paramter for the step size\n",
    "    rtime: vector, size n_iter, to keep track of running time\n",
    "    \"\"\"\n",
    "\n",
    "    m = len(Y) #number of observations\n",
    "    n_features = X.shape[1] #number of features\n",
    "    primal_test= []\n",
    "    primal_train= []\n",
    "    rtime = []\n",
    "    \n",
    "    w= np.zeros(n_features)\n",
    "    \n",
    "    cost_test = 50\n",
    "    diff =50\n",
    "    \n",
    "    for i in range(0,n_iter):\n",
    "        start_time = time.time()\n",
    "\n",
    "        #Estimation step\n",
    "        t=np.random.randint(m)\n",
    "        eta = 1/(lamb*(i+1)) #step length decreasing with iteration (learning rate)\n",
    "        x, y = X[t], Y[t]\n",
    "        subgrad= y*(w.dot(x))\n",
    "        if subgrad <1:\n",
    "            w=(1-eta*lamb)*w+ (eta*y)*x\n",
    "        else :\n",
    "             w=(1-eta*lamb)*w\n",
    "        rtime.append(time.time() - start_time)\n",
    "\n",
    "        # Validation step\n",
    "        cost_train = primal(w,X,Y,lamb)\n",
    "        primal_train.append(cost_train)\n",
    "        \n",
    "\n",
    "\n",
    "\n",
    "            \n",
    "    print(\"total number of iteration:\",i)    \n",
    "    output = namedtuple(\"output\", [\"primal_train\", \"rtime\", \"w\"])\n",
    "    out= output(primal_train, rtime, w)\n",
    "    return out\n",
    "            "
   ]
  },
  {
   "cell_type": "markdown",
   "metadata": {},
   "source": [
    "### Understanding the learning rate"
   ]
  },
  {
   "cell_type": "code",
   "execution_count": 214,
   "metadata": {
    "scrolled": true
   },
   "outputs": [
    {
     "name": "stdout",
     "output_type": "stream",
     "text": [
      "Before optimisation\n",
      "Primal on train 1.0\n",
      "Primal on test 1.0\n",
      "total number of iteration: 564\n",
      "running time: 0.3641219139099121\n",
      "After optimisation\n",
      "Primal on train 0.425671165503549\n",
      "Primal on test 0.4479601208798134\n"
     ]
    }
   ],
   "source": [
    "out1 = pegasos_splitted(X_train,Y_train, lamb= 0.1,stop_thresh=0.0001)\n"
   ]
  },
  {
   "cell_type": "code",
   "execution_count": 215,
   "metadata": {},
   "outputs": [
    {
     "data": {
      "text/plain": [
       "<matplotlib.legend.Legend at 0x7fa4a6b3cc50>"
      ]
     },
     "execution_count": 215,
     "metadata": {},
     "output_type": "execute_result"
    },
    {
     "data": {
      "image/png": "[encoded data removed]",
      "text/plain": [
       "<matplotlib.figure.Figure at 0x7fa4a6b91828>"
      ]
     },
     "metadata": {},
     "output_type": "display_data"
    }
   ],
   "source": [
    "plt.plot(out1.primal_train, label = \"train\")\n",
    "plt.plot(out1.primal_test)\n",
    "plt.legend()"
   ]
  },
  {
   "cell_type": "code",
   "execution_count": 190,
   "metadata": {},
   "outputs": [
    {
     "name": "stdout",
     "output_type": "stream",
     "text": [
      "total number of iteration: 999\n"
     ]
    }
   ],
   "source": [
    "out2 = pegasos_iter(X,Y, lamb= 1,n_iter=1000)\n"
   ]
  },
  {
   "cell_type": "code",
   "execution_count": 192,
   "metadata": {},
   "outputs": [
    {
     "data": {
      "text/plain": [
       "<matplotlib.legend.Legend at 0x7ffacbef1e48>"
      ]
     },
     "execution_count": 192,
     "metadata": {},
     "output_type": "execute_result"
    },
    {
     "data": {
      "image/png": "[encoded data removed]",
      "text/plain": [
       "<matplotlib.figure.Figure at 0x7ffacc0b4748>"
      ]
     },
     "metadata": {},
     "output_type": "display_data"
    }
   ],
   "source": [
    "plt.plot(out2.primal_train, label = \"train\")\n",
    "plt.legend()"
   ]
  },
  {
   "cell_type": "code",
   "execution_count": 152,
   "metadata": {},
   "outputs": [
    {
     "data": {
      "text/plain": [
       "<matplotlib.legend.Legend at 0x7f47eeeb07f0>"
      ]
     },
     "execution_count": 152,
     "metadata": {},
     "output_type": "execute_result"
    },
    {
     "data": {
      "image/png": "[encoded data removed]",
      "text/plain": [
       "<matplotlib.figure.Figure at 0x7f47eee97400>"
      ]
     },
     "metadata": {},
     "output_type": "display_data"
    }
   ],
   "source": [
    "plt.plot(np.cumsum(out2.rtime),out2.primal_test,label= 'lambda1')\n",
    "plt.plot(np.cumsum(out1.rtime),out1.primal_test, label= 'lambda')\n",
    "plt.legend(loc='best')"
   ]
  },
  {
   "cell_type": "code",
   "execution_count": 161,
   "metadata": {},
   "outputs": [
    {
     "name": "stdout",
     "output_type": "stream",
     "text": [
      "lambda: 0.001\n",
      "cost_test 76.71423592504631\n",
      "cost_test 41.49050893906336\n",
      "cost_test 22.28633596518227\n",
      "cost_test 19.199332374107826\n",
      "cost_test 13.236111596745824\n",
      "cost_test 9.943340644543282\n",
      "cost_test 11.036337911107388\n",
      "cost_test 7.752421109596766\n",
      "cost_test 5.765840134663635\n",
      "cost_test 3.6181557182903994\n",
      "cost_test 3.5063259048646533\n",
      "cost_test 3.3285169651480353\n",
      "cost_test 2.6706240840413056\n",
      "cost_test 3.33248124708189\n",
      "cost_test 3.148564448859169\n",
      "total number of iteration: 751\n",
      "lambda: 0.01\n",
      "cost_test 11.177086195668625\n",
      "cost_test 2.940265176650385\n",
      "cost_test 2.4797081163222208\n",
      "cost_test 1.287102699065932\n",
      "cost_test 1.2690688061169686\n",
      "cost_test 1.1055883058330607\n",
      "cost_test 1.0218278967287593\n",
      "cost_test 0.7233771021934865\n",
      "cost_test 0.7149008223275937\n",
      "cost_test 0.8228101535042855\n",
      "cost_test 0.7137077682717758\n",
      "cost_test 0.7624496435954801\n",
      "cost_test 0.8001593249270987\n",
      "cost_test 0.7003290378503105\n",
      "cost_test 0.5682606904999598\n",
      "cost_test 0.6111357991714241\n",
      "cost_test 0.5332443260663485\n",
      "cost_test 0.46396318061077024\n",
      "cost_test 0.37520866367463435\n",
      "cost_test 0.41235015982251966\n",
      "cost_test 0.3963080823329246\n",
      "cost_test 0.4188618722114031\n",
      "cost_test 0.4353012909035676\n",
      "cost_test 0.3988856495638475\n",
      "cost_test 0.3984199671729347\n",
      "cost_test 0.32491137911499657\n",
      "cost_test 0.3102279840516665\n",
      "cost_test 0.3514284551885594\n",
      "total number of iteration: 1443\n",
      "lambda: 0.1\n",
      "cost_test 1.4472540190595116\n",
      "cost_test 0.8546157051234055\n",
      "cost_test 0.650631792960393\n",
      "cost_test 0.5671500982930022\n",
      "total number of iteration: 216\n",
      "lambda: 1\n",
      "cost_test 1.143634126293819\n",
      "cost_test 0.9930080803870993\n",
      "cost_test 0.9637817105388116\n",
      "cost_test 0.9573105749498647\n",
      "cost_test 0.9348783546050465\n",
      "cost_test 0.9295734199184088\n",
      "cost_test 0.912222736459127\n",
      "cost_test 0.9168400636676887\n",
      "cost_test 0.9115506084540093\n",
      "cost_test 0.90194782810602\n",
      "cost_test 0.8931747272314365\n",
      "cost_test 0.8883849483430278\n",
      "total number of iteration: 626\n",
      "lambda: 10\n",
      "cost_test 1.5255754231072602\n",
      "cost_test 1.3978794560313847\n",
      "cost_test 1.4037634463504782\n",
      "total number of iteration: 191\n",
      "lambda: 100\n",
      "cost_test 1.589777225438918\n",
      "cost_test 1.515019085805193\n",
      "cost_test 1.472910725935473\n",
      "total number of iteration: 166\n"
     ]
    },
    {
     "data": {
      "image/png": "[encoded data removed]",
      "text/plain": [
       "<matplotlib.figure.Figure at 0x7ffacc664588>"
      ]
     },
     "metadata": {},
     "output_type": "display_data"
    }
   ],
   "source": [
    "lambdas = [0.001,0.01,0.1,1,10,100]\n",
    "\n",
    "for l in lambdas: \n",
    "    print('lambda: {}'.format(l))\n",
    "    out = pegasos_splitted(X,Y,l,stop_thresh=0.0001)\n",
    "    plt.plot(np.cumsum(out.rtime),out.primal_test, label= 'lambda: {}'.format(l))\n",
    "\n",
    "plt.ylim(0,200)\n",
    "plt.legend(loc='best')\n",
    "plt.show()\n",
    "    "
   ]
  },
  {
   "cell_type": "code",
   "execution_count": 156,
   "metadata": {},
   "outputs": [],
   "source": [
    "out = pegasos_splitted(X,Y,5)"
   ]
  },
  {
   "cell_type": "code",
   "execution_count": 157,
   "metadata": {},
   "outputs": [
    {
     "data": {
      "text/plain": [
       "[0.7310085406300538]"
      ]
     },
     "execution_count": 157,
     "metadata": {},
     "output_type": "execute_result"
    }
   ],
   "source": [
    "out.primal_test"
   ]
  },
  {
   "cell_type": "code",
   "execution_count": 53,
   "metadata": {},
   "outputs": [],
   "source": [
    "primal_test, rtime, w =pegasos_splitted(X,Y,lamb)"
   ]
  },
  {
   "cell_type": "code",
   "execution_count": 148,
   "metadata": {},
   "outputs": [
    {
     "data": {
      "text/plain": [
       "6.586488399075818"
      ]
     },
     "execution_count": 148,
     "metadata": {},
     "output_type": "execute_result"
    }
   ],
   "source": [
    "# Un biais important\n",
    "np.linalg.norm((out1.w, W_real))"
   ]
  },
  {
   "cell_type": "code",
   "execution_count": 57,
   "metadata": {},
   "outputs": [
    {
     "data": {
      "text/plain": [
       "[<matplotlib.lines.Line2D at 0x7f47ef6bd438>]"
      ]
     },
     "execution_count": 57,
     "metadata": {},
     "output_type": "execute_result"
    },
    {
     "data": {
      "image/png": "[encoded data removed]",
      "text/plain": [
       "<matplotlib.figure.Figure at 0x7f47ef6a62b0>"
      ]
     },
     "metadata": {},
     "output_type": "display_data"
    }
   ],
   "source": [
    "plt.plot(np.cumsum(rtime), primal_test)"
   ]
  },
  {
   "cell_type": "code",
   "execution_count": null,
   "metadata": {},
   "outputs": [],
   "source": [
    "plt.plot(np.cumsum(rtime),loss)"
   ]
  },
  {
   "cell_type": "markdown",
   "metadata": {},
   "source": [
    "### Arrange Pegasos"
   ]
  },
  {
   "cell_type": "code",
   "execution_count": 212,
   "metadata": {},
   "outputs": [
    {
     "name": "stdout",
     "output_type": "stream",
     "text": [
      "total number of epoch: 25\n",
      "running time: 3.3398742739882437 sec\n",
      "After optimisation\n",
      "Primal on validation 0.2049389903396322\n"
     ]
    }
   ],
   "source": [
    "test = pegasos(X_train,Y_train, lamb= 0.01)"
   ]
  },
  {
   "cell_type": "code",
   "execution_count": 213,
   "metadata": {},
   "outputs": [
    {
     "data": {
      "text/plain": [
       "<matplotlib.legend.Legend at 0x7fa4a6b95470>"
      ]
     },
     "execution_count": 213,
     "metadata": {},
     "output_type": "execute_result"
    },
    {
     "data": {
      "image/png": "[encoded data removed]",
      "text/plain": [
       "<matplotlib.figure.Figure at 0x7fa4a6b85358>"
      ]
     },
     "metadata": {},
     "output_type": "display_data"
    }
   ],
   "source": [
    "plt.plot(np.cumsum(test.rtime),test.primal_val, label = \"train\")\n",
    "plt.ylim((0,1))\n",
    "plt.legend()\n"
   ]
  },
  {
   "cell_type": "code",
   "execution_count": 55,
   "metadata": {},
   "outputs": [
    {
     "data": {
      "text/plain": [
       "<matplotlib.legend.Legend at 0x7fb736f71358>"
      ]
     },
     "execution_count": 55,
     "metadata": {},
     "output_type": "execute_result"
    },
    {
     "data": {
      "image/png": "[encoded data removed]",
      "text/plain": [
       "<matplotlib.figure.Figure at 0x7fb73703e6d8>"
      ]
     },
     "metadata": {},
     "output_type": "display_data"
    }
   ],
   "source": [
    "plt.plot(np.cumsum(test1.rtime),test1.primal_train, label = \"train\")\n",
    "plt.plot(np.cumsum(test1.rtime),test1.primal_test)\n",
    "plt.legend()"
   ]
  },
  {
   "cell_type": "code",
   "execution_count": null,
   "metadata": {},
   "outputs": [],
   "source": [
    "primal_pegasos_fast= np.zeros(n_epoch)\n",
    "for i in range(0,n_epoch):\n",
    "    w= W_fast[i]\n",
    "    primal_pegasos[i]=primal(w,X,Y)"
   ]
  },
  {
   "cell_type": "code",
   "execution_count": null,
   "metadata": {},
   "outputs": [],
   "source": [
    "primal_pegasos_fast"
   ]
  },
  {
   "cell_type": "code",
   "execution_count": null,
   "metadata": {},
   "outputs": [],
   "source": [
    "W_fast"
   ]
  },
  {
   "cell_type": "markdown",
   "metadata": {},
   "source": [
    "# Results"
   ]
  },
  {
   "cell_type": "code",
   "execution_count": 62,
   "metadata": {},
   "outputs": [
    {
     "data": {
      "text/plain": [
       "array([ 1., -1.,  1., ...,  1., -1.,  1.])"
      ]
     },
     "execution_count": 62,
     "metadata": {},
     "output_type": "execute_result"
    }
   ],
   "source": [
    "Y"
   ]
  }
 ],
 "metadata": {
  "kernelspec": {
   "display_name": "Python 3",
   "language": "python",
   "name": "python3"
  },
  "language_info": {
   "codemirror_mode": {
    "name": "ipython",
    "version": 3
   },
   "file_extension": ".py",
   "mimetype": "text/x-python",
   "name": "python",
   "nbconvert_exporter": "python",
   "pygments_lexer": "ipython3",
   "version": "3.5.2"
  }
 },
 "nbformat": 4,
 "nbformat_minor": 2
}
