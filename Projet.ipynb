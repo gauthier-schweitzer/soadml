{
 "cells": [
  {
   "cell_type": "markdown",
   "metadata": {},
   "source": [
    "# SDCA"
   ]
  },
  {
   "cell_type": "markdown",
   "metadata": {},
   "source": [
    "On commence par mettre en place un algorithme SDCA classique"
   ]
  },
  {
   "cell_type": "markdown",
   "metadata": {},
   "source": [
    "### Génération des données"
   ]
  },
  {
   "cell_type": "code",
   "execution_count": 215,
   "metadata": {},
   "outputs": [],
   "source": [
    "import numpy as np\n",
    "import pandas as pd\n",
    "import matplotlib.pyplot as plt\n",
    "import time\n",
    "from prettytable import PrettyTable\n",
    "\n",
    "np.random.seed(0)\n",
    "\n",
    "n_samples, n_features = 10000, 25\n",
    "X = np.random.randn(n_features, n_samples)\n",
    "w_real = np.random.randn(n_features)\n",
    "y = np.sign(np.dot(X.T,w_real) + np.random.randn(n_samples))"
   ]
  },
  {
   "cell_type": "markdown",
   "metadata": {
    "collapsed": true
   },
   "source": [
    "### Définition des fonctions de perte"
   ]
  },
  {
   "cell_type": "markdown",
   "metadata": {},
   "source": [
    "> On introduit un wrapper, au cas où l'on souhaite tester d'autres fonctions de perte"
   ]
  },
  {
   "cell_type": "code",
   "execution_count": 216,
   "metadata": {
    "collapsed": true
   },
   "outputs": [],
   "source": [
    "class LossFunc:\n",
    "    \n",
    "    def __init__(self):\n",
    "        self.primal = None\n",
    "        self.dual = None\n",
    "        self.sdca_update = None\n",
    "        self.sgd_update = None\n",
    "        self.pegasos_batch_update = None\n",
    "    \n",
    "    def set_primal(self, func):\n",
    "        self.primal = func\n",
    "    \n",
    "    def set_dual(self, func):\n",
    "        self.dual = func\n",
    "    \n",
    "    def set_sdca_update(self, func):\n",
    "        self.sdca_update = func\n",
    "    \n",
    "    def set_sgd_update(self, func):\n",
    "        self.sgd_update = func\n",
    "    \n",
    "    def set_pegasos_batch_update(self, func):\n",
    "        self.pegasos_batch_update = func"
   ]
  },
  {
   "cell_type": "markdown",
   "metadata": {},
   "source": [
    "#### Hinge loss"
   ]
  },
  {
   "cell_type": "markdown",
   "metadata": {},
   "source": [
    "On applique le wrapper à la hinge loss"
   ]
  },
  {
   "cell_type": "code",
   "execution_count": 217,
   "metadata": {},
   "outputs": [],
   "source": [
    "# Perte primale\n",
    "def hinge_loss(a, y):\n",
    "    \"\"\"\n",
    "        y: label\n",
    "        a: prediction\n",
    "    \"\"\"\n",
    "    return np.maximum(0, 1 - y * a)\n",
    "\n",
    "# Duale\n",
    "def hinge_dual(u, y):\n",
    "    \"\"\"\n",
    "        y: label\n",
    "        u: prediction\n",
    "    \"\"\"\n",
    "    prod = u * y\n",
    "    prod[prod > 0] = np.inf\n",
    "    prod[prod < -1] = np.inf\n",
    "    return prod\n",
    "\n",
    "# Update de alpha\n",
    "def hinge_update(y, w, x, n, lamb, alpha, gamma=0):\n",
    "    # p.577 du papier\n",
    "    \"\"\"\n",
    "        Update alpha pour la hinge loss\n",
    "        y: label\n",
    "        w: poids actuels\n",
    "        x: inputs\n",
    "        n: nombre de samples\n",
    "        lamb: step\n",
    "        alpha: variable du dual (reel)\n",
    "        gamma: smoothness\n",
    "    \"\"\"\n",
    "    n=x.shape[0]\n",
    "    minim = min(1, ((1-np.dot(x.T,w)*y)*n*lamb/(np.power(np.linalg.norm(x), 2))+alpha*y))\n",
    "    delta_alpha = y* max(0, minim)-alpha\n",
    "    return (delta_alpha) \n",
    "\n",
    "hinge = LossFunc()\n",
    "hinge.set_primal(hinge_loss)\n",
    "hinge.set_dual(hinge_dual)\n",
    "hinge.set_sdca_update(hinge_update)"
   ]
  },
  {
   "cell_type": "markdown",
   "metadata": {},
   "source": [
    "#### Smoothed hinge loss"
   ]
  },
  {
   "cell_type": "code",
   "execution_count": 218,
   "metadata": {},
   "outputs": [
    {
     "ename": "SyntaxError",
     "evalue": "invalid syntax (<ipython-input-218-73140c78bcb6>, line 33)",
     "output_type": "error",
     "traceback": [
      "\u001b[0;36m  File \u001b[0;32m\"<ipython-input-218-73140c78bcb6>\"\u001b[0;36m, line \u001b[0;32m33\u001b[0m\n\u001b[0;31m    delta_alpha = y*max(0, minim)-alpha\u001b[0m\n\u001b[0m              ^\u001b[0m\n\u001b[0;31mSyntaxError\u001b[0m\u001b[0;31m:\u001b[0m invalid syntax\n"
     ]
    }
   ],
   "source": [
    "# On définit la fonction qui update alpha pour la hinge loss\n",
    "    \n",
    "    \n",
    "# On définit la fonction qui update alpha pour la absolute deviation loss \n",
    "def update_absolute_deviation_loss(y, w, x, n, lamb, alpha, gamma=0):\n",
    "    \"\"\"\n",
    "        Update alpha pour la absolute deviation loss\n",
    "        y: label\n",
    "        w: poids actuels\n",
    "        x: inputs\n",
    "        n: nombre de samples\n",
    "        lamb: step\n",
    "        alpha: variable du dual\n",
    "        gamma: smoothness\n",
    "    \"\"\"\n",
    "    minim = min(1, ((y-np.dot(x.T,w))/(np.power(np.linalg.norm(x), 2)/(lamb*n)))+alpha)\n",
    "    delta_alpha = max(-1, minim)-alpha\n",
    "    return (delta_alpha)\n",
    "\n",
    "# On définit la fonction qui update alpha pour la smooth hinge loss \n",
    "def update_smoothed_hinge_loss(y, w, x, n, lamb, alpha, gamma):\n",
    "    \"\"\"\n",
    "        Update alpha pour la smoothed hinge loss \n",
    "        y: label\n",
    "        w: poids actuels\n",
    "        x: inputs\n",
    "        n: nombre de samples\n",
    "        lamb: step\n",
    "        alpha: variable du dual\n",
    "        gamma: smoothness\n",
    "    \"\"\"\n",
    "    minim = min(1, ((1-np.dot(x.T,w)*y-gamma*alpha*y)/(np.power(np.linalg.norm(x), 2/(lamb*n+gamma)))+alpha*y)\n",
    "    delta_alpha = y*max(0, minim)-alpha\n",
    "    return (delta_alpha)"
   ]
  },
  {
   "cell_type": "markdown",
   "metadata": {},
   "source": [
    "### Définition de l'algorithme"
   ]
  },
  {
   "cell_type": "markdown",
   "metadata": {},
   "source": [
    "#### Fonctions intermédiaires"
   ]
  },
  {
   "cell_type": "markdown",
   "metadata": {},
   "source": [
    "On commence par mettre en place plusieurs fonctions qui vont nous être utiles dans l'algorithme"
   ]
  },
  {
   "cell_type": "code",
   "execution_count": 219,
   "metadata": {
    "collapsed": true
   },
   "outputs": [],
   "source": [
    "def w_from_alpha(alpha, X, lamb):\n",
    "    \"\"\"\n",
    "        Obtenir les poids w du primal a partir de alpha\n",
    "        alpha: vecteur de poids dans le dual\n",
    "        X: variables explicatives\n",
    "        lamb: regularisation\n",
    "    \"\"\"\n",
    "    n = X.shape[1]\n",
    "    return (1 / (n * lamb)) * np.dot(X,alpha)"
   ]
  },
  {
   "cell_type": "code",
   "execution_count": 220,
   "metadata": {
    "collapsed": true
   },
   "outputs": [],
   "source": [
    "# La def est p.573 du papier\n",
    "def cum_loss_primal(w, X, y, lamb, lossfunction):\n",
    "    \"\"\"\n",
    "        Calculer la loss primale cumulee (inclut penalisation)\n",
    "        w: vecteur de poids dans le primal\n",
    "        X: variables explicatives\n",
    "        y: label a predire\n",
    "        lamb: regularisation\n",
    "        lossfunction: choix du type de perte\n",
    "    \"\"\"\n",
    "    cumloss = np.mean(lossfunction.primal(np.dot(X.T,w), y))\n",
    "    penal = (lamb / 2) * np.power(np.linalg.norm(w), 2)\n",
    "    return cumloss + penal"
   ]
  },
  {
   "cell_type": "code",
   "execution_count": 221,
   "metadata": {
    "collapsed": true
   },
   "outputs": [],
   "source": [
    "# La def est p.573 du papier\n",
    "def cum_loss_dual(alpha, X, y, lamb, lossfunction):\n",
    "    \"\"\"\n",
    "        Calculer la loss duale cumulee (inclut penalisation)\n",
    "        alpha: vecteur de poids dans le dual\n",
    "        X: variables explicatives\n",
    "        y: label a predire\n",
    "        lamb: regularisation\n",
    "        lossfunction: choix du type de perte\n",
    "    \"\"\"   \n",
    "    # On doit d'abord extraire w de alpha\n",
    "    w = w_from_alpha(alpha, X, lamb)\n",
    "    cumloss = np.mean(- lossfunction.dual(- alpha, y))\n",
    "    penal = -(lamb / 2) * np.power(np.linalg.norm(w), 2)\n",
    "    return cumloss + penal"
   ]
  },
  {
   "cell_type": "code",
   "execution_count": 222,
   "metadata": {
    "collapsed": true
   },
   "outputs": [],
   "source": [
    "def duality_gap(alpha, X, y, lamb, lossfunction):\n",
    "    \"\"\"\n",
    "        Calcule le duality gap (diff des loss)\n",
    "        alpha: vecteur de poids dans le dual\n",
    "        X: variables explicatives\n",
    "        y: label a predire\n",
    "        lamb: regularisation\n",
    "    \"\"\"\n",
    "    # On doit d'abord extraire w de alpha\n",
    "    w = w_from_alpha(alpha, X, lamb)\n",
    "    primal = cum_loss_primal(w, X, y, lamb, lossfunction)\n",
    "    dual = cum_loss_dual(alpha, X, y, lamb, lossfunction)\n",
    "    return primal - dual"
   ]
  },
  {
   "cell_type": "markdown",
   "metadata": {},
   "source": [
    "#### Algorithme"
   ]
  },
  {
   "cell_type": "markdown",
   "metadata": {},
   "source": [
    "On passe ensuite a l'algorithme a proprement parler"
   ]
  },
  {
   "cell_type": "code",
   "execution_count": 353,
   "metadata": {
    "collapsed": true
   },
   "outputs": [],
   "source": [
    "def SDCA (X, y, T, lossfunction, gamma, T_0_ratio, epsilon, lamb):\n",
    "    \"\"\"\n",
    "        Algorithme SDCA classique\n",
    "        X: variables explicatives\n",
    "        y: label a predire\n",
    "        T: nombre d'epoch\n",
    "        lossfunction: choix de la loss function\n",
    "        gamma: parametre de smoothing, 1 etant tres smooth\n",
    "        T_0_ratio: fraction qui indique quelle part des iterations on conserve\n",
    "                    pour moyenner et obtenir alpha et w finaux\n",
    "        lamb: regularisation\n",
    "    \"\"\"\n",
    "    n_samples = X.shape[1]\n",
    "    n_features=X.shape[0]\n",
    "    Alpha=[]\n",
    "    alpha= [0] * n_samples\n",
    "    Alpha.append(alpha.copy())\n",
    "    \n",
    "    # On enregistre la primal loss\n",
    "    primal_loss_track = []\n",
    "    w = w_from_alpha(alpha, X, lamb)\n",
    "    primal_loss_track.append(cum_loss_primal(w, X, y, lamb, lossfunction))\n",
    "    \n",
    "    # On enregistre la dual loss\n",
    "    dual_loss_track = []\n",
    "    dual_loss_track.append(cum_loss_dual(np.array(Alpha[0]), X, y, lamb, lossfunction))\n",
    "    \n",
    "    # On enregistre le duality gap\n",
    "    gaps_track = []\n",
    "    gap = duality_gap(np.array(Alpha[0]), X, y, lamb, lossfunction)\n",
    "    gaps_track.append(gap)\n",
    "\n",
    "    t = 0\n",
    "    timelaps = [0]\n",
    "    dual_loss=epsilon+1\n",
    "    \n",
    "    \n",
    "    #while (gap > epsilon) and (t < T) :\n",
    "    while (t < T) :\n",
    "        start = time.perf_counter()\n",
    "        indices = np.array(range(0, n_samples))\n",
    "        np.random.shuffle(indices)\n",
    "        for i in range(0, n_samples):\n",
    "            j = indices[i]\n",
    "            delta_alpha = lossfunction.sdca_update(y[j], w, X[:,j], n_samples, lamb, alpha[j], gamma)\n",
    "            alpha[j] += delta_alpha\n",
    "            w += (1 / (lamb * n_samples)) * delta_alpha * X[:,j]\n",
    "        end = time.perf_counter()\n",
    "        timelaps.append(end - start)\n",
    "        #A la fin de chaque epoch, on enregistre\n",
    "        # alpha\n",
    "        Alpha.append(alpha.copy())\n",
    "        # la primal loss\n",
    "        primal_loss_track.append(cum_loss_primal(w, X, y, lamb, lossfunction))\n",
    "        # la dual loss\n",
    "        dual_loss=cum_loss_dual(np.array(alpha), X, y, lamb, lossfunction)\n",
    "        dual_loss_track.append(cum_loss_dual(np.array(alpha), X, y, lamb, lossfunction))\n",
    "        # le duality gap\n",
    "        gap = duality_gap(np.array(alpha), X, y, lamb, lossfunction)\n",
    "        gaps_track.append(gap)\n",
    "        t += 1\n",
    "    \n",
    "    # Une fois que l'algorithme a converge, on recupere les weights a partir de la matrice alpha\n",
    "    alpha_bar = np.mean(Alpha[-int(T_0_ratio*T):],axis=0)\n",
    "    w_bar = w_from_alpha(alpha_bar,X, lamb)\n",
    "    \n",
    "    # Sortie aleatoire\n",
    "    k = np.random.randint(int(T_0_ratio*T),T-2)\n",
    "    alpha_rand = Alpha[k]\n",
    "    w_rand=w_from_alpha(alpha_rand, X, lamb)\n",
    "    \n",
    "    return(Alpha, timelaps, primal_loss_track, dual_loss_track, gaps_track, w_bar, w_rand)"
   ]
  },
  {
   "cell_type": "markdown",
   "metadata": {},
   "source": [
    "### Résultats pour les données simulées"
   ]
  },
  {
   "cell_type": "code",
   "execution_count": 391,
   "metadata": {},
   "outputs": [],
   "source": [
    "T = 20\n",
    "lossfunction = hinge\n",
    "gamma = 1.0\n",
    "T_0_ratio = 1/2\n",
    "epsilon =1e-7 \n",
    "lamb = 1e-1\n",
    "[Alpha, timelaps, primal_loss_track, dual_loss_track, gaps_track, w_bar, w_rand]=(SDCA(X,\n",
    "                                                                                       y, \n",
    "                                                                                       T, \n",
    "                                                                                       lossfunction, \n",
    "                                                                                       gamma,\n",
    "                                                                                       T_0_ratio,\n",
    "                                                                                       epsilon,\n",
    "                                                                                       lamb))"
   ]
  },
  {
   "cell_type": "markdown",
   "metadata": {},
   "source": [
    "On compare les poids obtenus par la méthode de la moyenne et celle du choix aléatoire aux vrais poids"
   ]
  },
  {
   "cell_type": "code",
   "execution_count": 392,
   "metadata": {},
   "outputs": [
    {
     "name": "stdout",
     "output_type": "stream",
     "text": [
      "+------------------+---------------------------+------------------------+\n",
      "|  poids initiaux  | poids obtenus par moyenne | poids obtenus par alea |\n",
      "+------------------+---------------------------+------------------------+\n",
      "|  -1.07098299215  |      -0.281235632883      |    -0.282470652386     |\n",
      "| -0.489818333119  |      -0.124829422426      |    -0.124899590696     |\n",
      "|  -0.95346729359  |       -0.2565823828       |    -0.257380868912     |\n",
      "| -0.220977406758  |       -0.05310621346      |    -0.0528904815366    |\n",
      "|  0.59970628039   |       0.172188346783      |     0.172110153342     |\n",
      "| -0.462579867266  |      -0.114270800718      |    -0.115711979499     |\n",
      "|  0.482056986216  |       0.107731360142      |     0.109587164473     |\n",
      "|  1.48394193281   |       0.388570455132      |     0.389929303141     |\n",
      "|  0.143741095077  |      0.0180260416293      |    0.0178446544099     |\n",
      "| -0.424495077651  |      -0.108825139173      |    -0.107463097176     |\n",
      "| -0.816749962376  |      -0.216118237268      |    -0.216314515672     |\n",
      "| -0.0949645969503 |     -0.00154151646996     |   -0.00078574362674    |\n",
      "|  0.12648713551   |      0.0377459435867      |    0.0376895252616     |\n",
      "|  -2.83332852609  |      -0.737239562545      |     -0.73778336309     |\n",
      "| 0.0393699884633  |      0.0229677539655      |    0.0236039208172     |\n",
      "|  -1.2963517643   |      -0.359363390122      |    -0.361054121727     |\n",
      "| -0.374216183133  |      -0.079599896908      |    -0.079115912116     |\n",
      "|  1.46242203424   |       0.370448627244      |     0.370585378885     |\n",
      "|  1.16043688259   |       0.304831811531      |     0.306091506466     |\n",
      "|  -0.38949001632  |      -0.119928658889      |    -0.122089687483     |\n",
      "|  1.77043332452   |       0.477412677644      |     0.478829509556     |\n",
      "|  1.90449088723   |       0.480421895642      |     0.480772394489     |\n",
      "|  0.373788527061  |      0.0987565772941      |    0.0984163353585     |\n",
      "|  0.248885249126  |      0.0505052198253      |    0.0509772857903     |\n",
      "|  1.00242453604   |       0.261869188953      |     0.262582133249     |\n",
      "+------------------+---------------------------+------------------------+\n"
     ]
    }
   ],
   "source": [
    "w = PrettyTable()\n",
    "w.add_column(\"poids initiaux\",w_real)\n",
    "w.add_column(\"poids obtenus par moyenne\",w_bar)\n",
    "w.add_column(\"poids obtenus par alea\",w_rand)\n",
    "print (w)"
   ]
  },
  {
   "cell_type": "markdown",
   "metadata": {},
   "source": [
    "On regarde l'évolution de la perte primale et du duality gap"
   ]
  },
  {
   "cell_type": "code",
   "execution_count": 393,
   "metadata": {},
   "outputs": [
    {
     "data": {
      "image/png": "[encoded data removed]",
      "text/plain": [
       "<matplotlib.figure.Figure at 0x7fc12bbe6eb8>"
      ]
     },
     "metadata": {},
     "output_type": "display_data"
    }
   ],
   "source": [
    "plt.figure(figsize=(12,5))\n",
    "plt.plot([2,1])\n",
    "plt.subplot(121)\n",
    "plt.plot(np.cumsum(timelaps), primal_loss_track , label=\"perte primale\")\n",
    "plt.ylabel(\"Perte\")\n",
    "plt.xlabel(\"CPU time\")\n",
    "plt.legend()\n",
    "plt.title(\"Evolution de la perte primale\")\n",
    "\n",
    "plt.subplot(122)\n",
    "plt.plot(np.cumsum(timelaps), gaps_track , label=\"duality gap\")\n",
    "plt.ylabel(\"Perte\")\n",
    "plt.xlabel(\"CPU time\")\n",
    "plt.legend()\n",
    "plt.title(\"Evolution du duality gap\")\n",
    "plt.show()"
   ]
  },
  {
   "cell_type": "markdown",
   "metadata": {},
   "source": [
    "### On introduit une Stochastic Gradient Descent pour la premiere epoch"
   ]
  },
  {
   "cell_type": "markdown",
   "metadata": {},
   "source": [
    "##### Cas du primal avec hinge loss"
   ]
  },
  {
   "cell_type": "markdown",
   "metadata": {},
   "source": [
    "On appelle $S$ un ensemble de points, $x_i \\in \\mathbb{R}^{n}$ et les labels correspondants, $y_i \\in \\{−1,1\\}$. On cherche un hyperplan qui minimiserait la hinge loss totale."
   ]
  },
  {
   "cell_type": "markdown",
   "metadata": {},
   "source": [
    "\\begin{equation}\n",
    "w^* = \\underset{w}{\\text{argmin }} L^{hinge}_S(w) = \\underset{w}{\\text{argmin }} \\sum_i{l_{hinge}(w,x_i,y_i)}= \\underset{w}{\\text{argmin }} \\sum_i{\\max{\\{0,1-y_iw\\cdot x_i}\\}}\n",
    "\\end{equation}"
   ]
  },
  {
   "cell_type": "markdown",
   "metadata": {},
   "source": [
    "On identifie le gradient:"
   ]
  },
  {
   "cell_type": "markdown",
   "metadata": {},
   "source": [
    "$$\\frac{\\partial{l_{hinge}}}{\\partial w}=\n",
    "\\begin{cases}\n",
    "  0  & y_iw\\cdot x_i \\geq 1 \\\\\n",
    "  -y_ix & y_iw\\cdot x_i < 1\n",
    "\\end{cases}$$"
   ]
  },
  {
   "cell_type": "markdown",
   "metadata": {},
   "source": [
    "On obtient alors l'update suivant"
   ]
  },
  {
   "cell_type": "markdown",
   "metadata": {},
   "source": [
    "$$w^{t+1}=\\left(1-\\frac{1}{t}\\right)w^{t} - \\frac{1|(y_i w^{t}\\cdot x_i)}{\\lambda t}x_i$$"
   ]
  },
  {
   "cell_type": "markdown",
   "metadata": {},
   "source": [
    "##### Cas du dual avec hinge loss"
   ]
  },
  {
   "cell_type": "markdown",
   "metadata": {},
   "source": [
    "Soit $t \\in \\{1,...,n\\}$\n",
    "\n",
    "\n",
    "Puisque pour la *Stochastic Gradient Descent*, on update selon une seule observation $t$ à chaque fois, l'objectif est de choisir le réel $\\alpha_t$ qui maximise : \n",
    "$$ - \\frac{1}{n} \\phi_t^{\\star}(-\\alpha_t) - \\frac{\\lambda}{2} ||w^{t}||^2$$\n",
    "Or, on a:\n",
    "$$ \\begin{align}\n",
    "w^{t} = &  w^{t-1} + \\Delta w\\\\\n",
    " = & w^{t-1} + \\frac{1}{\\lambda n}\\sum_{i = 1}^{n} \\Delta \\alpha _{i} x_i\\\\\n",
    " = & w^{t-1} + \\frac{1}{\\lambda n} \\Delta \\alpha _{t} x_t \\\\\n",
    " = & w^{t-1} + \\frac{1}{\\lambda n} \\alpha _{t} x_t \\\\\n",
    "\\end{align}$$\n",
    "En effet, $\\alpha_t$ est initialisé à 0 et le SGD sert à la première epoch seulement. On se retrouve donc à maximiser:\n",
    "\n",
    "$$ - \\phi_t^{\\star}(-\\alpha_t) - \\frac{\\lambda n}{2} ||w^{t-1} + \\frac{1}{\\lambda n} \\alpha _{t} x_t ||^2$$\n",
    "\n",
    "En développant : \n",
    "$$ \\alpha_t y_t - \\frac{\\lambda n}{2} \\left( ||w^{t-1}||^2 + 2 \\frac{\\alpha_t}{\\lambda n} \\langle w^{t-1}, x_t \\rangle + \\frac{\\alpha_t^2}{\\lambda^2 n^2}||x_t||^2 \\right)$$\n",
    "\n",
    "L'expression est concave du fait du terme de second ordre négatif. L'extremum sera donc un maximum. On applique la formule du maximizer dans un polynome de degré 2:\n",
    "$$ \\alpha_t^{\\star}= \\frac{\\lambda n}{||x_t||^2} \\left(y_t - x_t^T w^{t-1}\\right)$$\n",
    "\n",
    "\n",
    "Il faut toutefois éviter d'avoir une dual loss infinie. Il faut donc que $-\\alpha_t^{\\star}y \\in [-1,0] \\Leftrightarrow \\alpha_t^{\\star}y \\in [0,1]$\n",
    "\n",
    "On peut donc adapter l'algorithme pour qu'il incorpore un SGD pour la première epoch."
   ]
  },
  {
   "cell_type": "markdown",
   "metadata": {},
   "source": [
    "On commence par compléter le wrapper"
   ]
  },
  {
   "cell_type": "code",
   "execution_count": 301,
   "metadata": {
    "collapsed": true
   },
   "outputs": [],
   "source": [
    "def hinge_sgd_update(y, w, x, t, lamb):    \n",
    "    \"\"\"\n",
    "        Calcule l'update SGD pour la premiere epoch\n",
    "        w: vecteur des poids primaux\n",
    "        x: variables explicatives de l'observation t\n",
    "        y: label a predire\n",
    "        lamb: regularisation\n",
    "    \"\"\"\n",
    "    alpha_star=((lamb * t) /  (np.linalg.norm(x)**2)) * (y - np.dot(x.T, w))\n",
    "    return alpha_star\n",
    "\n",
    "hinge.set_sgd_update(hinge_sgd_update)"
   ]
  },
  {
   "cell_type": "code",
   "execution_count": 329,
   "metadata": {
    "collapsed": true
   },
   "outputs": [],
   "source": [
    "def SDCA_sgd (X, y, T, lossfunction, gamma, T_0_ratio, epsilon, lamb, SGD_init):\n",
    "    \"\"\"\n",
    "        Algorithme SDCA, avec SGD eventuel pour la premiere epoch\n",
    "        X: variables explicatives\n",
    "        y: label a predire\n",
    "        T: nombre d'epoch\n",
    "        lossfunction: choix de la loss function\n",
    "        gamma: parametre de smoothing, 1 etant tres smooth\n",
    "        T_0_ratio: fraction qui indique quelle part des iterations on conserve\n",
    "                    pour moyenner et obtenir alpha et w finaux\n",
    "        lamb: regularisation\n",
    "        SGD_init: initialisation premiere epoch par SGD\n",
    "    \"\"\"\n",
    "    n_samples = X.shape[1]\n",
    "    n_features=X.shape[0]\n",
    "    Alpha=[]\n",
    "    alpha= [0] * n_samples\n",
    "    Alpha.append(alpha.copy())\n",
    "    \n",
    "    # On enregistre la primal loss\n",
    "    primal_loss_track = []\n",
    "    w = w_from_alpha(alpha, X, lamb)\n",
    "    primal_loss_track.append(cum_loss_primal(w, X, y, lamb, lossfunction))\n",
    "    \n",
    "    # On enregistre la dual loss\n",
    "    dual_loss_track = []\n",
    "    dual_loss_track.append(cum_loss_dual(np.array(Alpha[0]), X, y, lamb, lossfunction))\n",
    "    \n",
    "    # On enregistre le duality gap\n",
    "    gaps_track = []\n",
    "    gap = duality_gap(np.array(Alpha[0]), X, y, lamb, lossfunction)\n",
    "    gaps_track.append(gap)\n",
    "\n",
    "    t = 0\n",
    "    timelaps = [0]\n",
    "    dual_loss=epsilon+1\n",
    "    \n",
    "    \n",
    "    while (gap > epsilon) and (t < T) :\n",
    "        start = time.perf_counter()\n",
    "        indices = np.array(range(0, n_samples))\n",
    "        np.random.shuffle(indices)\n",
    "        for i in range(0, n_samples):\n",
    "            j = indices[i]\n",
    "            \n",
    "            # Initialisation eventuelle SGD, on doit cette fois prendre les coordonnees dans l'ordre\n",
    "            if (t==0):\n",
    "                alpha[i] = lossfunction.sgd_update(y[i], w, X[:, i], i, lamb)\n",
    "                # Du fait de la dimension de alpha, on update w manuellement, coordonnee par coordonnee\n",
    "                w *= float(i) / float(i + 1)\n",
    "                w += (1 / (lamb * (i + 1))) * np.array(alpha[i]) * np.array(X[:, i])\n",
    "                \n",
    "             # Sinon SDCA standard\n",
    "            else:\n",
    "                delta_alpha = lossfunction.sdca_update(y[j], w, X[:,j], n_samples, lamb, alpha[j], gamma)\n",
    "                alpha[j] += delta_alpha\n",
    "                w += (1 / (lamb * n_samples)) * delta_alpha * X[:,j]\n",
    "        \n",
    "        \n",
    "        end = time.perf_counter()\n",
    "        timelaps.append(end - start)\n",
    "        #A la fin de chaque epoch, on enregistre\n",
    "        # alpha\n",
    "        Alpha.append(alpha.copy())\n",
    "        # la primal loss\n",
    "        primal_loss_track.append(cum_loss_primal(w, X, y, lamb, lossfunction))\n",
    "        # la dual loss\n",
    "        dual_loss=cum_loss_dual(np.array(alpha), X, y, lamb, lossfunction)\n",
    "        dual_loss_track.append(cum_loss_dual(np.array(alpha), X,  y, lamb, lossfunction))\n",
    "        # le duality gap\n",
    "        gap = duality_gap(np.array(alpha), X, y, lamb, lossfunction)\n",
    "        gaps_track.append(gap)\n",
    "        t += 1\n",
    "    \n",
    "    # Une fois que l'algorithme a converge, on recupere les weights a partir de la matrice alpha\n",
    "    alpha_bar = np.mean(Alpha[-int(T_0_ratio*T):],axis=0)\n",
    "    w_bar = w_from_alpha(alpha_bar,X, lamb)\n",
    "    \n",
    "    # Sortie aleatoire\n",
    "    k = np.random.randint(int(T_0_ratio*T),T-2)\n",
    "    alpha_rand = Alpha[k]\n",
    "    w_rand=w_from_alpha(alpha_rand, X, lamb)\n",
    "    \n",
    "    return(Alpha, timelaps, primal_loss_track, dual_loss_track, gaps_track, w_bar, w_rand)"
   ]
  },
  {
   "cell_type": "markdown",
   "metadata": {},
   "source": [
    "### Résultats pour les données simulées"
   ]
  },
  {
   "cell_type": "code",
   "execution_count": 340,
   "metadata": {},
   "outputs": [],
   "source": [
    "T = 20\n",
    "lossfunction = hinge\n",
    "gamma = 1.0\n",
    "T_0_ratio = 1/2\n",
    "epsilon =1e-7 \n",
    "lamb = 1e-7\n",
    "SGD_init=True\n",
    "\n",
    "[Alpha, timelaps, primal_loss_track, dual_loss_track, gaps_track, w_bar, w_rand]=(SDCA_sgd(X,\n",
    "                                                                                       y, \n",
    "                                                                                       T, \n",
    "                                                                                       lossfunction, \n",
    "                                                                                       gamma,\n",
    "                                                                                       T_0_ratio,\n",
    "                                                                                       epsilon,\n",
    "                                                                                       lamb,\n",
    "                                                                                        SGD_init))"
   ]
  },
  {
   "cell_type": "markdown",
   "metadata": {},
   "source": [
    "On compare les poids obtenus par la méthode de la moyenne et celle du choix aléatoire aux vrais poids"
   ]
  },
  {
   "cell_type": "code",
   "execution_count": 341,
   "metadata": {},
   "outputs": [
    {
     "name": "stdout",
     "output_type": "stream",
     "text": [
      "+------------------+---------------------------+------------------------+\n",
      "|  poids initiaux  | poids obtenus par moyenne | poids obtenus par alea |\n",
      "+------------------+---------------------------+------------------------+\n",
      "|  -1.07098299215  |       -2.72506142336      |     -3.22219551914     |\n",
      "| -0.489818333119  |       -1.09676860584      |     -1.30822289043     |\n",
      "|  -0.95346729359  |       -2.40089258553      |     -2.80877262505     |\n",
      "| -0.220977406758  |      -0.450561026796      |    -0.503218090785     |\n",
      "|  0.59970628039   |       1.48229464062       |     1.70957099454      |\n",
      "| -0.462579867266  |       -1.01015706514      |     -1.20112728673     |\n",
      "|  0.482056986216  |       1.12134159167       |     1.28297518822      |\n",
      "|  1.48394193281   |       3.50782381268       |     4.07978166497      |\n",
      "|  0.143741095077  |       0.215668205448      |     0.191399978568     |\n",
      "| -0.424495077651  |       -1.11791158289      |     -1.31312075506     |\n",
      "| -0.816749962376  |       -1.91302933134      |     -2.19342043331     |\n",
      "| -0.0949645969503 |      -0.330872925781      |    -0.371729961522     |\n",
      "|  0.12648713551   |       0.361084512516      |     0.437102195007     |\n",
      "|  -2.83332852609  |       -6.93219504953      |     -8.09797736696     |\n",
      "| 0.0393699884633  |      0.0229567101927      |   -0.00518153132287    |\n",
      "|  -1.2963517643   |       -3.12538159655      |     -3.64512407562     |\n",
      "| -0.374216183133  |      -0.902242745812      |     -1.09009066599     |\n",
      "|  1.46242203424   |       3.45170468762       |     4.06454056834      |\n",
      "|  1.16043688259   |       2.80232825498       |     3.27303586509      |\n",
      "|  -0.38949001632  |       -1.04442400044      |     -1.19963011339     |\n",
      "|  1.77043332452   |       4.28305822822       |      5.0175089219      |\n",
      "|  1.90449088723   |       4.42653725641       |     5.14391138109      |\n",
      "|  0.373788527061  |       1.05198327228       |     1.23917282176      |\n",
      "|  0.248885249126  |       0.472854060992      |     0.557964014864     |\n",
      "|  1.00242453604   |       2.49073533813       |     2.89774039159      |\n",
      "+------------------+---------------------------+------------------------+\n"
     ]
    }
   ],
   "source": [
    "w = PrettyTable()\n",
    "w.add_column(\"poids initiaux\",w_real)\n",
    "w.add_column(\"poids obtenus par moyenne\",w_bar)\n",
    "w.add_column(\"poids obtenus par alea\",w_rand)\n",
    "print (w)"
   ]
  },
  {
   "cell_type": "markdown",
   "metadata": {},
   "source": [
    "On regarde l'évolution de la perte primale et du duality gap"
   ]
  },
  {
   "cell_type": "code",
   "execution_count": 343,
   "metadata": {},
   "outputs": [
    {
     "data": {
      "image/png": "[encoded data removed]",
      "text/plain": [
       "<matplotlib.figure.Figure at 0x7fc12b6f7eb8>"
      ]
     },
     "metadata": {},
     "output_type": "display_data"
    }
   ],
   "source": [
    "plt.figure(figsize=(12,5))\n",
    "plt.plot([2,1])\n",
    "plt.subplot(121)\n",
    "plt.plot(np.cumsum(timelaps), primal_loss_track , label=\"perte primale\")\n",
    "plt.ylabel(\"Perte\")\n",
    "plt.xlabel(\"CPU time\")\n",
    "plt.legend()\n",
    "plt.title(\"Evolution de la perte primale\")\n",
    "\n",
    "plt.subplot(122)\n",
    "plt.plot(np.cumsum(timelaps), gaps_track , label=\"duality gap\")\n",
    "plt.ylabel(\"Perte\")\n",
    "plt.xlabel(\"CPU time\")\n",
    "plt.legend()\n",
    "plt.title(\"Evolution du duality gap\")\n",
    "plt.show()"
   ]
  }
 ],
 "metadata": {
  "kernelspec": {
   "display_name": "Python 3",
   "language": "python",
   "name": "python3"
  },
  "language_info": {
   "codemirror_mode": {
    "name": "ipython",
    "version": 3
   },
   "file_extension": ".py",
   "mimetype": "text/x-python",
   "name": "python",
   "nbconvert_exporter": "python",
   "pygments_lexer": "ipython3",
   "version": "3.6.1"
  }
 },
 "nbformat": 4,
 "nbformat_minor": 2
}
