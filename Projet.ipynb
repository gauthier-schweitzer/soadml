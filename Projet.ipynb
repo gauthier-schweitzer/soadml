{
 "cells": [
  {
   "cell_type": "code",
   "execution_count": 1,
   "metadata": {
    "collapsed": true
   },
   "outputs": [],
   "source": [
    "import numpy as np\n",
    "import pandas as pd\n",
    "import matplotlib.pyplot as plt\n",
    "import time\n",
    "from jyquickhelper import add_notebook_menu\n",
    "from sklearn import preprocessing\n",
    "from collections import namedtuple\n",
    "from sklearn.model_selection import train_test_split\n",
    "from sklearn.metrics import f1_score\n",
    "from sklearn.metrics import confusion_matrix\n",
    "from sklearn import metrics"
   ]
  },
  {
   "cell_type": "code",
   "execution_count": 2,
   "metadata": {},
   "outputs": [
    {
     "data": {
      "text/html": [
       "<div id=\"my_id_menu_nb\">run previous cell, wait for 2 seconds</div>\n",
       "<script>\n",
       "function repeat_indent_string(n){\n",
       "    var a = \"\" ;\n",
       "    for ( ; n > 0 ; --n)\n",
       "        a += \"    \";\n",
       "    return a;\n",
       "}\n",
       "// look up into all sections and builds an automated menu //\n",
       "var update_menu_string = function(begin, lfirst, llast, sformat, send, keep_item, begin_format, end_format) {\n",
       "    var anchors = document.getElementsByClassName(\"section\");\n",
       "    if (anchors.length == 0) {\n",
       "        anchors = document.getElementsByClassName(\"text_cell_render rendered_html\");\n",
       "    }\n",
       "    var i,t;\n",
       "    var text_menu = begin;\n",
       "    var text_memo = \"<pre>\\nlength:\" + anchors.length + \"\\n\";\n",
       "    var ind = \"\";\n",
       "    var memo_level = 1;\n",
       "    var href;\n",
       "    var tags = [];\n",
       "    var main_item = 0;\n",
       "    var format_open = 0;\n",
       "    for (i = 0; i <= llast; i++)\n",
       "        tags.push(\"h\" + i);\n",
       "\n",
       "    for (i = 0; i < anchors.length; i++) {\n",
       "        text_memo += \"**\" + anchors[i].id + \"--\\n\";\n",
       "\n",
       "        var child = null;\n",
       "        for(t = 0; t < tags.length; t++) {\n",
       "            var r = anchors[i].getElementsByTagName(tags[t]);\n",
       "            if (r.length > 0) {\n",
       "child = r[0];\n",
       "break;\n",
       "            }\n",
       "        }\n",
       "        if (child == null) {\n",
       "            text_memo += \"null\\n\";\n",
       "            continue;\n",
       "        }\n",
       "        if (anchors[i].hasAttribute(\"id\")) {\n",
       "            // when converted in RST\n",
       "            href = anchors[i].id;\n",
       "            text_memo += \"#1-\" + href;\n",
       "            // passer à child suivant (le chercher)\n",
       "        }\n",
       "        else if (child.hasAttribute(\"id\")) {\n",
       "            // in a notebook\n",
       "            href = child.id;\n",
       "            text_memo += \"#2-\" + href;\n",
       "        }\n",
       "        else {\n",
       "            text_memo += \"#3-\" + \"*\" + \"\\n\";\n",
       "            continue;\n",
       "        }\n",
       "        var title = child.textContent;\n",
       "        var level = parseInt(child.tagName.substring(1,2));\n",
       "\n",
       "        text_memo += \"--\" + level + \"?\" + lfirst + \"--\" + title + \"\\n\";\n",
       "\n",
       "        if ((level < lfirst) || (level > llast)) {\n",
       "            continue ;\n",
       "        }\n",
       "        if (title.endsWith('¶')) {\n",
       "            title = title.substring(0,title.length-1).replace(\"<\", \"&lt;\")\n",
       "         .replace(\">\", \"&gt;\").replace(\"&\", \"&amp;\");\n",
       "        }\n",
       "        if (title.length == 0) {\n",
       "            continue;\n",
       "        }\n",
       "\n",
       "        while (level < memo_level) {\n",
       "            text_menu += end_format + \"</ul>\\n\";\n",
       "            format_open -= 1;\n",
       "            memo_level -= 1;\n",
       "        }\n",
       "        if (level == lfirst) {\n",
       "            main_item += 1;\n",
       "        }\n",
       "        if (keep_item != -1 && main_item != keep_item + 1) {\n",
       "            // alert(main_item + \" - \" + level + \" - \" + keep_item);\n",
       "            continue;\n",
       "        }\n",
       "        while (level > memo_level) {\n",
       "            text_menu += \"<ul>\\n\";\n",
       "            memo_level += 1;\n",
       "        }\n",
       "        text_menu += repeat_indent_string(level-2);\n",
       "        text_menu += begin_format + sformat.replace(\"__HREF__\", href).replace(\"__TITLE__\", title);\n",
       "        format_open += 1;\n",
       "    }\n",
       "    while (1 < memo_level) {\n",
       "        text_menu += end_format + \"</ul>\\n\";\n",
       "        memo_level -= 1;\n",
       "        format_open -= 1;\n",
       "    }\n",
       "    text_menu += send;\n",
       "    //text_menu += \"\\n\" + text_memo;\n",
       "\n",
       "    while (format_open > 0) {\n",
       "        text_menu += end_format;\n",
       "        format_open -= 1;\n",
       "    }\n",
       "    return text_menu;\n",
       "};\n",
       "var update_menu = function() {\n",
       "    var sbegin = \"\";\n",
       "    var sformat = '<a href=\"#__HREF__\">__TITLE__</a>';\n",
       "    var send = \"\";\n",
       "    var begin_format = '<li>';\n",
       "    var end_format = '</li>';\n",
       "    var keep_item = -1;\n",
       "    var text_menu = update_menu_string(sbegin, 2, 4, sformat, send, keep_item,\n",
       "       begin_format, end_format);\n",
       "    var menu = document.getElementById(\"my_id_menu_nb\");\n",
       "    menu.innerHTML=text_menu;\n",
       "};\n",
       "window.setTimeout(update_menu,2000);\n",
       "            </script>"
      ],
      "text/plain": [
       "<IPython.core.display.HTML object>"
      ]
     },
     "execution_count": 2,
     "metadata": {},
     "output_type": "execute_result"
    }
   ],
   "source": [
    "add_notebook_menu()"
   ]
  },
  {
   "cell_type": "markdown",
   "metadata": {},
   "source": [
    "## Data generation"
   ]
  },
  {
   "cell_type": "code",
   "execution_count": 3,
   "metadata": {},
   "outputs": [],
   "source": [
    "np.random.seed(100)\n",
    "n_samples, n_features = 10000, 50\n",
    "X = np.random.randn(n_samples, n_features)\n",
    "W_real = np.random.randn(n_features)\n",
    "Y = np.sign(X.dot(W_real) + np.random.randn(n_samples))"
   ]
  },
  {
   "cell_type": "markdown",
   "metadata": {},
   "source": [
    "## Preprocessing the data\n",
    "\n",
    "#### Normalization\n",
    "SVM tries to maximize the distance between the separating plane and the support vectors. If one feature (i.e. one dimension in this space) has very large values, it will dominate the other features when calculating the distance. If you rescale all features (e.g. to [0, 1]), they all have the same influence on the distance metric."
   ]
  },
  {
   "cell_type": "code",
   "execution_count": 4,
   "metadata": {},
   "outputs": [
    {
     "data": {
      "text/html": [
       "<div>\n",
       "<style>\n",
       "    .dataframe thead tr:only-child th {\n",
       "        text-align: right;\n",
       "    }\n",
       "\n",
       "    .dataframe thead th {\n",
       "        text-align: left;\n",
       "    }\n",
       "\n",
       "    .dataframe tbody tr th {\n",
       "        vertical-align: top;\n",
       "    }\n",
       "</style>\n",
       "<table border=\"1\" class=\"dataframe\">\n",
       "  <thead>\n",
       "    <tr style=\"text-align: right;\">\n",
       "      <th></th>\n",
       "      <th>0</th>\n",
       "      <th>1</th>\n",
       "      <th>2</th>\n",
       "      <th>3</th>\n",
       "      <th>4</th>\n",
       "      <th>5</th>\n",
       "      <th>6</th>\n",
       "      <th>7</th>\n",
       "      <th>8</th>\n",
       "      <th>9</th>\n",
       "      <th>...</th>\n",
       "      <th>40</th>\n",
       "      <th>41</th>\n",
       "      <th>42</th>\n",
       "      <th>43</th>\n",
       "      <th>44</th>\n",
       "      <th>45</th>\n",
       "      <th>46</th>\n",
       "      <th>47</th>\n",
       "      <th>48</th>\n",
       "      <th>49</th>\n",
       "    </tr>\n",
       "  </thead>\n",
       "  <tbody>\n",
       "    <tr>\n",
       "      <th>count</th>\n",
       "      <td>1.000000e+04</td>\n",
       "      <td>1.000000e+04</td>\n",
       "      <td>1.000000e+04</td>\n",
       "      <td>1.000000e+04</td>\n",
       "      <td>1.000000e+04</td>\n",
       "      <td>1.000000e+04</td>\n",
       "      <td>1.000000e+04</td>\n",
       "      <td>1.000000e+04</td>\n",
       "      <td>1.000000e+04</td>\n",
       "      <td>1.000000e+04</td>\n",
       "      <td>...</td>\n",
       "      <td>1.000000e+04</td>\n",
       "      <td>1.000000e+04</td>\n",
       "      <td>1.000000e+04</td>\n",
       "      <td>1.000000e+04</td>\n",
       "      <td>1.000000e+04</td>\n",
       "      <td>1.000000e+04</td>\n",
       "      <td>1.000000e+04</td>\n",
       "      <td>1.000000e+04</td>\n",
       "      <td>1.000000e+04</td>\n",
       "      <td>1.000000e+04</td>\n",
       "    </tr>\n",
       "    <tr>\n",
       "      <th>mean</th>\n",
       "      <td>-2.825518e-17</td>\n",
       "      <td>8.480994e-17</td>\n",
       "      <td>-1.912689e-17</td>\n",
       "      <td>4.664411e-17</td>\n",
       "      <td>-5.488943e-17</td>\n",
       "      <td>-4.496403e-18</td>\n",
       "      <td>-5.209166e-17</td>\n",
       "      <td>-4.857226e-17</td>\n",
       "      <td>-2.835510e-17</td>\n",
       "      <td>-1.848799e-17</td>\n",
       "      <td>...</td>\n",
       "      <td>-2.769451e-17</td>\n",
       "      <td>-1.754152e-18</td>\n",
       "      <td>-6.265544e-17</td>\n",
       "      <td>4.611866e-17</td>\n",
       "      <td>1.023626e-17</td>\n",
       "      <td>-1.931788e-18</td>\n",
       "      <td>-1.725509e-16</td>\n",
       "      <td>-3.919087e-17</td>\n",
       "      <td>-1.498801e-18</td>\n",
       "      <td>-6.084022e-18</td>\n",
       "    </tr>\n",
       "    <tr>\n",
       "      <th>std</th>\n",
       "      <td>1.000050e+00</td>\n",
       "      <td>1.000050e+00</td>\n",
       "      <td>1.000050e+00</td>\n",
       "      <td>1.000050e+00</td>\n",
       "      <td>1.000050e+00</td>\n",
       "      <td>1.000050e+00</td>\n",
       "      <td>1.000050e+00</td>\n",
       "      <td>1.000050e+00</td>\n",
       "      <td>1.000050e+00</td>\n",
       "      <td>1.000050e+00</td>\n",
       "      <td>...</td>\n",
       "      <td>1.000050e+00</td>\n",
       "      <td>1.000050e+00</td>\n",
       "      <td>1.000050e+00</td>\n",
       "      <td>1.000050e+00</td>\n",
       "      <td>1.000050e+00</td>\n",
       "      <td>1.000050e+00</td>\n",
       "      <td>1.000050e+00</td>\n",
       "      <td>1.000050e+00</td>\n",
       "      <td>1.000050e+00</td>\n",
       "      <td>1.000050e+00</td>\n",
       "    </tr>\n",
       "    <tr>\n",
       "      <th>min</th>\n",
       "      <td>-3.528775e+00</td>\n",
       "      <td>-4.241572e+00</td>\n",
       "      <td>-3.748656e+00</td>\n",
       "      <td>-4.807973e+00</td>\n",
       "      <td>-3.447402e+00</td>\n",
       "      <td>-3.845229e+00</td>\n",
       "      <td>-3.653616e+00</td>\n",
       "      <td>-3.475923e+00</td>\n",
       "      <td>-4.263492e+00</td>\n",
       "      <td>-3.993324e+00</td>\n",
       "      <td>...</td>\n",
       "      <td>-4.266787e+00</td>\n",
       "      <td>-3.819606e+00</td>\n",
       "      <td>-3.923899e+00</td>\n",
       "      <td>-3.581164e+00</td>\n",
       "      <td>-3.929283e+00</td>\n",
       "      <td>-4.226381e+00</td>\n",
       "      <td>-4.036770e+00</td>\n",
       "      <td>-3.505275e+00</td>\n",
       "      <td>-3.637163e+00</td>\n",
       "      <td>-4.210649e+00</td>\n",
       "    </tr>\n",
       "    <tr>\n",
       "      <th>25%</th>\n",
       "      <td>-6.694925e-01</td>\n",
       "      <td>-6.761657e-01</td>\n",
       "      <td>-6.799790e-01</td>\n",
       "      <td>-6.638791e-01</td>\n",
       "      <td>-6.786848e-01</td>\n",
       "      <td>-6.792431e-01</td>\n",
       "      <td>-6.851165e-01</td>\n",
       "      <td>-6.739504e-01</td>\n",
       "      <td>-6.787010e-01</td>\n",
       "      <td>-6.667995e-01</td>\n",
       "      <td>...</td>\n",
       "      <td>-6.673000e-01</td>\n",
       "      <td>-6.579927e-01</td>\n",
       "      <td>-6.809715e-01</td>\n",
       "      <td>-6.801206e-01</td>\n",
       "      <td>-6.854098e-01</td>\n",
       "      <td>-6.696009e-01</td>\n",
       "      <td>-6.780757e-01</td>\n",
       "      <td>-6.773196e-01</td>\n",
       "      <td>-6.724490e-01</td>\n",
       "      <td>-6.726675e-01</td>\n",
       "    </tr>\n",
       "    <tr>\n",
       "      <th>50%</th>\n",
       "      <td>7.968174e-03</td>\n",
       "      <td>-8.385514e-04</td>\n",
       "      <td>-2.149095e-03</td>\n",
       "      <td>-5.008627e-03</td>\n",
       "      <td>5.223925e-03</td>\n",
       "      <td>1.715171e-03</td>\n",
       "      <td>-7.037973e-03</td>\n",
       "      <td>-5.071468e-03</td>\n",
       "      <td>8.124270e-04</td>\n",
       "      <td>-1.792881e-03</td>\n",
       "      <td>...</td>\n",
       "      <td>-2.617707e-03</td>\n",
       "      <td>6.542836e-04</td>\n",
       "      <td>1.019184e-02</td>\n",
       "      <td>-5.271617e-03</td>\n",
       "      <td>-2.715387e-03</td>\n",
       "      <td>3.938627e-03</td>\n",
       "      <td>-4.482148e-03</td>\n",
       "      <td>1.307084e-02</td>\n",
       "      <td>4.099296e-03</td>\n",
       "      <td>8.299609e-03</td>\n",
       "    </tr>\n",
       "    <tr>\n",
       "      <th>75%</th>\n",
       "      <td>6.782644e-01</td>\n",
       "      <td>6.710383e-01</td>\n",
       "      <td>6.805330e-01</td>\n",
       "      <td>6.684502e-01</td>\n",
       "      <td>6.774109e-01</td>\n",
       "      <td>6.789516e-01</td>\n",
       "      <td>6.803765e-01</td>\n",
       "      <td>6.760663e-01</td>\n",
       "      <td>6.760136e-01</td>\n",
       "      <td>6.761831e-01</td>\n",
       "      <td>...</td>\n",
       "      <td>6.729562e-01</td>\n",
       "      <td>6.815861e-01</td>\n",
       "      <td>6.919423e-01</td>\n",
       "      <td>6.898613e-01</td>\n",
       "      <td>6.704945e-01</td>\n",
       "      <td>6.704980e-01</td>\n",
       "      <td>6.820260e-01</td>\n",
       "      <td>6.831873e-01</td>\n",
       "      <td>6.807125e-01</td>\n",
       "      <td>6.793582e-01</td>\n",
       "    </tr>\n",
       "    <tr>\n",
       "      <th>max</th>\n",
       "      <td>3.400545e+00</td>\n",
       "      <td>3.536183e+00</td>\n",
       "      <td>3.505806e+00</td>\n",
       "      <td>3.751706e+00</td>\n",
       "      <td>3.557642e+00</td>\n",
       "      <td>3.620859e+00</td>\n",
       "      <td>4.055220e+00</td>\n",
       "      <td>3.606643e+00</td>\n",
       "      <td>3.727794e+00</td>\n",
       "      <td>3.899649e+00</td>\n",
       "      <td>...</td>\n",
       "      <td>3.703564e+00</td>\n",
       "      <td>3.461707e+00</td>\n",
       "      <td>3.804062e+00</td>\n",
       "      <td>3.927934e+00</td>\n",
       "      <td>3.806133e+00</td>\n",
       "      <td>3.591497e+00</td>\n",
       "      <td>3.757283e+00</td>\n",
       "      <td>4.401787e+00</td>\n",
       "      <td>3.924877e+00</td>\n",
       "      <td>3.683498e+00</td>\n",
       "    </tr>\n",
       "  </tbody>\n",
       "</table>\n",
       "<p>8 rows × 50 columns</p>\n",
       "</div>"
      ],
      "text/plain": [
       "                 0             1             2             3             4   \\\n",
       "count  1.000000e+04  1.000000e+04  1.000000e+04  1.000000e+04  1.000000e+04   \n",
       "mean  -2.825518e-17  8.480994e-17 -1.912689e-17  4.664411e-17 -5.488943e-17   \n",
       "std    1.000050e+00  1.000050e+00  1.000050e+00  1.000050e+00  1.000050e+00   \n",
       "min   -3.528775e+00 -4.241572e+00 -3.748656e+00 -4.807973e+00 -3.447402e+00   \n",
       "25%   -6.694925e-01 -6.761657e-01 -6.799790e-01 -6.638791e-01 -6.786848e-01   \n",
       "50%    7.968174e-03 -8.385514e-04 -2.149095e-03 -5.008627e-03  5.223925e-03   \n",
       "75%    6.782644e-01  6.710383e-01  6.805330e-01  6.684502e-01  6.774109e-01   \n",
       "max    3.400545e+00  3.536183e+00  3.505806e+00  3.751706e+00  3.557642e+00   \n",
       "\n",
       "                 5             6             7             8             9   \\\n",
       "count  1.000000e+04  1.000000e+04  1.000000e+04  1.000000e+04  1.000000e+04   \n",
       "mean  -4.496403e-18 -5.209166e-17 -4.857226e-17 -2.835510e-17 -1.848799e-17   \n",
       "std    1.000050e+00  1.000050e+00  1.000050e+00  1.000050e+00  1.000050e+00   \n",
       "min   -3.845229e+00 -3.653616e+00 -3.475923e+00 -4.263492e+00 -3.993324e+00   \n",
       "25%   -6.792431e-01 -6.851165e-01 -6.739504e-01 -6.787010e-01 -6.667995e-01   \n",
       "50%    1.715171e-03 -7.037973e-03 -5.071468e-03  8.124270e-04 -1.792881e-03   \n",
       "75%    6.789516e-01  6.803765e-01  6.760663e-01  6.760136e-01  6.761831e-01   \n",
       "max    3.620859e+00  4.055220e+00  3.606643e+00  3.727794e+00  3.899649e+00   \n",
       "\n",
       "           ...                 40            41            42            43  \\\n",
       "count      ...       1.000000e+04  1.000000e+04  1.000000e+04  1.000000e+04   \n",
       "mean       ...      -2.769451e-17 -1.754152e-18 -6.265544e-17  4.611866e-17   \n",
       "std        ...       1.000050e+00  1.000050e+00  1.000050e+00  1.000050e+00   \n",
       "min        ...      -4.266787e+00 -3.819606e+00 -3.923899e+00 -3.581164e+00   \n",
       "25%        ...      -6.673000e-01 -6.579927e-01 -6.809715e-01 -6.801206e-01   \n",
       "50%        ...      -2.617707e-03  6.542836e-04  1.019184e-02 -5.271617e-03   \n",
       "75%        ...       6.729562e-01  6.815861e-01  6.919423e-01  6.898613e-01   \n",
       "max        ...       3.703564e+00  3.461707e+00  3.804062e+00  3.927934e+00   \n",
       "\n",
       "                 44            45            46            47            48  \\\n",
       "count  1.000000e+04  1.000000e+04  1.000000e+04  1.000000e+04  1.000000e+04   \n",
       "mean   1.023626e-17 -1.931788e-18 -1.725509e-16 -3.919087e-17 -1.498801e-18   \n",
       "std    1.000050e+00  1.000050e+00  1.000050e+00  1.000050e+00  1.000050e+00   \n",
       "min   -3.929283e+00 -4.226381e+00 -4.036770e+00 -3.505275e+00 -3.637163e+00   \n",
       "25%   -6.854098e-01 -6.696009e-01 -6.780757e-01 -6.773196e-01 -6.724490e-01   \n",
       "50%   -2.715387e-03  3.938627e-03 -4.482148e-03  1.307084e-02  4.099296e-03   \n",
       "75%    6.704945e-01  6.704980e-01  6.820260e-01  6.831873e-01  6.807125e-01   \n",
       "max    3.806133e+00  3.591497e+00  3.757283e+00  4.401787e+00  3.924877e+00   \n",
       "\n",
       "                 49  \n",
       "count  1.000000e+04  \n",
       "mean  -6.084022e-18  \n",
       "std    1.000050e+00  \n",
       "min   -4.210649e+00  \n",
       "25%   -6.726675e-01  \n",
       "50%    8.299609e-03  \n",
       "75%    6.793582e-01  \n",
       "max    3.683498e+00  \n",
       "\n",
       "[8 rows x 50 columns]"
      ]
     },
     "execution_count": 4,
     "metadata": {},
     "output_type": "execute_result"
    }
   ],
   "source": [
    "X_scale= preprocessing.scale(X)\n",
    "pd.DataFrame(X_scale).describe()"
   ]
  },
  {
   "cell_type": "markdown",
   "metadata": {
    "collapsed": true
   },
   "source": [
    "## Hinge function toolbox"
   ]
  },
  {
   "cell_type": "code",
   "execution_count": 5,
   "metadata": {
    "collapsed": true
   },
   "outputs": [],
   "source": [
    "def hinge_loss(X,y,W):\n",
    "    \"\"\"\n",
    "    Compute hinge loss for one observation\n",
    "    \n",
    "    Inputs:\n",
    "        W: primal weights (n_features)\n",
    "        X: covariates (size n_features)\n",
    "        y: label (size 1)\n",
    "        \n",
    "    Output:\n",
    "        hinge loss at observation (size 1)\n",
    "    \"\"\"\n",
    "    prod= np.dot(X, W)\n",
    "    return np.maximum(0, 1- y*prod)\n",
    "\n",
    "def hinge_dual(u, y):\n",
    "    \"\"\"\n",
    "    Compute hinge dual for one observation\n",
    "    \n",
    "    Inputs:\n",
    "        Y: label (size 1)\n",
    "        u: prediction (size 1)\n",
    "        \n",
    "    Outputs:\n",
    "        dual for a given observation (size 1)\n",
    "    \"\"\"\n",
    "    prod = u * y\n",
    "    prod[prod > 0] = np.inf\n",
    "    prod[prod < -1] = np.inf\n",
    "    return prod\n",
    "\n",
    "def cum_loss_primal(W, X, Y, lamb):\n",
    "    '''\n",
    "    Compute primal suboptimality of the model for the hinge function\n",
    "    \n",
    "    Inputs:\n",
    "        W: primal weights (n_features)\n",
    "        X: covariates matrix (n_samples*n_features)\n",
    "        Y: labels vector (n_samples)\n",
    "        loss_funct: loss function to consider (default: hinge_loss)\n",
    "    \n",
    "    Outputs:\n",
    "        primal (size 1)\n",
    "    '''\n",
    "    penal= (lamb/2)*np.linalg.norm(W, ord=2)\n",
    "    loss = np.mean(hinge_loss(X,Y,W))\n",
    "    return penal + loss\n",
    "\n",
    "def cum_loss_dual(alpha, X, Y, lamb):\n",
    "    \"\"\"\n",
    "    Compute dual suboptimality of the model for the hinge function \n",
    "    \n",
    "    Inputs:\n",
    "        alpha: dual weights (n_samples)\n",
    "        X: covariates matrix (n_samples*n_features)\n",
    "        Y: labels vector (n_samples)\n",
    "        lamb: regularization (size 1)\n",
    "\n",
    "    Outputs:\n",
    "        cumulative primal loss (size 1)\n",
    "    \"\"\"   \n",
    "    W = w_from_alpha(alpha, X, lamb)\n",
    "    cumloss = np.mean(- hinge_dual(- alpha, Y))\n",
    "    penal = -(lamb / 2) * np.power(np.linalg.norm(W), 2)\n",
    "    return cumloss + penal\n"
   ]
  },
  {
   "cell_type": "markdown",
   "metadata": {},
   "source": [
    "## SDCA algorithm"
   ]
  },
  {
   "cell_type": "markdown",
   "metadata": {},
   "source": [
    "### Preliminary functions\n",
    "\n",
    "On commence par mettre en place plusieurs fonctions qui vont nous être utiles dans l'algorithme"
   ]
  },
  {
   "cell_type": "code",
   "execution_count": 6,
   "metadata": {
    "collapsed": true
   },
   "outputs": [],
   "source": [
    "def w_from_alpha(alpha, X, lamb):\n",
    "    \"\"\"\n",
    "    Obtain the primal weights from alpha\n",
    "\n",
    "    Inputs:\n",
    "        alpha: dual weights (n_samples)\n",
    "        X: covariates matrix (n_samples*n_features)\n",
    "        lamb: regularization (size 1)\n",
    "\n",
    "    Outputs:\n",
    "        primal weights (n_features)\n",
    "    \"\"\"\n",
    "    n = X.shape[1]\n",
    "    return (1 / (n * lamb)) * np.dot(X,alpha)\n",
    "\n",
    "def hinge_sdca_update(y, W, X, n, lamb, alpha, gamma=0):\n",
    "    \"\"\"\n",
    "    Updates alpha for hing loss in SDCA\n",
    "\n",
    "    Inputs:\n",
    "        W: primal weights (n_features)\n",
    "        X: covariates (n_features)\n",
    "        y: label (size 1)\n",
    "        lamb: regularization (size 1)\n",
    "\n",
    "    Outputs:\n",
    "        update of alpha (size 1)\n",
    "    \"\"\"\n",
    "    n=X.shape[0]\n",
    "    minim = min(1, ((1-np.dot(X.T,W)*y)*n*lamb/(np.power(np.linalg.norm(X), 2))+alpha*y))\n",
    "    delta_alpha = y* max(0, minim)-alpha\n",
    "    return (delta_alpha) \n",
    "\n",
    "def duality_gap(alpha, X, Y, lamb):\n",
    "    \"\"\"\n",
    "    Computes the duality gap\n",
    "\n",
    "    Inputs:\n",
    "        alpha: dual weights (n_samples)\n",
    "        X: covariates matrix (n_samples*n_features)\n",
    "        Y: labels vector (n_samples)\n",
    "        lamb: regularization (size 1)\n",
    "\n",
    "    Outputs:\n",
    "        duality gap\n",
    "    \"\"\"\n",
    "\n",
    "    W = w_from_alpha(alpha, X, lamb)\n",
    "    primal = cum_loss_primal(W, X.T, Y, lamb)\n",
    "    dual = cum_loss_dual(alpha, X, Y, lamb)\n",
    "    return primal - dual\n",
    "\n",
    "def loss_tracking(X, Y, lamb, alpha, Alpha, primal_loss_track, dual_loss_track, gaps_track):\n",
    "    \"\"\"\n",
    "    Records alpha and losses\n",
    "\n",
    "    Inputs:\n",
    "        X: covariates matrix (n_samples*n_features)\n",
    "        Y: labels vector (n_samples)\n",
    "        lamb: regularization (size 1)\n",
    "        alpha: dual weights (n_samples)\n",
    "        Alpha: matrix of dual weights (n_samples per epoch)\n",
    "        primal_loss_track : vector of primal losses (one per epoch)\n",
    "        dual_loss_track : vector of dual losses (one per epoch)\n",
    "        gaps_track : vector of duality gaps (one per epoch)\n",
    "\n",
    "    Outputs:\n",
    "        Alpha and losses updated\n",
    "    \"\"\"\n",
    "    Alpha.append(alpha.copy())\n",
    "    W = w_from_alpha(alpha, X, lamb)\n",
    "    primal_loss_track.append(cum_loss_primal(W, X.T, Y, lamb))\n",
    "    dual_loss_track.append(cum_loss_dual(np.array(alpha), X, Y, lamb))\n",
    "    gaps_track.append(duality_gap(np.array(alpha), X, Y, lamb))\n",
    "    return (Alpha, primal_loss_track, dual_loss_track, gaps_track)\n",
    "    "
   ]
  },
  {
   "cell_type": "markdown",
   "metadata": {},
   "source": [
    "### Algorithme classique, avec permutations"
   ]
  },
  {
   "cell_type": "markdown",
   "metadata": {},
   "source": [
    "On passe ensuite a l'algorithme a proprement parler"
   ]
  },
  {
   "cell_type": "code",
   "execution_count": 7,
   "metadata": {
    "collapsed": true
   },
   "outputs": [],
   "source": [
    "def SDCA_perm (X, Y, n_epoch, gamma, T_0_ratio, epsilon, lamb):\n",
    "    \"\"\"\n",
    "    SDCA Algorithm with a permutation of observations\n",
    "    at each epoch.\n",
    "\n",
    "    Inputs:\n",
    "        X: covariates matrix (n_samples*n_features)\n",
    "        Y: labels vector (n_samples)\n",
    "        lamb: regularization (size 1)\n",
    "        n_epoch: number of epochs (size 1)\n",
    "        T_0_ratio: fraction indicating the share of iterations that we keep\n",
    "                    to compute the final alpha and w (size 1)\n",
    "        epsilon: duality gap threshold ending to exit the loop (size 1)\n",
    "        lamb: regularization (size 1)\n",
    "\n",
    "    Outputs:\n",
    "        Alpha: matrix of weights (each row corresponds to an epoch)\n",
    "        timelaps: vector of computational times (each element an epoch)\n",
    "        primal_loss_track: vector of primal losses (each element an epoch)\n",
    "        dual_loss_track: vector of dual losses (each element an epoch)\n",
    "        gaps_track : vector of duality gaps (each element an epoch)\n",
    "    \"\"\"\n",
    "    \n",
    "    # To be closer to the article, we use the transpose of X in our computations\n",
    "    X=X.T\n",
    "    \n",
    "    # We initialize\n",
    "    n_samples = X.shape[1]\n",
    "    n_features = X.shape[0]\n",
    "    alpha= [0] * n_samples\n",
    "    W = w_from_alpha(alpha, X, lamb)\n",
    "    t = 0\n",
    "    timelaps = [0]\n",
    "    \n",
    "    # We record the losses and alpha\n",
    "    Alpha, primal_loss_track, dual_loss_track, gaps_track = [], [], [], []\n",
    "    [Alpha, primal_loss_track, dual_loss_track, gaps_track] = (loss_tracking(X, Y, lamb, alpha, Alpha,\n",
    "                                                                             primal_loss_track, dual_loss_track,\n",
    "                                                                             gaps_track))\n",
    "    \n",
    "    \n",
    "    while (gaps_track[-1] > epsilon) and (t < n_epoch) :\n",
    "        start = time.perf_counter()\n",
    "        indices = np.array(range(0, n_samples))\n",
    "        np.random.shuffle(indices)\n",
    "        for i in range(0, n_samples):\n",
    "            j = indices[i]\n",
    "            delta_alpha = hinge_sdca_update(Y[j], W, X[:,j], n_samples, lamb, alpha[j], gamma)\n",
    "            alpha[j] += delta_alpha\n",
    "            W += (1 / (lamb * n_samples)) * delta_alpha * X[:,j]\n",
    "        end = time.perf_counter()\n",
    "        timelaps.append(end - start)\n",
    "        # After each epoch we record alpha and the losses\n",
    "        [Alpha, primal_loss_track, dual_loss_track, gaps_track] = (loss_tracking(X, Y, lamb, alpha, Alpha,\n",
    "                                                                             primal_loss_track, dual_loss_track,\n",
    "                                                                             gaps_track))\n",
    "        t += 1\n",
    "    \n",
    "    output = namedtuple(\"output\", ([\"Alpha\",\"timelaps\", \"primal_loss_track\", \n",
    "                                    \"dual_loss_track\",\"gaps_track\"]))\n",
    "    out= output(Alpha, timelaps, primal_loss_track, dual_loss_track, gaps_track)\n",
    "    return out"
   ]
  },
  {
   "cell_type": "markdown",
   "metadata": {},
   "source": [
    "#### Résultats pour les données simulées"
   ]
  },
  {
   "cell_type": "markdown",
   "metadata": {},
   "source": [
    "> On sauvegarde les résultats avec l'indice _p comme algorithme avec permutation"
   ]
  },
  {
   "cell_type": "code",
   "execution_count": 8,
   "metadata": {},
   "outputs": [],
   "source": [
    "n_epoch = 20\n",
    "gamma = 1.0\n",
    "T_0_ratio = 1/2\n",
    "epsilon =1e-7 \n",
    "lamb = 1e-1\n",
    "sdca_perm = SDCA_perm(X_scale, Y, n_epoch, gamma, T_0_ratio, epsilon, lamb)"
   ]
  },
  {
   "cell_type": "markdown",
   "metadata": {},
   "source": [
    "On regarde l'évolution de la perte primale et du duality gap"
   ]
  },
  {
   "cell_type": "code",
   "execution_count": 9,
   "metadata": {},
   "outputs": [
    {
     "data": {
      "image/png": "[encoded data removed]",
      "text/plain": [
       "<matplotlib.figure.Figure at 0x7f34a42ed9e8>"
      ]
     },
     "metadata": {},
     "output_type": "display_data"
    }
   ],
   "source": [
    "plt.figure(figsize=(12,5))\n",
    "plt.plot([2,1])\n",
    "plt.subplot(121)\n",
    "plt.plot(np.cumsum(sdca_perm.timelaps), sdca_perm.primal_loss_track , label=\"perte primale\")\n",
    "plt.ylabel(\"Perte\")\n",
    "plt.xlabel(\"CPU time\")\n",
    "plt.legend()\n",
    "plt.title(\"Evolution de la perte primale\")\n",
    "\n",
    "plt.subplot(122)\n",
    "plt.plot(np.cumsum(sdca_perm.timelaps), sdca_perm.gaps_track , label=\"duality gap\")\n",
    "plt.ylabel(\"Perte\")\n",
    "plt.xlabel(\"CPU time\")\n",
    "plt.legend()\n",
    "plt.title(\"Evolution du duality gap\")\n",
    "plt.show()"
   ]
  },
  {
   "cell_type": "markdown",
   "metadata": {},
   "source": [
    "### Algorithme avec pas décroissant"
   ]
  },
  {
   "cell_type": "code",
   "execution_count": 10,
   "metadata": {
    "collapsed": true
   },
   "outputs": [],
   "source": [
    "def SDCA_decreasing_step (X, Y, n_epoch, gamma, T_0_ratio, epsilon, lamb, decreasing_step):\n",
    "    \"\"\"\n",
    "    SDCA Algorithm with a permutation of observations\n",
    "    at each epoch and decreasing steps\n",
    "\n",
    "    Inputs:\n",
    "        X: covariates matrix (n_samples*n_features)\n",
    "        Y: labels vector (n_samples)\n",
    "        lamb: regularization (size 1)\n",
    "        n_epoch: number of epochs (size 1)\n",
    "        T_0_ratio: fraction indicating the share of iterations that we keep\n",
    "                    to compute the final alpha and w (size 1)\n",
    "        epsilon: duality gap threshold ending to exit the loop (size 1)\n",
    "        lamb: regularization (size 1)\n",
    "        decreasing_step: indicates whether the step decreases with iterations (boolean)\n",
    "\n",
    "    Outputs:\n",
    "        Alpha: matrix of weights (each row corresponds to an epoch)\n",
    "        timelaps: vector of computational times (each element an epoch)\n",
    "        primal_loss_track: vector of primal losses (each element an epoch)\n",
    "        dual_loss_track: vector of dual losses (each element an epoch)\n",
    "        gaps_track : vector of duality gaps (each element an epoch)\n",
    "    \"\"\"\n",
    "    # To be closer to the article, we use the transpose of X in our computations\n",
    "    X=X.T\n",
    "    \n",
    "    # We initialize\n",
    "    n_samples = X.shape[1]\n",
    "    n_features = X.shape[0]\n",
    "    alpha= [0] * n_samples\n",
    "    W = w_from_alpha(alpha, X, lamb)\n",
    "    t = 0\n",
    "    timelaps = [0]\n",
    "    \n",
    "    # We record the losses and alpha\n",
    "    Alpha, primal_loss_track, dual_loss_track, gaps_track = [], [], [], []\n",
    "    [Alpha, primal_loss_track, dual_loss_track, gaps_track] = (loss_tracking(X, Y, lamb, alpha, Alpha,\n",
    "                                                                             primal_loss_track, dual_loss_track,\n",
    "                                                                             gaps_track))\n",
    "    \n",
    "    \n",
    "    while (gaps_track[-1] > epsilon) and (t < n_epoch) :\n",
    "        start = time.perf_counter()\n",
    "        indices = np.array(range(0, n_samples))\n",
    "        np.random.shuffle(indices)\n",
    "        for i in range(0, n_samples):\n",
    "            j = indices[i]\n",
    "            \n",
    "            if (decreasing_step == True):\n",
    "                delta_alpha = hinge_sdca_update(Y[j], W, X[:,j], t**5, lamb, alpha[j], gamma)\n",
    "            else:\n",
    "                delta_alpha = hinge_sdca_update(Y[j], W, X[:,j], n_samples, lamb, alpha[j], gamma)\n",
    "            alpha[j] += delta_alpha\n",
    "            W += (1 / (lamb * n_samples)) * delta_alpha * X[:,j]\n",
    "        end = time.perf_counter()\n",
    "        timelaps.append(end - start)\n",
    "        # After each epoch we record alpha and the losses\n",
    "        [Alpha, primal_loss_track, dual_loss_track, gaps_track] = (loss_tracking(X, Y, lamb, alpha, Alpha,\n",
    "                                                                             primal_loss_track, dual_loss_track,\n",
    "                                                                             gaps_track))\n",
    "        t += 1\n",
    "\n",
    "    output = namedtuple(\"output\", ([\"Alpha\",\"timelaps\", \"primal_loss_track\", \n",
    "                                    \"dual_loss_track\",\"gaps_track\"]))\n",
    "    out= output(Alpha, timelaps, primal_loss_track, dual_loss_track, gaps_track)\n",
    "    return out"
   ]
  },
  {
   "cell_type": "markdown",
   "metadata": {},
   "source": [
    "#### Résultats pour les données simulées"
   ]
  },
  {
   "cell_type": "markdown",
   "metadata": {},
   "source": [
    "> On sauvegarde les valeurs avec l'indice _d comme decreasing step"
   ]
  },
  {
   "cell_type": "code",
   "execution_count": 11,
   "metadata": {},
   "outputs": [],
   "source": [
    "n_epoch = 20\n",
    "gamma = 1.0\n",
    "T_0_ratio = 1/2\n",
    "epsilon =1e-7 \n",
    "lamb = 1e-1\n",
    "decreasing_step = True\n",
    "sdca_dec = SDCA_decreasing_step(X_scale, Y, n_epoch, gamma, T_0_ratio, epsilon, lamb, decreasing_step)"
   ]
  },
  {
   "cell_type": "markdown",
   "metadata": {},
   "source": [
    "On regarde l'évolution de la perte primale et du duality gap"
   ]
  },
  {
   "cell_type": "code",
   "execution_count": 12,
   "metadata": {},
   "outputs": [
    {
     "data": {
      "image/png": "[encoded data removed]",
      "text/plain": [
       "<matplotlib.figure.Figure at 0x7f346dc91d30>"
      ]
     },
     "metadata": {},
     "output_type": "display_data"
    }
   ],
   "source": [
    "plt.figure(figsize=(12,5))\n",
    "plt.plot([2,1])\n",
    "plt.subplot(121)\n",
    "plt.plot(np.cumsum(sdca_dec.timelaps), sdca_dec.primal_loss_track , label=\"perte primale\")\n",
    "plt.ylabel(\"Perte\")\n",
    "plt.xlabel(\"CPU time\")\n",
    "plt.legend()\n",
    "plt.title(\"Evolution de la perte primale\")\n",
    "\n",
    "plt.subplot(122)\n",
    "plt.plot(np.cumsum(sdca_dec.timelaps), sdca_dec.gaps_track , label=\"duality gap\")\n",
    "plt.ylabel(\"Perte\")\n",
    "plt.xlabel(\"CPU time\")\n",
    "plt.legend()\n",
    "plt.title(\"Evolution du duality gap\")\n",
    "plt.show()"
   ]
  },
  {
   "cell_type": "markdown",
   "metadata": {},
   "source": [
    "### Algorithme avec Stochastic Gradient Descent pour la premiere epoch"
   ]
  },
  {
   "cell_type": "markdown",
   "metadata": {},
   "source": [
    "##### Cas du primal avec hinge loss\n",
    "\n",
    "On appelle $S$ un ensemble de points, $x_i \\in \\mathbb{R}^{n}$ et les labels correspondants, $y_i \\in \\{−1,1\\}$. On cherche un hyperplan qui minimiserait la hinge loss totale.\n",
    "\n",
    "\\begin{equation}\n",
    "w^* = \\underset{w}{\\text{argmin }} L^{hinge}_S(w) = \\underset{w}{\\text{argmin }} \\sum_i{l_{hinge}(w,x_i,y_i)}= \\underset{w}{\\text{argmin }} \\sum_i{\\max{\\{0,1-y_iw\\cdot x_i}\\}}\n",
    "\\end{equation}\n",
    "\n",
    "On identifie le gradient:\n",
    "\n",
    "$$\\frac{\\partial{l_{hinge}}}{\\partial w}=\n",
    "\\begin{cases}\n",
    "  0  & y_iw\\cdot x_i \\geq 1 \\\\\n",
    "  -y_ix & y_iw\\cdot x_i < 1\n",
    "\\end{cases}$$\n",
    "\n",
    "On obtient alors l'update suivant\n",
    "\n",
    "$$w^{t+1}=\\left(1-\\frac{1}{t}\\right)w^{t} - \\frac{1|(y_i w^{t}\\cdot x_i)}{\\lambda t}x_i$$"
   ]
  },
  {
   "cell_type": "markdown",
   "metadata": {},
   "source": [
    "##### Cas du dual avec hinge loss\n",
    "\n",
    "Soit $t \\in \\{1,...,n\\}$\n",
    "\n",
    "\n",
    "Puisque pour la *Stochastic Gradient Descent*, on update selon une seule observation $t$ à chaque fois, l'objectif est de choisir le réel $\\alpha_t$ qui maximise : \n",
    "$$ - \\frac{1}{n} \\phi_t^{\\star}(-\\alpha_t) - \\frac{\\lambda}{2} ||w^{t}||^2$$\n",
    "Or, on a:\n",
    "$$ \\begin{align}\n",
    "w^{t} = &  w^{t-1} + \\Delta w\\\\\n",
    " = & w^{t-1} + \\frac{1}{\\lambda n}\\sum_{i = 1}^{n} \\Delta \\alpha _{i} x_i\\\\\n",
    " = & w^{t-1} + \\frac{1}{\\lambda n} \\Delta \\alpha _{t} x_t \\\\\n",
    " = & w^{t-1} + \\frac{1}{\\lambda n} \\alpha _{t} x_t \\\\\n",
    "\\end{align}$$\n",
    "En effet, $\\alpha_t$ est initialisé à 0 et le SGD sert à la première epoch seulement. On se retrouve donc à maximiser:\n",
    "\n",
    "$$ - \\phi_t^{\\star}(-\\alpha_t) - \\frac{\\lambda n}{2} ||w^{t-1} + \\frac{1}{\\lambda n} \\alpha _{t} x_t ||^2$$\n",
    "\n",
    "En développant : \n",
    "$$ \\alpha_t y_t - \\frac{\\lambda n}{2} \\left( ||w^{t-1}||^2 + 2 \\frac{\\alpha_t}{\\lambda n} \\langle w^{t-1}, x_t \\rangle + \\frac{\\alpha_t^2}{\\lambda^2 n^2}||x_t||^2 \\right)$$\n",
    "\n",
    "L'expression est concave du fait du terme de second ordre négatif. L'extremum sera donc un maximum. On applique la formule du maximizer dans un polynome de degré 2:\n",
    "$$ \\alpha_t^{\\star}= \\frac{\\lambda n}{||x_t||^2} \\left(y_t - x_t^T w^{t-1}\\right)$$\n",
    "\n",
    "\n",
    "Il faut toutefois éviter d'avoir une dual loss infinie. Il faut donc que $-\\alpha_t^{\\star}y \\in [-1,0] \\Leftrightarrow \\alpha_t^{\\star}y \\in [0,1]$\n",
    "\n",
    "On peut donc adapter l'algorithme pour qu'il incorpore un SGD pour la première epoch."
   ]
  },
  {
   "cell_type": "markdown",
   "metadata": {},
   "source": [
    "On commence par ajouter la fonction d'update du SGD"
   ]
  },
  {
   "cell_type": "code",
   "execution_count": 13,
   "metadata": {
    "collapsed": true
   },
   "outputs": [],
   "source": [
    "def hinge_sgd_update(y, W, X, t, lamb):    \n",
    "    \"\"\"\n",
    "    Compute alpha update in SGD for first epoch\n",
    "\n",
    "    Inputs:\n",
    "        y: label (size 1)\n",
    "        W: primal weights (n_features)\n",
    "        X: covariates (n_features)\n",
    "        t: iteration (size 1)\n",
    "        lamb: regularization (size 1)\n",
    "\n",
    "    Outputs:\n",
    "        update of alpha (size 1)\n",
    "    \"\"\"\n",
    "    alpha_star=((lamb * t) /  (np.linalg.norm(X)**2)) * (y - np.dot(X.T, W))\n",
    "    if (alpha_star *y <0) and (alpha_star *y >1):\n",
    "        print(\"Error SGD\")\n",
    "    return alpha_star"
   ]
  },
  {
   "cell_type": "code",
   "execution_count": 14,
   "metadata": {
    "collapsed": true
   },
   "outputs": [],
   "source": [
    "def SDCA_sgd (X, Y, n_epoch, gamma, T_0_ratio, epsilon, lamb, SGD_init):\n",
    "    \"\"\"\n",
    "    SDCA Algorithm with a permutation of observations\n",
    "    at each epoch and a first epoch using Stochastic \n",
    "    Gradient Descent to initialize alpha\n",
    "\n",
    "    Inputs:\n",
    "        X: covariates matrix (n_samples*n_features)\n",
    "        Y: labels vector (n_samples)\n",
    "        lamb: regularization (size 1)\n",
    "        n_epoch: number of epochs (size 1)\n",
    "        T_0_ratio: fraction indicating the share of iterations that we keep\n",
    "                    to compute the final alpha and w (size 1)\n",
    "        epsilon: duality gap threshold ending to exit the loop (size 1)\n",
    "        lamb: regularization (size 1)\n",
    "        sgd: indicates whether to use SGD for the first epoch (boolean)\n",
    "\n",
    "    Outputs:\n",
    "        Alpha: matrix of weights (each row corresponds to an epoch)\n",
    "        timelaps: vector of computational times (each element an epoch)\n",
    "        primal_loss_track: vector of primal losses (each element an epoch)\n",
    "        dual_loss_track: vector of dual losses (each element an epoch)\n",
    "        gaps_track : vector of duality gaps (each element an epoch)\n",
    "    \"\"\"\n",
    "    \n",
    "    # To be closer to the article, we use the transpose of X in our computations\n",
    "    X=X.T\n",
    "    \n",
    "    # We initialize\n",
    "    n_samples = X.shape[1]\n",
    "    n_features = X.shape[0]\n",
    "    alpha= [0] * n_samples\n",
    "    W = w_from_alpha(alpha, X, lamb)\n",
    "    t = 0\n",
    "    timelaps = [0]\n",
    "    \n",
    "    # We record the losses and alpha\n",
    "    Alpha, primal_loss_track, dual_loss_track, gaps_track = [], [], [], []\n",
    "    [Alpha, primal_loss_track, dual_loss_track, gaps_track] = (loss_tracking(X, Y, lamb, alpha, Alpha,\n",
    "                                                                             primal_loss_track, dual_loss_track,\n",
    "                                                                             gaps_track))\n",
    "    \n",
    "    \n",
    "    while (gaps_track[-1] > epsilon) and (t < n_epoch) :\n",
    "        start = time.perf_counter()\n",
    "        indices = np.array(range(0, n_samples))\n",
    "        np.random.shuffle(indices)\n",
    "        for i in range(0, n_samples):\n",
    "            j = indices[i]\n",
    "            \n",
    "            # Initialization using SGD if desired\n",
    "            if (t==0) and (SGD_init==True):\n",
    "                alpha[i] = hinge_sgd_update(Y[i], W, X[:, i], i, lamb)\n",
    "                # Due to the evolving dimension of alpha, we compute w manually\n",
    "                W *= float(i) / float(i + 1)\n",
    "                W += (1 / (lamb * (i + 1))) * np.array(alpha[i]) * np.array(X[:, i])\n",
    "                \n",
    "             # SDCA for the rest\n",
    "            else:\n",
    "                delta_alpha = hinge_sdca_update(Y[j], W, X[:,j], n_samples, lamb, alpha[j], gamma)\n",
    "                alpha[j] += delta_alpha\n",
    "                W += (1 / (lamb * n_samples)) * delta_alpha * X[:,j]\n",
    "        \n",
    "        \n",
    "        end = time.perf_counter()\n",
    "        timelaps.append(end - start)\n",
    "        # After each epoch we record alpha and the losses\n",
    "        [Alpha, primal_loss_track, dual_loss_track, gaps_track] = (loss_tracking(X, Y, lamb, alpha, Alpha,\n",
    "                                                                             primal_loss_track, dual_loss_track,\n",
    "                                                                             gaps_track))\n",
    "        t += 1\n",
    "    \n",
    "    output = namedtuple(\"output\", ([\"Alpha\",\"timelaps\", \"primal_loss_track\", \n",
    "                                    \"dual_loss_track\",\"gaps_track\"]))\n",
    "    out= output(Alpha, timelaps, primal_loss_track, dual_loss_track, gaps_track)\n",
    "    return out"
   ]
  },
  {
   "cell_type": "markdown",
   "metadata": {},
   "source": [
    "#### Résultats pour les données simulées"
   ]
  },
  {
   "cell_type": "markdown",
   "metadata": {},
   "source": [
    "> On sauvegarde les valeurs avec l'indice _s comme SGD"
   ]
  },
  {
   "cell_type": "code",
   "execution_count": 15,
   "metadata": {},
   "outputs": [],
   "source": [
    "n_epoch = 20\n",
    "gamma = 1.0\n",
    "T_0_ratio = 1/2\n",
    "epsilon =1e-7 \n",
    "lamb = 1e-1\n",
    "SGD_init = True\n",
    "\n",
    "sdca_sgd = SDCA_sgd(X_scale, Y, n_epoch, gamma, T_0_ratio, epsilon, lamb, SGD_init)"
   ]
  },
  {
   "cell_type": "markdown",
   "metadata": {},
   "source": [
    "On regarde l'évolution de la perte primale et du duality gap"
   ]
  },
  {
   "cell_type": "code",
   "execution_count": 16,
   "metadata": {},
   "outputs": [
    {
     "data": {
      "image/png": "[encoded data removed]",
      "text/plain": [
       "<matplotlib.figure.Figure at 0x7f346d6f26a0>"
      ]
     },
     "metadata": {},
     "output_type": "display_data"
    }
   ],
   "source": [
    "plt.figure(figsize=(12,5))\n",
    "plt.plot([2,1])\n",
    "plt.subplot(121)\n",
    "plt.plot(np.cumsum(sdca_sgd.timelaps), sdca_sgd.primal_loss_track , label=\"perte primale\")\n",
    "plt.ylabel(\"Perte\")\n",
    "plt.xlabel(\"CPU time\")\n",
    "plt.legend()\n",
    "plt.title(\"Evolution de la perte primale\")\n",
    "\n",
    "plt.subplot(122)\n",
    "plt.plot(np.cumsum(sdca_sgd.timelaps), sdca_sgd.gaps_track , label=\"duality gap\")\n",
    "plt.ylabel(\"Perte\")\n",
    "plt.xlabel(\"CPU time\")\n",
    "plt.legend()\n",
    "plt.title(\"Evolution du duality gap\")\n",
    "plt.show()"
   ]
  },
  {
   "cell_type": "markdown",
   "metadata": {},
   "source": [
    "On regarde l'évolution de la perte primale et du duality gap"
   ]
  },
  {
   "cell_type": "markdown",
   "metadata": {},
   "source": [
    "### Comparaison des performances des différentes versions"
   ]
  },
  {
   "cell_type": "code",
   "execution_count": 17,
   "metadata": {
    "collapsed": true
   },
   "outputs": [],
   "source": [
    "T = 8\n",
    "gamma = 1.0\n",
    "T_0_ratio = 1/2\n",
    "epsilon =1e-7 \n",
    "lamb = 1e-1\n",
    "SGD_init = True\n",
    "decreasing_step = True\n",
    "\n",
    "sdca_perm = SDCA_perm(X_scale, Y, n_epoch, gamma, T_0_ratio, epsilon, lamb)\n",
    "\n",
    "sdca_dec = SDCA_decreasing_step(X_scale, Y, n_epoch, gamma, T_0_ratio, epsilon, lamb, decreasing_step)\n",
    "\n",
    "sdca_sgd = SDCA_sgd(X_scale, Y, n_epoch, gamma, T_0_ratio, epsilon, lamb, SGD_init)"
   ]
  },
  {
   "cell_type": "code",
   "execution_count": 18,
   "metadata": {},
   "outputs": [
    {
     "data": {
      "image/png": "[encoded data removed]",
      "text/plain": [
       "<matplotlib.figure.Figure at 0x7f346d3e5a90>"
      ]
     },
     "metadata": {},
     "output_type": "display_data"
    }
   ],
   "source": [
    "plt.figure(figsize=(12,5))\n",
    "plt.plot([2,1])\n",
    "plt.subplot(121)\n",
    "plt.plot(np.cumsum(sdca_perm.timelaps), sdca_perm.primal_loss_track , label=\"permutation simple\")\n",
    "plt.plot(np.cumsum(sdca_dec.timelaps), sdca_dec.primal_loss_track , label=\"permutation pas decroissant\")\n",
    "plt.plot(np.cumsum(sdca_sgd.timelaps), sdca_sgd.primal_loss_track , label=\"permutation SGD\")\n",
    "plt.ylabel(\"Perte\")\n",
    "plt.xlabel(\"CPU time\")\n",
    "plt.legend()\n",
    "plt.title(\"Evolution de la perte primale\")\n",
    "\n",
    "plt.subplot(122)\n",
    "plt.plot(np.cumsum(sdca_perm.timelaps), sdca_perm.gaps_track, label=\"permutation simple\")\n",
    "plt.plot(np.cumsum(sdca_dec.timelaps), sdca_dec.gaps_track, label=\"permutation pas decroissant\")\n",
    "plt.plot(np.cumsum(sdca_sgd.timelaps), sdca_sgd.gaps_track, label=\"permutation SGD\")\n",
    "plt.ylabel(\"Perte\")\n",
    "plt.xlabel(\"CPU time\")\n",
    "plt.legend()\n",
    "plt.title(\"Evolution du duality gap\")\n",
    "plt.show()"
   ]
  },
  {
   "cell_type": "markdown",
   "metadata": {},
   "source": [
    "## Pegasos algorithm"
   ]
  },
  {
   "cell_type": "markdown",
   "metadata": {},
   "source": [
    "### Setting first hyperparameters"
   ]
  },
  {
   "cell_type": "code",
   "execution_count": 19,
   "metadata": {
    "collapsed": true
   },
   "outputs": [],
   "source": [
    "n_epoch = 5\n",
    "n_iter = n_epoch*n_samples # for comparison purposes\n",
    "lamb=0.01"
   ]
  },
  {
   "cell_type": "markdown",
   "metadata": {
    "collapsed": true
   },
   "source": [
    "### Basic implementation of Pegasos\n",
    "We want to show first here the behaviour of the basic implementation of Pegasos as described by Shalev-Shwartz et al. (2007). Additionally, the PEGASOS projection step is skipped, as it\n",
    "can be shown that even without it, $||w||^2 \\leq 4/\\lambda$ is maintained."
   ]
  },
  {
   "cell_type": "code",
   "execution_count": 20,
   "metadata": {
    "collapsed": true
   },
   "outputs": [],
   "source": [
    "def pegasos_basic(X,Y,lamb, n_iter):\n",
    "    \"\"\"\n",
    "    Implement Pegasos in its basic definition\n",
    "    In Shalev-Shwartz, Shai, et al. \"Pegasos: Primal estimated sub-gradient solver for svm.\" \n",
    "    Mathematical programming 127.1 (2011): 3-30.\n",
    "    \n",
    "    Inputs:\n",
    "        X: covariates matrix (n_samples,n_features) \n",
    "        Y: labels vector, coded as (-1,1), (n_samples)\n",
    "        lamb: regularization paramater\n",
    "        n_iter: number of iterations\n",
    "    \n",
    "    Outputs:\n",
    "        primal_: primal suboptimality at each iteration (n_iter)\n",
    "        rtime: running time for each iteration (n_iter)\n",
    "        w: final weights (n_features)\n",
    "    \n",
    "    \"\"\"\n",
    "    m = len(Y) #number of observations\n",
    "    rtime = [] #keeping track of running time\n",
    "    \n",
    "    # Initialisation\n",
    "    w= np.zeros(n_features) \n",
    "    primal_= []\n",
    "\n",
    "\n",
    "    for i in range(0,n_iter):\n",
    "\n",
    "        start_time = time.perf_counter()\n",
    "        \n",
    "        t=np.random.randint(m) # draw random index\n",
    "        eta = 1/(lamb*(i+1)) # define step size\n",
    "        \n",
    "        # Compute subgradient\n",
    "        x, y = X[t], Y[t]\n",
    "        subgrad= y*(w.dot(x))\n",
    "        \n",
    "        # Compute weight\n",
    "        if subgrad <1:\n",
    "            w=(1-eta*lamb)*w+ (eta*y)*x\n",
    "        else :\n",
    "             w=(1-eta*lamb)*w\n",
    "                \n",
    "        # Estimate running time\n",
    "        rtime.append(time.perf_counter() - start_time)\n",
    "        \n",
    "        # To monitor the optimization (excluded from rtime)\n",
    "        cost = cum_loss_primal(w,X,Y,lamb)\n",
    "        primal_.append(cost)\n",
    "        \n",
    "    print(\"total running time:\",sum(rtime), \"sec\") \n",
    "    print(\"final primal suboptimality:\", cost)\n",
    "\n",
    "    output = namedtuple(\"output\", [\"primal\", \"rtime\", \"w\"])\n",
    "    out= output(primal_, rtime, w)\n",
    "    return out\n",
    "    "
   ]
  },
  {
   "cell_type": "code",
   "execution_count": 21,
   "metadata": {},
   "outputs": [
    {
     "name": "stdout",
     "output_type": "stream",
     "text": [
      "total running time: 0.8931268452433869 sec\n",
      "final primal suboptimality: 0.162734265541\n"
     ]
    }
   ],
   "source": [
    "result_peg_basic = pegasos_basic(X_scale,Y,lamb,n_iter)"
   ]
  },
  {
   "cell_type": "code",
   "execution_count": 22,
   "metadata": {},
   "outputs": [
    {
     "data": {
      "image/png": "[encoded data removed]",
      "text/plain": [
       "<matplotlib.figure.Figure at 0x7f346d6d10b8>"
      ]
     },
     "metadata": {},
     "output_type": "display_data"
    }
   ],
   "source": [
    "plt.plot(range(0,n_iter),result_peg_basic.primal, label=\"Primal Suboptimality\")\n",
    "plt.xlabel(\"Number of iterations\")\n",
    "plt.ylim((0,1))\n",
    "plt.legend()\n",
    "plt.show()"
   ]
  },
  {
   "cell_type": "markdown",
   "metadata": {},
   "source": [
    "### Variant Pegasos\n",
    "We used a variant of the previous method, with a single example used in each update: Following\n",
    "Bottou (Web Page), instead of sampling an example independently\n",
    "at each iteration, a random permutation over the training set\n",
    "is used. When the permutation is exhausted, a new, independent,\n",
    "random permutation is drawn. Although this variation does not\n",
    "match the theoretical analysis, it performs slightly better in practice, as in Shalev-Shwartz, Shai, and Nathan Srebro. \"SVM optimization: inverse dependence on training set size.\" Proceedings of the 25th international conference on Machine learning. ACM, 2008.\n",
    "\n",
    "**The idea**: performs the subgradient descent over all data points per pass. With this systematic method we avoid bias coming from neglecting a random portion of our dataset.\n",
    "\n",
    "**Impact on implementation**: we now think in terms of epoch rather than number of iterations\n"
   ]
  },
  {
   "cell_type": "code",
   "execution_count": 23,
   "metadata": {
    "collapsed": true
   },
   "outputs": [],
   "source": [
    "def pegasos_mod(X,Y,lamb, n_epoch): \n",
    "    \"\"\"\n",
    "    Implement Pegasos in its variant definition\n",
    "    cf. Bottou.\n",
    "    Idea: define with regard to pass on the data\n",
    "    \n",
    "    Inputs:\n",
    "        X: covariates matrix (n_samples,n_features) \n",
    "        Y: labels vector, coded as (-1,1), (n_samples)\n",
    "        lamb: regularization paramater\n",
    "        n_epoch: number of epoch\n",
    "    \n",
    "    Outputs:\n",
    "        primal_: primal suboptimality at each iteration (n_iter)\n",
    "        rtime: running time for each iteration (n_iter)\n",
    "        w: final weights (n_features)\n",
    "    \"\"\"\n",
    "    \n",
    "    m = len(Y) #number of observations\n",
    "\n",
    "    primal_= []\n",
    "    rtime = []\n",
    "    \n",
    "    w= np.zeros(n_features) \n",
    "    \n",
    "\n",
    "    \n",
    "    for i in range(0, n_epoch):\n",
    "        \n",
    "        start_time = time.perf_counter() \n",
    "        \n",
    "        # Shuffle datasets\n",
    "        p= np.random.permutation(m)\n",
    "        Xs=X[p]\n",
    "        Ys=Y[p]\n",
    "        \n",
    "        # Subgradient descent over all data points\n",
    "        for t in range(0,m):\n",
    "            eta = 1/(lamb*(t+1))\n",
    "            x, y= Xs[t], Ys[t]\n",
    "            subgrad= y*(w.dot(x))\n",
    "            if subgrad <1:\n",
    "                w=(1-eta*lamb)*w+ (eta*y)*x\n",
    "            else:\n",
    "                w=(1-eta*lamb)*w\n",
    "                    \n",
    "        # Monitor convergence            \n",
    "        rtime.append(time.perf_counter() - start_time)\n",
    "        cost = cum_loss_primal(w,X,Y, lamb)\n",
    "        primal_.append(cost)\n",
    "\n",
    "        \n",
    "        \n",
    "    print(\"running time:\",sum(rtime)) \n",
    "\n",
    "    print(\"final primal suboptimality:\", cost)\n",
    "\n",
    "    output = namedtuple(\"output\", [\"primal\", \"rtime\", \"w\"])\n",
    "    out= output(primal_, rtime, w)\n",
    "    return out"
   ]
  },
  {
   "cell_type": "code",
   "execution_count": 24,
   "metadata": {},
   "outputs": [
    {
     "name": "stdout",
     "output_type": "stream",
     "text": [
      "running time: 0.2893347560893744\n",
      "final primal suboptimality: 0.172681364045\n"
     ]
    }
   ],
   "source": [
    "result_peg_mod = pegasos_mod(X_scale,Y, lamb, n_epoch)"
   ]
  },
  {
   "cell_type": "code",
   "execution_count": 25,
   "metadata": {},
   "outputs": [
    {
     "data": {
      "image/png": "[encoded data removed]",
      "text/plain": [
       "<matplotlib.figure.Figure at 0x7f346dd9b518>"
      ]
     },
     "metadata": {},
     "output_type": "display_data"
    }
   ],
   "source": [
    "plt.plot(np.cumsum(result_peg_mod.rtime),result_peg_mod.primal, label=\"Pegasos variant\")\n",
    "plt.plot(np.cumsum(result_peg_basic.rtime),result_peg_basic.primal, label=\"Pegasos basic\")\n",
    "plt.xlabel(\"Running time (sec)\")\n",
    "plt.ylabel(\"Primal Suboptimality\")\n",
    "plt.ylim((0,1))\n",
    "plt.legend()\n",
    "plt.show()"
   ]
  },
  {
   "cell_type": "markdown",
   "metadata": {},
   "source": [
    "#### Running time per iteration\n",
    "To check if running time is constant across iteration as said in the article"
   ]
  },
  {
   "cell_type": "code",
   "execution_count": 26,
   "metadata": {},
   "outputs": [
    {
     "data": {
      "image/png": "[encoded data removed]",
      "text/plain": [
       "<matplotlib.figure.Figure at 0x7f346dd9b860>"
      ]
     },
     "metadata": {},
     "output_type": "display_data"
    }
   ],
   "source": [
    "plt.plot(result_peg_basic.rtime) \n",
    "plt.show()"
   ]
  },
  {
   "cell_type": "markdown",
   "metadata": {},
   "source": [
    "### Other variants\n",
    "\n",
    "Other implementations could have been followed. \n",
    "\n",
    "- A *mini-batch* version has been provided in the article. It has been shown that in practice no improvement is to see neither on running time nore in global performance. The only interesting aspect of this implementation is of course for parallelisation purposes but since we didn't plan to adapt our algorithm to this setting, we prefered not to follow this path.\n",
    "- A *kernelized* version exists for non linear SVM, with Mercier kernels. We prefer for comparison purpose and to handle the basic version to focus on linear SVM.\n",
    "- Include an *unregularized bias* in the loss which plays a role in unbalanced dataset: according to the authors, including an unregularized bias term does not significantly change the predictive performance for any of their data sets used. Furthermore, SDCA does not incorporate a bias term either. Nonetheless, there are clearly learning problems in specific setting (text processing for example)."
   ]
  },
  {
   "cell_type": "markdown",
   "metadata": {},
   "source": [
    "## 2. Experimental comparison\n",
    "\n",
    "### Setting the framework\n",
    "\n",
    "A key feature of algorithm implementation that we, for now, avoid to deal with is the **stopping criterion**. Indeed we know to set a common framework for performance comparison purposes. Nevertheless, if in the SDCA definition is included a stopping rule -namely a duality gap lower than a given threshold-, the Pegasos is not conceived with an intrinsec stopping rule.\n",
    "\n",
    "After several experiments and readings (especially a conference by Bottou -http://leon.bottou.org/slides/largescale/lstut.pdf), we came with the following setting.\n",
    "\n",
    "**Process**: Since we want to assess the performance both on the *running time* and on the *accuracy* of the final prediction, we create a split between a training set and a validation set over which to monitor the convergence. Why ? Because since we want to be able to generalize out of the sample our results, we think that even in the optimisation process, the metric should be estimated on a blind dataset.\n",
    "\n",
    "**Metric**: Several metrics could be used, but because of the spirit of the algorithm we've chosen to focus on the primal suboptimality as in Shalev-Shwartz et al. (2007) on the validation set.\n",
    "\n",
    "**Stopping criteria**: As explained in Bottou, we should stop the gradient descent when the cost function stops descreasing. For evaluating this phenomenon, we set the difference between the primal function previous and current epoch to be smaller than a given threshold. After several experiments, 0.0001 seems to be a good value, but it remains as hyperparameters in our function in case of.\n",
    "\n",
    "**Final goodness-of-fit evaluation**: Moreover to push a little further in this direction, we split before any computation, the original dataset in two, a training one and a test one, so that after all optimisation of both algorithm their performances are computed on a totally new dataset.\n",
    "\n",
    "**In practice**: We split the original dataset in a training (80%) and a test (20%) set. Then each algorithm has for first step a partitioning of the train set in a training (80%) set and a validation (20%) set, such that the stopping criteria is computed over the validation set. In the end our dataset kept for estimation entails circa two thirds of the original one."
   ]
  },
  {
   "cell_type": "code",
   "execution_count": 27,
   "metadata": {},
   "outputs": [],
   "source": [
    "test_ratio = 0.2\n",
    "X_train, X_test, Y_train, Y_test = train_test_split(X, Y, test_size=test_ratio, shuffle=True, random_state = 0)"
   ]
  },
  {
   "cell_type": "code",
   "execution_count": 28,
   "metadata": {},
   "outputs": [],
   "source": [
    "def pegasos(X,Y,lamb, test_ratio=test_ratio, stop_thresh=0.0001 ): \n",
    "    \n",
    "    \"\"\"\n",
    "    Implement Pegasos in its variant definition \n",
    "    with stopping criterion on primal function estimated on a test dataset\n",
    "    \n",
    "    Inputs:\n",
    "        X: covariates matrix (n_samples,n_features) \n",
    "        Y: labels vector, coded as (-1,1), (n_samples)\n",
    "        lamb: regularization paramater\n",
    "        n_epoch: number of epoch\n",
    "    \n",
    "    Outputs:\n",
    "        primal_: primal suboptimality at each iteration (n_iter)\n",
    "        rtime: running time for each iteration (n_iter)\n",
    "        w: final weights (n_features)\n",
    "    \"\"\"\n",
    "    \n",
    "    X_train, X_val, Y_train, Y_val = train_test_split(X, Y, test_size=test_ratio, shuffle=True, \n",
    "                                                        random_state = 0)\n",
    "    m = len(Y_train) #number of observations\n",
    "    \n",
    "    #Initialisation\n",
    "    primal_val= []\n",
    "    rtime = []\n",
    "    w= np.zeros(n_features) \n",
    "    i=0\n",
    "    diff =50 #random number greater than stop_thresh\n",
    "    \n",
    "    while (abs(diff) > stop_thresh):\n",
    "        \n",
    "        start_time = time.perf_counter()\n",
    "        \n",
    "        # Shuffle datasets\n",
    "        p= np.random.permutation(m)\n",
    "        Xs=X_train[p]\n",
    "        Ys=Y_train[p]\n",
    "        \n",
    "        # Estimation step\n",
    "        for t in range(0,m):\n",
    "            eta = 1/(lamb*(t+1))\n",
    "            x, y= Xs[t], Ys[t]\n",
    "            subgrad= y*(w.dot(x))\n",
    "            if subgrad <1:\n",
    "                w=(1-eta*lamb)*w+ (eta*y)*x\n",
    "            else:\n",
    "                w=(1-eta*lamb)*w\n",
    "                    \n",
    "        # Validation step\n",
    "        cost_val = cum_loss_primal(w,X_val,Y_val, lamb)\n",
    "        primal_val.append(cost_val)\n",
    "        \n",
    "        if i>2:\n",
    "            diff = primal_val[i] - primal_val[i-1]\n",
    "        \n",
    "        i+=1\n",
    "        rtime.append(time.perf_counter() - start_time)\n",
    "\n",
    "    print(\"total number of epoch:\",i) \n",
    "    print(\"running time:\",sum(rtime), \"sec\") \n",
    "\n",
    "    print(\"After optimisation\")\n",
    "    print(\"Primal on validation\", cost_val)\n",
    "    output = namedtuple(\"output\", [\"primal_val\",\"rtime\", \"w\"])\n",
    "    out= output(primal_val, rtime, w)\n",
    "    return out"
   ]
  },
  {
   "cell_type": "code",
   "execution_count": 29,
   "metadata": {},
   "outputs": [
    {
     "name": "stdout",
     "output_type": "stream",
     "text": [
      "total number of epoch: 34\n",
      "running time: 1.233014068682678 sec\n",
      "After optimisation\n",
      "Primal on validation 0.194117955729\n"
     ]
    }
   ],
   "source": [
    "test_ratio = 0.2\n",
    "stop_thresh = 0.001\n",
    "result_peg = pegasos(X_train, Y_train, lamb, test_ratio, stop_thresh)"
   ]
  },
  {
   "cell_type": "code",
   "execution_count": 30,
   "metadata": {},
   "outputs": [
    {
     "data": {
      "image/png": "[encoded data removed]",
      "text/plain": [
       "<matplotlib.figure.Figure at 0x7f346d3beba8>"
      ]
     },
     "metadata": {},
     "output_type": "display_data"
    }
   ],
   "source": [
    "plt.plot(np.cumsum(result_peg.rtime),result_peg.primal_val, label = \"Pegasos augmented\")\n",
    "plt.ylim((0,1))\n",
    "plt.legend()\n",
    "plt.show()\n"
   ]
  },
  {
   "cell_type": "markdown",
   "metadata": {},
   "source": [
    "## SDCA\n",
    "\n",
    "We perform the same thing on our SDCA algorithm using a SGD initilization for the first epoch."
   ]
  },
  {
   "cell_type": "code",
   "execution_count": 31,
   "metadata": {
    "collapsed": true
   },
   "outputs": [],
   "source": [
    "def SDCA (X, Y, n_epoch, gamma, T_0_ratio, stop_thresh, lamb, SGD_init):\n",
    "    \"\"\"\n",
    "    SDCA Algorithm with a permutation of observations\n",
    "    at each epoch and a first epoch using Stochastic \n",
    "    Gradient Descent to initialize alpha and\n",
    "    stopping criterion on primal function estimated on a test dataset\n",
    "\n",
    "    Inputs:\n",
    "        X: covariates matrix (n_samples*n_features)\n",
    "        Y: labels vector (n_samples)\n",
    "        lamb: regularization (size 1)\n",
    "        n_epoch: number of epochs (size 1)\n",
    "        T_0_ratio: fraction indicating the share of iterations that we keep\n",
    "                    to compute the final alpha and w (size 1)\n",
    "        epsilon: primal loss threshold to exit the loop (size 1)\n",
    "        lamb: regularization (size 1)\n",
    "        sgd: indicates whether to use SGD for the first epoch (boolean)\n",
    "\n",
    "    Outputs:\n",
    "        Alpha: matrix of weights (each row corresponds to an epoch)\n",
    "        timelaps: vector of computational times (each element an epoch)\n",
    "        primal_loss_track: vector of primal losses (each element an epoch)\n",
    "        dual_loss_track: vector of dual losses (each element an epoch)\n",
    "        gaps_track : vector of duality gaps (each element an epoch)\n",
    "        W_bar: final weights, estimated by average method (n_features)\n",
    "        W_rand: final weights, estimated by random method (n_features)\n",
    "    \"\"\"\n",
    "    \n",
    "    X_train, X_val, Y_train, Y_val = train_test_split(X, Y, test_size=test_ratio, shuffle=True, \n",
    "                                                        random_state = 0)\n",
    "    \n",
    "    # To be closer to the article, we use the transpose of X in our computations\n",
    "    X_train=X_train.T\n",
    "    X_val=X_val.T\n",
    "    \n",
    "    # We initialize\n",
    "    n_samples = X_train.shape[1]\n",
    "    n_features = X_train.shape[0]\n",
    "    alpha= [0] * n_samples\n",
    "    W = w_from_alpha(alpha, X_train, lamb)\n",
    "    t = 0\n",
    "    timelaps = [0]\n",
    "    \n",
    "    # We record alpha and the loss on validation set\n",
    "    Alpha, primal_loss_track = [], []\n",
    "    Alpha.append(alpha.copy())\n",
    "    W = w_from_alpha(alpha, X_train, lamb)\n",
    "    primal_loss_track.append(cum_loss_primal(W, X_val.T, Y_val, lamb))\n",
    "    \n",
    "    m = len(Y_train) #number of observations\n",
    "    \n",
    "    diff=stop_thresh+1\n",
    "    while (diff > stop_thresh):\n",
    "        start = time.perf_counter()\n",
    "        indices = np.array(range(0, n_samples))\n",
    "        np.random.shuffle(indices)\n",
    "        for i in range(0, n_samples):\n",
    "            j = indices[i]\n",
    "            \n",
    "            # Initialization using SGD if desired\n",
    "            if (t==0) and (SGD_init==True):\n",
    "                alpha[i] = hinge_sgd_update(Y_train[i], W, X_train[:, i], i, lamb)\n",
    "                # Due to the evolving dimension of alpha, we compute w manually\n",
    "                W *= float(i) / float(i + 1)\n",
    "                W += (1 / (lamb * (i + 1))) * np.array(alpha[i]) * np.array(X_train[:, i])\n",
    "                \n",
    "             # SDCA for the rest\n",
    "            else:\n",
    "                delta_alpha = hinge_sdca_update(Y_train[j], W, X_train[:,j], n_samples, lamb, alpha[j], gamma)\n",
    "                alpha[j] += delta_alpha\n",
    "                W += (1 / (lamb * n_samples)) * delta_alpha * X_train[:,j]\n",
    "        \n",
    "        # Validation step     \n",
    "        cost_val = cum_loss_primal(W,X_val.T,Y_val, lamb)\n",
    "        primal_loss_track.append(cost_val)\n",
    "        \n",
    "        if t>2:\n",
    "            diff = primal_loss_track[t] - primal_loss_track[t-1]\n",
    "        \n",
    "        end = time.perf_counter()\n",
    "        timelaps.append(end - start)\n",
    "        Alpha.append(alpha.copy())\n",
    "        t += 1\n",
    "        \n",
    "    # Once it has converged we collect the weights using alpha\n",
    "        # average method\n",
    "    alpha_bar = np.mean(Alpha[-int(T_0_ratio*len(Alpha)):],axis=0)\n",
    "    W_bar = w_from_alpha(alpha_bar,X_train, lamb)\n",
    "    \n",
    "        # random method\n",
    "    k = np.random.randint(int(T_0_ratio*len(Alpha)),len(Alpha)-1)\n",
    "    alpha_rand = Alpha[k]\n",
    "    W_rand=w_from_alpha(alpha_rand, X_train, lamb)\n",
    "    \n",
    "    print(\"total number of epoch:\",t) \n",
    "    print(\"running time:\",sum(timelaps), \"sec\") \n",
    "\n",
    "    print(\"After optimisation\")\n",
    "    print(\"Primal on validation\", cost_val)\n",
    "    \n",
    "    output = namedtuple(\"output\", ([\"Alpha\",\"timelaps\", \"primal_loss_track\", \"W_bar\",\"W_rand\"]))\n",
    "    out= output(Alpha, timelaps, primal_loss_track, W_bar, W_rand)\n",
    "    return out"
   ]
  },
  {
   "cell_type": "code",
   "execution_count": 32,
   "metadata": {},
   "outputs": [
    {
     "name": "stdout",
     "output_type": "stream",
     "text": [
      "total number of epoch: 4\n",
      "running time: 0.6271367671433836 sec\n",
      "After optimisation\n",
      "Primal on validation 0.451533865342\n"
     ]
    }
   ],
   "source": [
    "T = 16\n",
    "gamma = 1.0\n",
    "T_0_ratio = 1/2 \n",
    "lamb = 1e-1\n",
    "SGD_init = False\n",
    "result_sdca = SDCA(X_train, Y_train, T, gamma, T_0_ratio, stop_thresh, lamb, SGD_init)"
   ]
  },
  {
   "cell_type": "code",
   "execution_count": 33,
   "metadata": {},
   "outputs": [
    {
     "data": {
      "image/png": "[encoded data removed]",
      "text/plain": [
       "<matplotlib.figure.Figure at 0x7f346d4eea20>"
      ]
     },
     "metadata": {},
     "output_type": "display_data"
    }
   ],
   "source": [
    "plt.plot(np.cumsum(result_sdca.timelaps),result_sdca.primal_loss_track, label = \"SDCA with SGD\")\n",
    "plt.ylim((0,1))\n",
    "plt.legend()\n",
    "plt.title(\"Evolution of primal loss\")\n",
    "plt.show()"
   ]
  },
  {
   "cell_type": "code",
   "execution_count": 41,
   "metadata": {},
   "outputs": [
    {
     "data": {
      "image/png": "[encoded data removed]",
      "text/plain": [
       "<matplotlib.figure.Figure at 0x7f346cfe98d0>"
      ]
     },
     "metadata": {},
     "output_type": "display_data"
    },
    {
     "data": {
      "image/png": "[encoded data removed]",
      "text/plain": [
       "<matplotlib.figure.Figure at 0x7f346cf7cbe0>"
      ]
     },
     "metadata": {},
     "output_type": "display_data"
    }
   ],
   "source": [
    "plt.figure(figsize=(12,8))\n",
    "plt.plot(np.cumsum(result_peg.rtime),result_peg.primal_val, label = \"Pegasos augmented\")\n",
    "plt.plot(np.cumsum(result_sdca.timelaps),result_sdca.primal_loss_track, label = \"SDCA with SGD\")\n",
    "plt.legend()\n",
    "plt.title(\"Evolution of primal loss\")\n",
    "plt.show()"
   ]
  },
  {
   "cell_type": "markdown",
   "metadata": {},
   "source": [
    "## Assessing goodness-of-fit\n",
    "We now use the untouched test dataset to compare traditionnal classification metric between our two algorithms."
   ]
  },
  {
   "cell_type": "code",
   "execution_count": 35,
   "metadata": {
    "collapsed": true
   },
   "outputs": [],
   "source": [
    "y_pred_peg = np.sign(X_test.dot(result_peg.w))"
   ]
  },
  {
   "cell_type": "code",
   "execution_count": 36,
   "metadata": {},
   "outputs": [
    {
     "name": "stdout",
     "output_type": "stream",
     "text": [
      "f1 Pegasos 0.926073926074\n"
     ]
    }
   ],
   "source": [
    "print(\"f1 Pegasos\",f1_score(Y_test, y_pred_peg))"
   ]
  },
  {
   "cell_type": "code",
   "execution_count": 37,
   "metadata": {},
   "outputs": [
    {
     "data": {
      "text/plain": [
       "array([[925,  83],\n",
       "       [ 65, 927]])"
      ]
     },
     "execution_count": 37,
     "metadata": {},
     "output_type": "execute_result"
    }
   ],
   "source": [
    "confusion_matrix(Y_test, y_pred_peg)"
   ]
  },
  {
   "cell_type": "code",
   "execution_count": 38,
   "metadata": {},
   "outputs": [
    {
     "data": {
      "image/png": "[encoded data removed]",
      "text/plain": [
       "<matplotlib.figure.Figure at 0x7f346d598320>"
      ]
     },
     "metadata": {},
     "output_type": "display_data"
    }
   ],
   "source": [
    "fpr, tpr, _ =metrics.roc_curve(Y_test, y_pred_peg)\n",
    "#roc_auc[\"micro\"] = auc(fpr[\"micro\"], tpr[\"micro\"])\n",
    "plt.figure()\n",
    "plt.plot([0, 1], [0, 1], 'k--')\n",
    "plt.plot(fpr, tpr, label='SVM (pegasos)')\n",
    "\n",
    "plt.xlabel('False positive rate')\n",
    "plt.ylabel('True positive rate')\n",
    "plt.title('ROC curve')\n",
    "plt.legend(loc='lower right')\n",
    "plt.show()"
   ]
  },
  {
   "cell_type": "code",
   "execution_count": null,
   "metadata": {
    "collapsed": true
   },
   "outputs": [],
   "source": []
  }
 ],
 "metadata": {
  "kernelspec": {
   "display_name": "Python 3",
   "language": "python",
   "name": "python3"
  },
  "language_info": {
   "codemirror_mode": {
    "name": "ipython",
    "version": 3
   },
   "file_extension": ".py",
   "mimetype": "text/x-python",
   "name": "python",
   "nbconvert_exporter": "python",
   "pygments_lexer": "ipython3",
   "version": "3.6.1"
  }
 },
 "nbformat": 4,
 "nbformat_minor": 2
}
