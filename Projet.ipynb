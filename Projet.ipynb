{
 "cells": [
  {
   "cell_type": "code",
   "execution_count": 31,
   "metadata": {
    "collapsed": true
   },
   "outputs": [],
   "source": [
    "import numpy as np\n",
    "import pandas as pd\n",
    "import matplotlib.pyplot as plt\n",
    "import time\n",
    "from jyquickhelper import add_notebook_menu"
   ]
  },
  {
   "cell_type": "code",
   "execution_count": 32,
   "metadata": {},
   "outputs": [
    {
     "data": {
      "text/html": [
       "<div id=\"my_id_menu_nb\">run previous cell, wait for 2 seconds</div>\n",
       "<script>\n",
       "function repeat_indent_string(n){\n",
       "    var a = \"\" ;\n",
       "    for ( ; n > 0 ; --n)\n",
       "        a += \"    \";\n",
       "    return a;\n",
       "}\n",
       "// look up into all sections and builds an automated menu //\n",
       "var update_menu_string = function(begin, lfirst, llast, sformat, send, keep_item, begin_format, end_format) {\n",
       "    var anchors = document.getElementsByClassName(\"section\");\n",
       "    if (anchors.length == 0) {\n",
       "        anchors = document.getElementsByClassName(\"text_cell_render rendered_html\");\n",
       "    }\n",
       "    var i,t;\n",
       "    var text_menu = begin;\n",
       "    var text_memo = \"<pre>\\nlength:\" + anchors.length + \"\\n\";\n",
       "    var ind = \"\";\n",
       "    var memo_level = 1;\n",
       "    var href;\n",
       "    var tags = [];\n",
       "    var main_item = 0;\n",
       "    var format_open = 0;\n",
       "    for (i = 0; i <= llast; i++)\n",
       "        tags.push(\"h\" + i);\n",
       "\n",
       "    for (i = 0; i < anchors.length; i++) {\n",
       "        text_memo += \"**\" + anchors[i].id + \"--\\n\";\n",
       "\n",
       "        var child = null;\n",
       "        for(t = 0; t < tags.length; t++) {\n",
       "            var r = anchors[i].getElementsByTagName(tags[t]);\n",
       "            if (r.length > 0) {\n",
       "child = r[0];\n",
       "break;\n",
       "            }\n",
       "        }\n",
       "        if (child == null) {\n",
       "            text_memo += \"null\\n\";\n",
       "            continue;\n",
       "        }\n",
       "        if (anchors[i].hasAttribute(\"id\")) {\n",
       "            // when converted in RST\n",
       "            href = anchors[i].id;\n",
       "            text_memo += \"#1-\" + href;\n",
       "            // passer à child suivant (le chercher)\n",
       "        }\n",
       "        else if (child.hasAttribute(\"id\")) {\n",
       "            // in a notebook\n",
       "            href = child.id;\n",
       "            text_memo += \"#2-\" + href;\n",
       "        }\n",
       "        else {\n",
       "            text_memo += \"#3-\" + \"*\" + \"\\n\";\n",
       "            continue;\n",
       "        }\n",
       "        var title = child.textContent;\n",
       "        var level = parseInt(child.tagName.substring(1,2));\n",
       "\n",
       "        text_memo += \"--\" + level + \"?\" + lfirst + \"--\" + title + \"\\n\";\n",
       "\n",
       "        if ((level < lfirst) || (level > llast)) {\n",
       "            continue ;\n",
       "        }\n",
       "        if (title.endsWith('¶')) {\n",
       "            title = title.substring(0,title.length-1).replace(\"<\", \"&lt;\")\n",
       "         .replace(\">\", \"&gt;\").replace(\"&\", \"&amp;\");\n",
       "        }\n",
       "        if (title.length == 0) {\n",
       "            continue;\n",
       "        }\n",
       "\n",
       "        while (level < memo_level) {\n",
       "            text_menu += end_format + \"</ul>\\n\";\n",
       "            format_open -= 1;\n",
       "            memo_level -= 1;\n",
       "        }\n",
       "        if (level == lfirst) {\n",
       "            main_item += 1;\n",
       "        }\n",
       "        if (keep_item != -1 && main_item != keep_item + 1) {\n",
       "            // alert(main_item + \" - \" + level + \" - \" + keep_item);\n",
       "            continue;\n",
       "        }\n",
       "        while (level > memo_level) {\n",
       "            text_menu += \"<ul>\\n\";\n",
       "            memo_level += 1;\n",
       "        }\n",
       "        text_menu += repeat_indent_string(level-2);\n",
       "        text_menu += begin_format + sformat.replace(\"__HREF__\", href).replace(\"__TITLE__\", title);\n",
       "        format_open += 1;\n",
       "    }\n",
       "    while (1 < memo_level) {\n",
       "        text_menu += end_format + \"</ul>\\n\";\n",
       "        memo_level -= 1;\n",
       "        format_open -= 1;\n",
       "    }\n",
       "    text_menu += send;\n",
       "    //text_menu += \"\\n\" + text_memo;\n",
       "\n",
       "    while (format_open > 0) {\n",
       "        text_menu += end_format;\n",
       "        format_open -= 1;\n",
       "    }\n",
       "    return text_menu;\n",
       "};\n",
       "var update_menu = function() {\n",
       "    var sbegin = \"\";\n",
       "    var sformat = '<a href=\"#__HREF__\">__TITLE__</a>';\n",
       "    var send = \"\";\n",
       "    var begin_format = '<li>';\n",
       "    var end_format = '</li>';\n",
       "    var keep_item = -1;\n",
       "    var text_menu = update_menu_string(sbegin, 2, 4, sformat, send, keep_item,\n",
       "       begin_format, end_format);\n",
       "    var menu = document.getElementById(\"my_id_menu_nb\");\n",
       "    menu.innerHTML=text_menu;\n",
       "};\n",
       "window.setTimeout(update_menu,2000);\n",
       "            </script>"
      ],
      "text/plain": [
       "<IPython.core.display.HTML object>"
      ]
     },
     "execution_count": 32,
     "metadata": {},
     "output_type": "execute_result"
    }
   ],
   "source": [
    "add_notebook_menu()"
   ]
  },
  {
   "cell_type": "markdown",
   "metadata": {},
   "source": [
    "## Génération des données"
   ]
  },
  {
   "cell_type": "code",
   "execution_count": 30,
   "metadata": {},
   "outputs": [],
   "source": [
    "np.random.seed(0)\n",
    "\n",
    "n_samples, n_features = 10000, 20\n",
    "X = np.random.randn(n_features, n_samples)\n",
    "W_real = np.random.randn(n_features)\n",
    "Y= np.sign(np.dot(X.T,W_real) + np.random.randn(n_samples))"
   ]
  },
  {
   "cell_type": "markdown",
   "metadata": {
    "collapsed": true
   },
   "source": [
    "## Définition de la fonction de perte"
   ]
  },
  {
   "cell_type": "code",
   "execution_count": 2,
   "metadata": {},
   "outputs": [],
   "source": [
    "# Perte primale\n",
    "def hinge_loss(a, y):\n",
    "    \"\"\"\n",
    "        y: label\n",
    "        a: prediction\n",
    "    \"\"\"\n",
    "    return np.maximum(0, 1 - y * a)\n",
    "\n",
    "# Duale\n",
    "def hinge_dual(u, y):\n",
    "    \"\"\"\n",
    "        y: label\n",
    "        u: prediction\n",
    "    \"\"\"\n",
    "    prod = u * y\n",
    "    prod[prod > 0] = np.inf\n",
    "    prod[prod < -1] = np.inf\n",
    "    return prod\n",
    "\n"
   ]
  },
  {
   "cell_type": "markdown",
   "metadata": {},
   "source": [
    "## Algorithme SDCA"
   ]
  },
  {
   "cell_type": "markdown",
   "metadata": {},
   "source": [
    "### Fonctions intermédiaires"
   ]
  },
  {
   "cell_type": "markdown",
   "metadata": {},
   "source": [
    "On commence par mettre en place plusieurs fonctions qui vont nous être utiles dans l'algorithme"
   ]
  },
  {
   "cell_type": "code",
   "execution_count": 3,
   "metadata": {
    "collapsed": true
   },
   "outputs": [],
   "source": [
    "def w_from_alpha(alpha, X, lamb):\n",
    "    \"\"\"\n",
    "        Obtenir les poids w du primal a partir de alpha\n",
    "        alpha: vecteur de poids dans le dual\n",
    "        X: variables explicatives\n",
    "        lamb: regularisation\n",
    "    \"\"\"\n",
    "    n = X.shape[1]\n",
    "    return (1 / (n * lamb)) * np.dot(X,alpha)"
   ]
  },
  {
   "cell_type": "code",
   "execution_count": 4,
   "metadata": {
    "collapsed": true
   },
   "outputs": [],
   "source": [
    "# La def est p.573 du papier\n",
    "def cum_loss_primal(W, X, Y, lamb):\n",
    "    \"\"\"\n",
    "        Calculer la perte primale cumulee (inclut penalisation)\n",
    "        w: vecteur de poids dans le primal\n",
    "        X: variables explicatives\n",
    "        y: label a predire\n",
    "        lamb: regularisation\n",
    "    \"\"\"\n",
    "    cumloss = np.mean(hinge_loss(np.dot(X.T,W), Y))\n",
    "    penal = (lamb / 2) * np.power(np.linalg.norm(W), 2)\n",
    "    return cumloss + penal"
   ]
  },
  {
   "cell_type": "code",
   "execution_count": 5,
   "metadata": {
    "collapsed": true
   },
   "outputs": [],
   "source": [
    "# La def est p.573 du papier\n",
    "def cum_loss_dual(alpha, W, Y, lamb):\n",
    "    \"\"\"\n",
    "        Calculer la perte duale cumulee (inclut penalisation)\n",
    "        alpha: vecteur de poids dans le dual\n",
    "        X: variables explicatives\n",
    "        y: label a predire\n",
    "        lamb: regularisation\n",
    "    \"\"\"   \n",
    "    # On doit d'abord extraire w de alpha\n",
    "    W = w_from_alpha(alpha, X, lamb)\n",
    "    cumloss = np.mean(- hinge_dual(- alpha, Y))\n",
    "    penal = -(lamb / 2) * np.power(np.linalg.norm(W), 2)\n",
    "    return cumloss + penal"
   ]
  },
  {
   "cell_type": "code",
   "execution_count": 33,
   "metadata": {
    "collapsed": true
   },
   "outputs": [],
   "source": [
    "# Update de alpha\n",
    "def hinge_sdca_update(y, W, X, n, lamb, alpha, gamma=0):\n",
    "    # p.577 du papier\n",
    "    \"\"\"\n",
    "        Update alpha pour la hinge loss\n",
    "        Y: label\n",
    "        W: poids actuels\n",
    "        X: inputs\n",
    "        n: nombre de samples\n",
    "        lamb: step\n",
    "        alpha: variable du dual (reel)\n",
    "        gamma: smoothness\n",
    "    \"\"\"\n",
    "    n=X.shape[0]\n",
    "    minim = min(1, ((1-np.dot(X.T,W)*y)*n*lamb/(np.power(np.linalg.norm(X), 2))+alpha*y))\n",
    "    delta_alpha = y* max(0, minim)-alpha\n",
    "    return (delta_alpha) "
   ]
  },
  {
   "cell_type": "code",
   "execution_count": 6,
   "metadata": {
    "collapsed": true
   },
   "outputs": [],
   "source": [
    "def duality_gap(alpha, X, y, lamb):\n",
    "    \"\"\"\n",
    "        Calcule le duality gap (diff des loss)\n",
    "        alpha: vecteur de poids dans le dual\n",
    "        X: variables explicatives\n",
    "        y: label a predire\n",
    "        lamb: regularisation\n",
    "    \"\"\"\n",
    "    # On doit d'abord extraire w de alpha\n",
    "    W = w_from_alpha(alpha, X, lamb)\n",
    "    primal = cum_loss_primal(W, X, Y, lamb)\n",
    "    dual = cum_loss_dual(alpha, X, Y, lamb)\n",
    "    return primal - dual"
   ]
  },
  {
   "cell_type": "markdown",
   "metadata": {},
   "source": [
    "### Algorithme classique, avec permutations"
   ]
  },
  {
   "cell_type": "markdown",
   "metadata": {},
   "source": [
    "On passe ensuite a l'algorithme a proprement parler"
   ]
  },
  {
   "cell_type": "code",
   "execution_count": 7,
   "metadata": {
    "collapsed": true
   },
   "outputs": [],
   "source": [
    "def SDCA (X, Y, T, gamma, T_0_ratio, epsilon, lamb):\n",
    "    \"\"\"\n",
    "        Algorithme SDCA classique\n",
    "        X: variables explicatives\n",
    "        y: label a predire\n",
    "        T: nombre d'epoch\n",
    "        gamma: parametre de smoothing, 1 etant tres smooth\n",
    "        T_0_ratio: fraction qui indique quelle part des iterations on conserve\n",
    "                    pour moyenner et obtenir alpha et w finaux\n",
    "        lamb: regularisation\n",
    "    \"\"\"\n",
    "    n_samples = X.shape[1]\n",
    "    n_features=X.shape[0]\n",
    "    Alpha=[]\n",
    "    alpha= [0] * n_samples\n",
    "    Alpha.append(alpha.copy())\n",
    "    \n",
    "    # On enregistre la primal loss\n",
    "    primal_loss_track = []\n",
    "    W = w_from_alpha(alpha, X, lamb)\n",
    "    primal_loss_track.append(cum_loss_primal(W, X, Y, lamb))\n",
    "    \n",
    "    # On enregistre la dual loss\n",
    "    dual_loss_track = []\n",
    "    dual_loss_track.append(cum_loss_dual(np.array(Alpha[0]), X, Y, lamb))\n",
    "    \n",
    "    # On enregistre le duality gap\n",
    "    gaps_track = []\n",
    "    gap = duality_gap(np.array(Alpha[0]), X, Y, lamb)\n",
    "    gaps_track.append(gap)\n",
    "\n",
    "    t = 0\n",
    "    timelaps = [0]\n",
    "    dual_loss=epsilon+1\n",
    "    \n",
    "    \n",
    "    #while (gap > epsilon) and (t < T) :\n",
    "    while (t < T) :\n",
    "        start = time.perf_counter()\n",
    "        indices = np.array(range(0, n_samples))\n",
    "        np.random.shuffle(indices)\n",
    "        for i in range(0, n_samples):\n",
    "            j = indices[i]\n",
    "            delta_alpha = hinge_sdca_update(Y[j], W, X[:,j], n_samples, lamb, alpha[j], gamma)\n",
    "            alpha[j] += delta_alpha\n",
    "            W += (1 / (lamb * n_samples)) * delta_alpha * X[:,j]\n",
    "        end = time.perf_counter()\n",
    "        timelaps.append(end - start)\n",
    "        #A la fin de chaque epoch, on enregistre\n",
    "        # alpha\n",
    "        Alpha.append(alpha.copy())\n",
    "        # la primal loss\n",
    "        primal_loss_track.append(cum_loss_primal(W, X, Y, lamb))\n",
    "        # la dual loss\n",
    "        dual_loss=cum_loss_dual(np.array(alpha), X, Y, lamb)\n",
    "        dual_loss_track.append(cum_loss_dual(np.array(alpha), X, Y, lamb))\n",
    "        # le duality gap\n",
    "        gap = duality_gap(np.array(alpha), X, Y, lamb)\n",
    "        gaps_track.append(gap)\n",
    "        t += 1\n",
    "    \n",
    "    # Une fois que l'algorithme a converge, on recupere les weights a partir de la matrice alpha\n",
    "    alpha_bar = np.mean(Alpha[-int(T_0_ratio*T):],axis=0)\n",
    "    W_bar = w_from_alpha(alpha_bar,X, lamb)\n",
    "    \n",
    "    # Sortie aleatoire\n",
    "    k = np.random.randint(int(T_0_ratio*T),T-2)\n",
    "    alpha_rand = Alpha[k]\n",
    "    W_rand=w_from_alpha(alpha_rand, X, lamb)\n",
    "    \n",
    "    return(Alpha, timelaps, primal_loss_track, dual_loss_track, gaps_track, W_bar, W_rand)"
   ]
  },
  {
   "cell_type": "markdown",
   "metadata": {},
   "source": [
    "#### Résultats pour les données simulées"
   ]
  },
  {
   "cell_type": "code",
   "execution_count": 8,
   "metadata": {},
   "outputs": [],
   "source": [
    "T = 20\n",
    "gamma = 1.0\n",
    "T_0_ratio = 1/2\n",
    "epsilon =1e-7 \n",
    "lamb = 1e-1\n",
    "[Alpha, timelaps, primal_loss_track, dual_loss_track, gaps_track, W_bar, W_rand]=(SDCA(X,\n",
    "                                                                                       Y, \n",
    "                                                                                       T, \n",
    "                                                                                       gamma,\n",
    "                                                                                       T_0_ratio,\n",
    "                                                                                       epsilon,\n",
    "                                                                                       lamb))"
   ]
  },
  {
   "cell_type": "markdown",
   "metadata": {},
   "source": [
    "On regarde l'évolution de la perte primale et du duality gap"
   ]
  },
  {
   "cell_type": "code",
   "execution_count": 9,
   "metadata": {},
   "outputs": [
    {
     "data": {
      "image/png": "[encoded data removed]",
      "text/plain": [
       "<matplotlib.figure.Figure at 0x7f79478b2048>"
      ]
     },
     "metadata": {},
     "output_type": "display_data"
    }
   ],
   "source": [
    "plt.figure(figsize=(12,5))\n",
    "plt.plot([2,1])\n",
    "plt.subplot(121)\n",
    "plt.plot(np.cumsum(timelaps), primal_loss_track , label=\"perte primale\")\n",
    "plt.ylabel(\"Perte\")\n",
    "plt.xlabel(\"CPU time\")\n",
    "plt.legend()\n",
    "plt.title(\"Evolution de la perte primale\")\n",
    "\n",
    "plt.subplot(122)\n",
    "plt.plot(np.cumsum(timelaps), gaps_track , label=\"duality gap\")\n",
    "plt.ylabel(\"Perte\")\n",
    "plt.xlabel(\"CPU time\")\n",
    "plt.legend()\n",
    "plt.title(\"Evolution du duality gap\")\n",
    "plt.show()"
   ]
  },
  {
   "cell_type": "markdown",
   "metadata": {},
   "source": [
    "### Algorithme avec pas décroissant"
   ]
  },
  {
   "cell_type": "code",
   "execution_count": 12,
   "metadata": {
    "collapsed": true
   },
   "outputs": [],
   "source": [
    "def SDCA_decreasing_step (X, Y, T, gamma, T_0_ratio, epsilon, lamb, decreasing_step):\n",
    "    \"\"\"\n",
    "        Algorithme SDCA classique\n",
    "        X: variables explicatives\n",
    "        y: label a predire\n",
    "        T: nombre d'epoch\n",
    "        gamma: parametre de smoothing, 1 etant tres smooth\n",
    "        T_0_ratio: fraction qui indique quelle part des iterations on conserve\n",
    "                    pour moyenner et obtenir alpha et w finaux\n",
    "        lamb: regularisation\n",
    "        decreasing_step: indicates whether the step decreases with iterations\n",
    "    \"\"\"\n",
    "    n_samples = X.shape[1]\n",
    "    n_features=X.shape[0]\n",
    "    Alpha=[]\n",
    "    alpha= [0] * n_samples\n",
    "    Alpha.append(alpha.copy())\n",
    "    \n",
    "    # On enregistre la primal loss\n",
    "    primal_loss_track = []\n",
    "    W = w_from_alpha(alpha, X, lamb)\n",
    "    primal_loss_track.append(cum_loss_primal(W, X, Y, lamb))\n",
    "    \n",
    "    # On enregistre la dual loss\n",
    "    dual_loss_track = []\n",
    "    dual_loss_track.append(cum_loss_dual(np.array(Alpha[0]), X, Y, lamb))\n",
    "    \n",
    "    # On enregistre le duality gap\n",
    "    gaps_track = []\n",
    "    gap = duality_gap(np.array(Alpha[0]), X, Y, lamb)\n",
    "    gaps_track.append(gap)\n",
    "\n",
    "    t = 0\n",
    "    timelaps = [0]\n",
    "    dual_loss=epsilon+1\n",
    "    \n",
    "    \n",
    "    #while (gap > epsilon) and (t < T) :\n",
    "    while (t < T) :\n",
    "        start = time.perf_counter()\n",
    "        indices = np.array(range(0, n_samples))\n",
    "        np.random.shuffle(indices)\n",
    "        for i in range(0, n_samples):\n",
    "            j = indices[i]\n",
    "            \n",
    "            if (decreasing_step == True):\n",
    "                delta_alpha = hinge_sdca_update(Y[j], W, X[:,j], t, lamb, alpha[j], gamma)\n",
    "            else:\n",
    "                delta_alpha = hinge_sdca_update(Y[j], W, X[:,j], n_samples, lamb, alpha[j], gamma)\n",
    "            alpha[j] += delta_alpha\n",
    "            W += (1 / (lamb * n_samples)) * delta_alpha * X[:,j]\n",
    "        end = time.perf_counter()\n",
    "        timelaps.append(end - start)\n",
    "        #A la fin de chaque epoch, on enregistre\n",
    "        # alpha\n",
    "        Alpha.append(alpha.copy())\n",
    "        # la primal loss\n",
    "        primal_loss_track.append(cum_loss_primal(W, X, Y, lamb))\n",
    "        # la dual loss\n",
    "        dual_loss=cum_loss_dual(np.array(alpha), X, Y, lamb)\n",
    "        dual_loss_track.append(cum_loss_dual(np.array(alpha), X, Y, lamb))\n",
    "        # le duality gap\n",
    "        gap = duality_gap(np.array(alpha), X, Y, lamb)\n",
    "        gaps_track.append(gap)\n",
    "        t += 1\n",
    "    \n",
    "    # Une fois que l'algorithme a converge, on recupere les weights a partir de la matrice alpha\n",
    "    alpha_bar = np.mean(Alpha[-int(T_0_ratio*T):],axis=0)\n",
    "    W_bar = w_from_alpha(alpha_bar,X, lamb)\n",
    "    \n",
    "    # Sortie aleatoire\n",
    "    k = np.random.randint(int(T_0_ratio*T),T-2)\n",
    "    alpha_rand = Alpha[k]\n",
    "    W_rand=w_from_alpha(alpha_rand, X, lamb)\n",
    "    \n",
    "    return(Alpha, timelaps, primal_loss_track, dual_loss_track, gaps_track, W_bar, W_rand)"
   ]
  },
  {
   "cell_type": "markdown",
   "metadata": {},
   "source": [
    "#### Résultats pour les données simulées"
   ]
  },
  {
   "cell_type": "code",
   "execution_count": 14,
   "metadata": {},
   "outputs": [],
   "source": [
    "T = 20\n",
    "gamma = 1.0\n",
    "T_0_ratio = 1/2\n",
    "epsilon =1e-7 \n",
    "lamb = 1e-1\n",
    "[Alpha, timelaps, primal_loss_track, dual_loss_track, gaps_track, W_bar, W_rand]=(SDCA_decreasing_step(X,\n",
    "                                                                                                       Y, \n",
    "                                                                                                       T, \n",
    "                                                                                                       gamma,\n",
    "                                                                                                       T_0_ratio,\n",
    "                                                                                                       epsilon,\n",
    "                                                                                                       lamb,\n",
    "                                                                                                       True))"
   ]
  },
  {
   "cell_type": "markdown",
   "metadata": {},
   "source": [
    "On regarde l'évolution de la perte primale et du duality gap"
   ]
  },
  {
   "cell_type": "code",
   "execution_count": 15,
   "metadata": {},
   "outputs": [
    {
     "data": {
      "image/png": "[encoded data removed]",
      "text/plain": [
       "<matplotlib.figure.Figure at 0x7f79450b0400>"
      ]
     },
     "metadata": {},
     "output_type": "display_data"
    }
   ],
   "source": [
    "plt.figure(figsize=(12,5))\n",
    "plt.plot([2,1])\n",
    "plt.subplot(121)\n",
    "plt.plot(np.cumsum(timelaps), primal_loss_track , label=\"perte primale\")\n",
    "plt.ylabel(\"Perte\")\n",
    "plt.xlabel(\"CPU time\")\n",
    "plt.legend()\n",
    "plt.title(\"Evolution de la perte primale\")\n",
    "\n",
    "plt.subplot(122)\n",
    "plt.plot(np.cumsum(timelaps), gaps_track , label=\"duality gap\")\n",
    "plt.ylabel(\"Perte\")\n",
    "plt.xlabel(\"CPU time\")\n",
    "plt.legend()\n",
    "plt.title(\"Evolution du duality gap\")\n",
    "plt.show()"
   ]
  },
  {
   "cell_type": "markdown",
   "metadata": {},
   "source": [
    "### Algorithme avec Stochastic Gradient Descent pour la premiere epoch"
   ]
  },
  {
   "cell_type": "markdown",
   "metadata": {},
   "source": [
    "##### Cas du primal avec hinge loss\n",
    "\n",
    "On appelle $S$ un ensemble de points, $x_i \\in \\mathbb{R}^{n}$ et les labels correspondants, $y_i \\in \\{−1,1\\}$. On cherche un hyperplan qui minimiserait la hinge loss totale.\n",
    "\n",
    "\\begin{equation}\n",
    "w^* = \\underset{w}{\\text{argmin }} L^{hinge}_S(w) = \\underset{w}{\\text{argmin }} \\sum_i{l_{hinge}(w,x_i,y_i)}= \\underset{w}{\\text{argmin }} \\sum_i{\\max{\\{0,1-y_iw\\cdot x_i}\\}}\n",
    "\\end{equation}\n",
    "\n",
    "On identifie le gradient:\n",
    "\n",
    "$$\\frac{\\partial{l_{hinge}}}{\\partial w}=\n",
    "\\begin{cases}\n",
    "  0  & y_iw\\cdot x_i \\geq 1 \\\\\n",
    "  -y_ix & y_iw\\cdot x_i < 1\n",
    "\\end{cases}$$\n",
    "\n",
    "On obtient alors l'update suivant\n",
    "\n",
    "$$w^{t+1}=\\left(1-\\frac{1}{t}\\right)w^{t} - \\frac{1|(y_i w^{t}\\cdot x_i)}{\\lambda t}x_i$$"
   ]
  },
  {
   "cell_type": "markdown",
   "metadata": {},
   "source": [
    "##### Cas du dual avec hinge loss\n",
    "\n",
    "Soit $t \\in \\{1,...,n\\}$\n",
    "\n",
    "\n",
    "Puisque pour la *Stochastic Gradient Descent*, on update selon une seule observation $t$ à chaque fois, l'objectif est de choisir le réel $\\alpha_t$ qui maximise : \n",
    "$$ - \\frac{1}{n} \\phi_t^{\\star}(-\\alpha_t) - \\frac{\\lambda}{2} ||w^{t}||^2$$\n",
    "Or, on a:\n",
    "$$ \\begin{align}\n",
    "w^{t} = &  w^{t-1} + \\Delta w\\\\\n",
    " = & w^{t-1} + \\frac{1}{\\lambda n}\\sum_{i = 1}^{n} \\Delta \\alpha _{i} x_i\\\\\n",
    " = & w^{t-1} + \\frac{1}{\\lambda n} \\Delta \\alpha _{t} x_t \\\\\n",
    " = & w^{t-1} + \\frac{1}{\\lambda n} \\alpha _{t} x_t \\\\\n",
    "\\end{align}$$\n",
    "En effet, $\\alpha_t$ est initialisé à 0 et le SGD sert à la première epoch seulement. On se retrouve donc à maximiser:\n",
    "\n",
    "$$ - \\phi_t^{\\star}(-\\alpha_t) - \\frac{\\lambda n}{2} ||w^{t-1} + \\frac{1}{\\lambda n} \\alpha _{t} x_t ||^2$$\n",
    "\n",
    "En développant : \n",
    "$$ \\alpha_t y_t - \\frac{\\lambda n}{2} \\left( ||w^{t-1}||^2 + 2 \\frac{\\alpha_t}{\\lambda n} \\langle w^{t-1}, x_t \\rangle + \\frac{\\alpha_t^2}{\\lambda^2 n^2}||x_t||^2 \\right)$$\n",
    "\n",
    "L'expression est concave du fait du terme de second ordre négatif. L'extremum sera donc un maximum. On applique la formule du maximizer dans un polynome de degré 2:\n",
    "$$ \\alpha_t^{\\star}= \\frac{\\lambda n}{||x_t||^2} \\left(y_t - x_t^T w^{t-1}\\right)$$\n",
    "\n",
    "\n",
    "Il faut toutefois éviter d'avoir une dual loss infinie. Il faut donc que $-\\alpha_t^{\\star}y \\in [-1,0] \\Leftrightarrow \\alpha_t^{\\star}y \\in [0,1]$\n",
    "\n",
    "On peut donc adapter l'algorithme pour qu'il incorpore un SGD pour la première epoch."
   ]
  },
  {
   "cell_type": "markdown",
   "metadata": {},
   "source": [
    "On commence par ajouter la fonction d'update du SGD"
   ]
  },
  {
   "cell_type": "code",
   "execution_count": 34,
   "metadata": {
    "collapsed": true
   },
   "outputs": [],
   "source": [
    "def hinge_sgd_update(y, W, X, t, lamb):    \n",
    "    \"\"\"\n",
    "        Calcule l'update SGD pour la premiere epoch\n",
    "        y: label a predire\n",
    "        W: vecteur des poids primaux\n",
    "        X: variables explicatives de l'observation t\n",
    "        t: iteration\n",
    "        lamb: regularisation\n",
    "    \"\"\"\n",
    "    alpha_star=((lamb * t) /  (np.linalg.norm(X)**2)) * (y - np.dot(X.T, W))\n",
    "    if (alpha_star *y <0) and (alpha_star *y >1):\n",
    "        print(\"Error SGD\")\n",
    "    return alpha_star"
   ]
  },
  {
   "cell_type": "code",
   "execution_count": 23,
   "metadata": {
    "collapsed": true
   },
   "outputs": [],
   "source": [
    "def SDCA_sgd (X, Y, T, gamma, T_0_ratio, epsilon, lamb, SGD_init):\n",
    "    \"\"\"\n",
    "        Algorithme SDCA, avec SGD eventuel pour la premiere epoch\n",
    "        X: variables explicatives\n",
    "        Y: label a predire\n",
    "        T: nombre d'epoch\n",
    "        gamma: parametre de smoothing, 1 etant tres smooth\n",
    "        T_0_ratio: fraction qui indique quelle part des iterations on conserve\n",
    "                    pour moyenner et obtenir alpha et w finaux\n",
    "        lamb: regularisation\n",
    "        SGD_init: initialisation premiere epoch par SGD\n",
    "    \"\"\"\n",
    "    n_samples = X.shape[1]\n",
    "    n_features=X.shape[0]\n",
    "    Alpha=[]\n",
    "    alpha= [0] * n_samples\n",
    "    Alpha.append(alpha.copy())\n",
    "    \n",
    "    # On enregistre la primal loss\n",
    "    primal_loss_track = []\n",
    "    W = w_from_alpha(alpha, X, lamb)\n",
    "    primal_loss_track.append(cum_loss_primal(W, X, Y, lamb))\n",
    "    \n",
    "    # On enregistre la dual loss\n",
    "    dual_loss_track = []\n",
    "    dual_loss_track.append(cum_loss_dual(np.array(Alpha[0]), X, Y, lamb))\n",
    "    \n",
    "    # On enregistre le duality gap\n",
    "    gaps_track = []\n",
    "    gap = duality_gap(np.array(Alpha[0]), X, Y, lamb)\n",
    "    gaps_track.append(gap)\n",
    "\n",
    "    t = 0\n",
    "    timelaps = [0]\n",
    "    dual_loss=epsilon+1\n",
    "    \n",
    "    \n",
    "    while (gap > epsilon) and (t < T) :\n",
    "        start = time.perf_counter()\n",
    "        indices = np.array(range(0, n_samples))\n",
    "        np.random.shuffle(indices)\n",
    "        for i in range(0, n_samples):\n",
    "            j = indices[i]\n",
    "            \n",
    "            # Initialisation eventuelle SGD, on doit cette fois prendre les coordonnees dans l'ordre\n",
    "            if (t==0) and (SGD_init==True):\n",
    "                alpha[i] = hinge_sgd_update(Y[i], W, X[:, i], i, lamb)\n",
    "                # Du fait de la dimension de alpha, on update w manuellement, coordonnee par coordonnee\n",
    "                W *= float(i) / float(i + 1)\n",
    "                W += (1 / (lamb * (i + 1))) * np.array(alpha[i]) * np.array(X[:, i])\n",
    "                \n",
    "             # Sinon SDCA standard\n",
    "            else:\n",
    "                delta_alpha = hinge_sdca_update(Y[j], W, X[:,j], n_samples, lamb, alpha[j], gamma)\n",
    "                alpha[j] += delta_alpha\n",
    "                W += (1 / (lamb * n_samples)) * delta_alpha * X[:,j]\n",
    "        \n",
    "        \n",
    "        end = time.perf_counter()\n",
    "        timelaps.append(end - start)\n",
    "        #A la fin de chaque epoch, on enregistre\n",
    "        # alpha\n",
    "        Alpha.append(alpha.copy())\n",
    "        # la primal loss\n",
    "        primal_loss_track.append(cum_loss_primal(W, X, Y, lamb))\n",
    "        # la dual loss\n",
    "        dual_loss=cum_loss_dual(np.array(alpha), X, Y, lamb)\n",
    "        dual_loss_track.append(cum_loss_dual(np.array(alpha), X,  Y, lamb))\n",
    "        # le duality gap\n",
    "        gap = duality_gap(np.array(alpha), X, Y, lamb)\n",
    "        gaps_track.append(gap)\n",
    "        t += 1\n",
    "    \n",
    "    # Une fois que l'algorithme a converge, on recupere les weights a partir de la matrice alpha\n",
    "    alpha_bar = np.mean(Alpha[-int(T_0_ratio*T):],axis=0)\n",
    "    W_bar = w_from_alpha(alpha_bar,X, lamb)\n",
    "    \n",
    "    # Sortie aleatoire\n",
    "    k = np.random.randint(int(T_0_ratio*T),T-2)\n",
    "    alpha_rand = Alpha[k]\n",
    "    W_rand=w_from_alpha(alpha_rand, X, lamb)\n",
    "    \n",
    "    return(Alpha, timelaps, primal_loss_track, dual_loss_track, gaps_track, W_bar, W_rand)"
   ]
  },
  {
   "cell_type": "markdown",
   "metadata": {},
   "source": [
    "#### Résultats pour les données simulées"
   ]
  },
  {
   "cell_type": "code",
   "execution_count": 26,
   "metadata": {},
   "outputs": [],
   "source": [
    "T = 20\n",
    "gamma = 1.0\n",
    "T_0_ratio = 1/2\n",
    "epsilon =1e-7 \n",
    "lamb = 1e-1\n",
    "SGD_init=True\n",
    "\n",
    "[Alpha, timelaps, primal_loss_track, dual_loss_track, gaps_track, W_bar, W_rand]=(SDCA_sgd(X,\n",
    "                                                                                       Y, \n",
    "                                                                                       T,  \n",
    "                                                                                       gamma,\n",
    "                                                                                       T_0_ratio,\n",
    "                                                                                       epsilon,\n",
    "                                                                                       lamb,\n",
    "                                                                                        SGD_init))"
   ]
  },
  {
   "cell_type": "markdown",
   "metadata": {},
   "source": [
    "On regarde l'évolution de la perte primale et du duality gap"
   ]
  },
  {
   "cell_type": "code",
   "execution_count": 27,
   "metadata": {},
   "outputs": [
    {
     "data": {
      "image/png": "[encoded data removed]",
      "text/plain": [
       "<matplotlib.figure.Figure at 0x7f79412aa2b0>"
      ]
     },
     "metadata": {},
     "output_type": "display_data"
    }
   ],
   "source": [
    "plt.figure(figsize=(12,5))\n",
    "plt.plot([2,1])\n",
    "plt.subplot(121)\n",
    "plt.plot(np.cumsum(timelaps), primal_loss_track , label=\"perte primale\")\n",
    "plt.ylabel(\"Perte\")\n",
    "plt.xlabel(\"CPU time\")\n",
    "plt.legend()\n",
    "plt.title(\"Evolution de la perte primale\")\n",
    "\n",
    "plt.subplot(122)\n",
    "plt.plot(np.cumsum(timelaps), gaps_track , label=\"duality gap\")\n",
    "plt.ylabel(\"Perte\")\n",
    "plt.xlabel(\"CPU time\")\n",
    "plt.legend()\n",
    "plt.title(\"Evolution du duality gap\")\n",
    "plt.show()"
   ]
  },
  {
   "cell_type": "markdown",
   "metadata": {},
   "source": [
    "### Comparaison des performances des différentes versions"
   ]
  },
  {
   "cell_type": "markdown",
   "metadata": {},
   "source": [
    "#### Smoothed hinge loss"
   ]
  },
  {
   "cell_type": "code",
   "execution_count": null,
   "metadata": {},
   "outputs": [],
   "source": [
    "# On définit la fonction qui update alpha pour la hinge loss\n",
    "    \n",
    "    \n",
    "# On définit la fonction qui update alpha pour la absolute deviation loss \n",
    "def update_absolute_deviation_loss(y, w, x, n, lamb, alpha, gamma=0):\n",
    "    \"\"\"\n",
    "        Update alpha pour la absolute deviation loss\n",
    "        y: label\n",
    "        w: poids actuels\n",
    "        x: inputs\n",
    "        n: nombre de samples\n",
    "        lamb: step\n",
    "        alpha: variable du dual\n",
    "        gamma: smoothness\n",
    "    \"\"\"\n",
    "    minim = min(1, ((y-np.dot(x.T,w))/(np.power(np.linalg.norm(x), 2)/(lamb*n)))+alpha)\n",
    "    delta_alpha = max(-1, minim)-alpha\n",
    "    return (delta_alpha)\n",
    "\n",
    "# On définit la fonction qui update alpha pour la smooth hinge loss \n",
    "def update_smoothed_hinge_loss(y, w, x, n, lamb, alpha, gamma):\n",
    "    \"\"\"\n",
    "        Update alpha pour la smoothed hinge loss \n",
    "        y: label\n",
    "        w: poids actuels\n",
    "        x: inputs\n",
    "        n: nombre de samples\n",
    "        lamb: step\n",
    "        alpha: variable du dual\n",
    "        gamma: smoothness\n",
    "    \"\"\"\n",
    "    minim = min(1, ((1-np.dot(x.T,w)*y-gamma*alpha*y)/(np.power(np.linalg.norm(x), 2/(lamb*n+gamma)))+alpha*y)\n",
    "    delta_alpha = y*max(0, minim)-alpha\n",
    "    return (delta_alpha)"
   ]
  }
 ],
 "metadata": {
  "kernelspec": {
   "display_name": "Python 3",
   "language": "python",
   "name": "python3"
  },
  "language_info": {
   "codemirror_mode": {
    "name": "ipython",
    "version": 3
   },
   "file_extension": ".py",
   "mimetype": "text/x-python",
   "name": "python",
   "nbconvert_exporter": "python",
   "pygments_lexer": "ipython3",
   "version": "3.6.1"
  }
 },
 "nbformat": 4,
 "nbformat_minor": 2
}
