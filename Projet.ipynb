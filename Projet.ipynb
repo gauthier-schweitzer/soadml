{
 "cells": [
  {
   "cell_type": "markdown",
   "metadata": {},
   "source": [
    "# SDCA"
   ]
  },
  {
   "cell_type": "markdown",
   "metadata": {},
   "source": [
    "On commence par mettre en place un algorithme SDCA classique"
   ]
  },
  {
   "cell_type": "markdown",
   "metadata": {},
   "source": [
    "### Génération des données"
   ]
  },
  {
   "cell_type": "code",
   "execution_count": 37,
   "metadata": {},
   "outputs": [],
   "source": [
    "import numpy as np\n",
    "import pandas as pd\n",
    "import matplotlib.pyplot as plt\n",
    "np.random.seed(0)\n",
    "\n",
    "n_samples, n_features = 1000, 5\n",
    "X = np.random.randn(n_samples, n_features)\n",
    "w_real = np.random.randn(n_features)\n",
    "y = np.sign(X.dot(w_real) + np.random.randn(n_samples))"
   ]
  },
  {
   "cell_type": "markdown",
   "metadata": {
    "collapsed": true
   },
   "source": [
    "### Définition des fonctions de perte"
   ]
  },
  {
   "cell_type": "code",
   "execution_count": 38,
   "metadata": {},
   "outputs": [],
   "source": [
    "# On définit la fonction qui update alpha pour la hinge loss\n",
    "def update_hinge_loss(y, w, x, n, lamb, alpha, gamma=0):\n",
    "    \"\"\"\n",
    "        Update alpha pour la hinge loss\n",
    "        y: label\n",
    "        w: poids actuels\n",
    "        x: inputs\n",
    "        n: nombre de samples\n",
    "        lamb: step\n",
    "        alpha: variable du dual\n",
    "        gamma: smoothness\n",
    "    \"\"\"\n",
    "    minim = min(1, ((1-x.dot(w)*y)/(x.dot(x)/(lamb*n)))+alpha*y)\n",
    "    delta_alpha = y* max(0, minim)-alpha\n",
    "    return (delta_alpha)     \n",
    "    \n",
    "# On définit la fonction qui update alpha pour la absolute deviation loss \n",
    "def update_absolute_deviation_loss(y, w, x, n, lamb, alpha, gamma=0):\n",
    "    \"\"\"\n",
    "        Update alpha pour la absolute deviation loss\n",
    "        y: label\n",
    "        w: poids actuels\n",
    "        x: inputs\n",
    "        n: nombre de samples\n",
    "        lamb: step\n",
    "        alpha: variable du dual\n",
    "        gamma: smoothness\n",
    "    \"\"\"\n",
    "    minim = min(1, ((y-x.dot(w))/(x.dot(x)/(lamb*n)))+alpha)\n",
    "    delta_alpha = max(-1, minim)-alpha\n",
    "    return (delta_alpha)\n",
    "\n",
    "# On définit la fonction qui update alpha pour la smooth hinge loss \n",
    "def update_smoothed_hinge_loss(y, w, x, n, lamb, alpha, gamma):\n",
    "    \"\"\"\n",
    "        Update alpha pour la smoothed hinge loss \n",
    "        y: label\n",
    "        w: poids actuels\n",
    "        x: inputs\n",
    "        n: nombre de samples\n",
    "        lamb: step\n",
    "        alpha: variable du dual\n",
    "        gamma: smoothness\n",
    "    \"\"\"\n",
    "    minim = min(1, ((1-x.dot(w)*y-gamma*alpha*y)/(x.dot(x)/(lamb*n+gamma)))+alpha*y)\n",
    "    delta_alpha = y*max(0, minim)-alpha\n",
    "    return (delta_alpha)"
   ]
  },
  {
   "cell_type": "markdown",
   "metadata": {},
   "source": [
    "### Définition de l'algorithme"
   ]
  },
  {
   "cell_type": "code",
   "execution_count": 43,
   "metadata": {},
   "outputs": [],
   "source": [
    "def SDCA (X, y, T, update_loss, gamma, T_0_ratio, lamb = 1e-5 ):\n",
    "    \"\"\"\n",
    "        Algorithme SDCA classique\n",
    "        X: variables explicatives\n",
    "        y: label a prdire\n",
    "        T: nombre d'epoch\n",
    "        update_loss: choix de la loss function qui influe l'update de alpha\n",
    "        gamma: parametre de smoothing, 1 etant tres smooth\n",
    "        T_0_ratio: fraction qui indique quelle part des iterations on conserve\n",
    "                    pour moyenner et obtenir alpha et w finaux\n",
    "        lamb: step\n",
    "    \"\"\"\n",
    "   \n",
    "    n_samples = len(y)\n",
    "    n_features=X.shape[1]\n",
    "    T = T*n_samples\n",
    "    T_0 = int(T * T_0_ratio)\n",
    "    \n",
    "    #Initialisations\n",
    "    W=np.zeros(n_features*T_0).reshape(T_0,n_features)\n",
    "    Alpha = np.zeros(n_samples*T_0).reshape(T_0,n_samples)\n",
    "\n",
    "    #On fait tourner les premieres iterations sans sauvegarder les resultats\n",
    "\n",
    "    for t in range (0,T-T_0):\n",
    "        i = np.random.random_integers(0,n_samples-1)\n",
    "        delta_alpha = update_loss(y[i], W[0], X[i], n_samples, lamb, Alpha[0][i], gamma)\n",
    "\n",
    "        # On update alpha\n",
    "        Alpha[0] = Alpha[0] \n",
    "        # On update la coordonnée de alpha qui correspond à l'observation choisie\n",
    "        Alpha[0][i]+=delta_alpha\n",
    "\n",
    "        # On update w\n",
    "        W[0] = W[0]+ (X[i].dot(delta_alpha))\n",
    "\n",
    "    #Puis on sauvegarde le reste\n",
    "\n",
    "    for t in range (0,T_0-1):\n",
    "        i = np.random.random_integers(0,n_samples-1)\n",
    "        delta_alpha = update_loss(y[i], W[t], X[i], n_samples, lamb, Alpha[t][i], gamma)\n",
    "\n",
    "        # On update alpha\n",
    "        Alpha[t+1] = Alpha[t] \n",
    "        # On update la coordonnée de alpha qui correspond à l'observation choisie\n",
    "        Alpha[t+1][i]+=delta_alpha\n",
    "\n",
    "        # On update w\n",
    "        W[t+1] = W[t]+ (X[i].dot(delta_alpha))\n",
    "\n",
    "    # Sortie en moyenne\n",
    "    alpha_bar = Alpha.mean(axis=0)\n",
    "    w_bar = W.mean(axis=0)\n",
    "    print(\"true weights\", w_real)\n",
    "    print(\"-------------------------------------\")\n",
    "    print(\"w bar\",w_bar)\n",
    "    print(\"squared norm of difference\",(w_real-w_bar).dot(w_real-w_bar))\n",
    "    \n",
    "    # Sortie aleatoire\n",
    "    j = np.random.random_integers(0,T_0-1)\n",
    "    alpha_rand = Alpha[j]\n",
    "    w_rand=W[j]\n",
    "    print(\"-------------------------------------\")\n",
    "    print(\"w random\",w_rand)\n",
    "    print(\"squared norm of difference\",(w_real-w_rand).dot(w_real-w_rand))"
   ]
  },
  {
   "cell_type": "markdown",
   "metadata": {},
   "source": [
    "### On fait tourner l'algorithme"
   ]
  },
  {
   "cell_type": "code",
   "execution_count": 45,
   "metadata": {},
   "outputs": [
    {
     "name": "stderr",
     "output_type": "stream",
     "text": [
      "/usr/local/lib/python3.5/dist-packages/ipykernel_launcher.py:30: DeprecationWarning: This function is deprecated. Please call randint(0, 999 + 1) instead\n",
      "/usr/local/lib/python3.5/dist-packages/ipykernel_launcher.py:44: DeprecationWarning: This function is deprecated. Please call randint(0, 999 + 1) instead\n"
     ]
    },
    {
     "name": "stdout",
     "output_type": "stream",
     "text": [
      "true weights [ 0.30972382 -0.73745619 -1.53691988 -0.56225483 -1.59951112]\n",
      "-------------------------------------\n",
      "w bar [ 0.19303797 -0.51860118 -1.16337421 -0.4275179  -1.25693034]\n",
      "squared norm of difference 0.336565111085642\n",
      "-------------------------------------\n",
      "w random [ 0.14624221 -0.58040864 -0.9776572  -0.55609604 -1.52462582]\n",
      "squared norm of difference 0.36981066425058257\n"
     ]
    },
    {
     "name": "stderr",
     "output_type": "stream",
     "text": [
      "/usr/local/lib/python3.5/dist-packages/ipykernel_launcher.py:64: DeprecationWarning: This function is deprecated. Please call randint(0, 4999 + 1) instead\n"
     ]
    }
   ],
   "source": [
    "#Hyperparametres\n",
    "SDCA(X, y, 10, update_smoothed_hinge_loss, 1.0 , 1/2, 1e-6)\n"
   ]
  },
  {
   "cell_type": "code",
   "execution_count": null,
   "metadata": {},
   "outputs": [],
   "source": []
  },
  {
   "cell_type": "code",
   "execution_count": null,
   "metadata": {},
   "outputs": [],
   "source": []
  }
 ],
 "metadata": {
  "kernelspec": {
   "display_name": "Python 3",
   "language": "python",
   "name": "python3"
  },
  "language_info": {
   "codemirror_mode": {
    "name": "ipython",
    "version": 3
   },
   "file_extension": ".py",
   "mimetype": "text/x-python",
   "name": "python",
   "nbconvert_exporter": "python",
   "pygments_lexer": "ipython3",
   "version": "3.5.2"
  }
 },
 "nbformat": 4,
 "nbformat_minor": 2
}
